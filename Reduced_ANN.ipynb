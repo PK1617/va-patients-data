{
 "cells": [
  {
   "cell_type": "code",
   "execution_count": 1,
   "id": "a834cbe7",
   "metadata": {},
   "outputs": [],
   "source": [
    "import numpy as np\n",
    "import pandas as pd\n",
    "\n",
    "from sklearn.pipeline import Pipeline\n",
    "from sklearn.model_selection import GridSearchCV, StratifiedKFold, train_test_split, cross_val_score\n",
    "from sklearn.preprocessing import  StandardScaler, LabelEncoder, OneHotEncoder, LabelBinarizer, MinMaxScaler\n",
    "from sklearn.compose import make_column_selector as selector\n",
    "from sklearn.compose import ColumnTransformer\n",
    "from sklearn.metrics import accuracy_score, classification_report, confusion_matrix\n",
    "\n",
    "from hyperopt import Trials, STATUS_OK, tpe\n",
    "from hyperas import optim\n",
    "from hyperas.distributions import choice, uniform\n",
    "import tensorflow as tf\n",
    "\n",
    "from keras.models import Sequential,load_model\n",
    "from keras.layers import Dense, LSTM, SimpleRNN, Dropout, GaussianNoise, Activation\n",
    "from keras.optimizers import Adam, SGD\n",
    "from tensorflow.keras.utils import to_categorical \n",
    "from keras.wrappers.scikit_learn import KerasClassifier"
   ]
  },
  {
   "cell_type": "code",
   "execution_count": 2,
   "id": "eb03c592",
   "metadata": {},
   "outputs": [],
   "source": [
    "#data function for reading and processing the train and test sets\n",
    "#necessary as an input for the optimisation algorithm\n",
    "def data():\n",
    "    #define input processing function\n",
    "    def process_attributes(df, train, test):\n",
    "        \n",
    "        #define and fit the scaler to the full dataset\n",
    "        cs = MinMaxScaler()\n",
    "        cs.fit(df_inputs.select_dtypes(np.number))\n",
    "        \n",
    "        #scale the numerical input variables\n",
    "        trainContinuous = cs.transform(train.select_dtypes(np.number))\n",
    "        testContinuous = cs.transform(test.select_dtypes(np.number))\n",
    "        \n",
    "        if 'Gender' in df.columns:\n",
    "            \n",
    "            #uncomment the code below to accommodate for any categorical columns\n",
    "            zipBinarizer = LabelBinarizer().fit(df[\"Gender\"])\n",
    "            trainCategorical = zipBinarizer.transform(train[\"Gender\"])\n",
    "            testCategorical = zipBinarizer.transform(test[\"Gender\"])\n",
    "\n",
    "            # construct our training and testing data points by concatenating\n",
    "            # the categorical features with the continuous features\n",
    "            trainX = np.hstack([trainContinuous, trainCategorical])\n",
    "            testX = np.hstack([testContinuous, testCategorical])\n",
    "            \n",
    "        else:\n",
    "            trainX=trainContinuous\n",
    "            testX=testContinuous\n",
    "                \n",
    "        \n",
    "        # return the concatenated training and testing data\n",
    "        return (trainX, testX)\n",
    "    \n",
    "    #read the excel datasets\n",
    "    df = pd.read_excel('Cleaned_Dataframe.xlsx')\n",
    "    df.set_index('Sample',inplace=True)\n",
    "    features=df.columns\n",
    "    \n",
    "    results_dataframe = pd.read_csv(\"SurvNet-glycans/result.txt\",header = None)\n",
    "    results_dataframe.columns=['Index','Score']\n",
    "    results_dataframe['Index'] = results_dataframe['Index'].astype(int)\n",
    "    reduced_features=features[results_dataframe['Index'].tolist()]\n",
    "    \n",
    "    #separate cancer markers and input data\n",
    "    df_outputs= df['Status']\n",
    "    df_inputs = df[reduced_features]\n",
    "    \n",
    "    X_train, X_test, y_train, y_test = train_test_split(df_inputs, df_outputs, random_state=100, stratify=df_outputs, test_size=0.3)\n",
    "    \n",
    "    #process the input sets\n",
    "    (X_train_sc, X_test_sc) = process_attributes(df_inputs, X_train, X_test)\n",
    "    \n",
    "    #encode the categorical output variables\n",
    "    #encode categorical outputs\n",
    "    lb = LabelBinarizer()\n",
    "    lb.fit(y_train)\n",
    "    train_outputs= lb.transform(y_train)\n",
    "    test_outputs= lb.transform(y_test)\n",
    "\n",
    "    Y_train = tf.keras.utils.to_categorical(train_outputs)\n",
    "    Y_test = tf.keras.utils.to_categorical(test_outputs)\n",
    "\n",
    "    return X_train_sc, Y_train, X_test_sc, Y_test, lb, reduced_features"
   ]
  },
  {
   "cell_type": "code",
   "execution_count": 3,
   "id": "53a3590c",
   "metadata": {},
   "outputs": [],
   "source": [
    "#define model and search space for the optimisation algorithm\n",
    "def model(X_train_sc, Y_train, X_test_sc, Y_test):\n",
    "    \n",
    "    #define ANN model and search space\n",
    "    def ANN():\n",
    "        \n",
    "        #define first two layers, possible alternatives for neurons in each,\n",
    "        #activation function, and dropout layers\n",
    "        model=Sequential()\n",
    "        Dropout_rate={{uniform(0, 0.3)}}\n",
    "        model.add(Dense({{choice([8,16, 24, 32, 64])}}))\n",
    "        model.add(Activation({{choice(['relu', 'sigmoid', 'tanh'])}}))\n",
    "\n",
    "        model.add(Dropout(Dropout_rate))\n",
    "\n",
    "        model.add(Dense({{choice([8,16, 24, 32, 64])}}))\n",
    "        model.add(Activation({{choice(['relu', 'sigmoid', 'tanh'])}}))\n",
    "\n",
    "        model.add(Dropout(Dropout_rate))\n",
    "        \n",
    "        #define output layer of the model\n",
    "        \n",
    "        model.add(Dense(2))\n",
    "        model.add(Activation('softmax'))\n",
    "        \n",
    "        #define optimisation algorithm for network training\n",
    "        optim=tf.keras.optimizers.Adam(learning_rate={{choice([ 0.001, 0.0005, 0.0001])}})\n",
    "        \n",
    "        #compile model and return it\n",
    "        model.compile(loss='categorical_crossentropy', metrics=['accuracy'],optimizer=optim)\n",
    "        \n",
    "        return model \n",
    "    \n",
    "    #encode and transform labels for model training\n",
    "    label_encoder = LabelEncoder()\n",
    "    y = label_encoder.fit_transform(np.argmax(Y_train,axis=1))\n",
    "    \n",
    "    #call the ANN and ddefine training epochs; define batch size alternatives\n",
    "    net = KerasClassifier(build_fn = ANN,\n",
    "                                 epochs={{choice([50,100,200])}},\n",
    "                                 batch_size= {{choice([32,64])}},\n",
    "                                 verbose = 0)\n",
    "    model = ANN()\n",
    "    \n",
    "    #set up cross-validation scoring, and returned variables\n",
    "    c = cross_val_score(net,\n",
    "                    X_train_sc, y,\n",
    "                    cv= StratifiedKFold(n_splits=5, shuffle=True),\n",
    "                    scoring='accuracy').mean()\n",
    "    print('Test accuracy:', c)\n",
    "    return {'loss': -c, 'status': STATUS_OK, 'model': model}"
   ]
  },
  {
   "cell_type": "code",
   "execution_count": 4,
   "id": "e5b46806",
   "metadata": {},
   "outputs": [
    {
     "name": "stdout",
     "output_type": "stream",
     "text": [
      "The model uses the following features: Index(['GP24', 'GP22'], dtype='object')\n"
     ]
    }
   ],
   "source": [
    "#call in data function for test evaluation later\n",
    "X_train, Y_train, X_test, Y_test, lb, selected_features = data()\n",
    "print('The model uses the following features:', selected_features)"
   ]
  },
  {
   "cell_type": "code",
   "execution_count": 5,
   "id": "384ae83e",
   "metadata": {},
   "outputs": [
    {
     "name": "stdout",
     "output_type": "stream",
     "text": [
      ">>> Imports:\n",
      "#coding=utf-8\n",
      "\n",
      "try:\n",
      "    import numpy as np\n",
      "except:\n",
      "    pass\n",
      "\n",
      "try:\n",
      "    import pandas as pd\n",
      "except:\n",
      "    pass\n",
      "\n",
      "try:\n",
      "    from sklearn.pipeline import Pipeline\n",
      "except:\n",
      "    pass\n",
      "\n",
      "try:\n",
      "    from sklearn.model_selection import GridSearchCV, StratifiedKFold, train_test_split, cross_val_score\n",
      "except:\n",
      "    pass\n",
      "\n",
      "try:\n",
      "    from sklearn.preprocessing import StandardScaler, LabelEncoder, OneHotEncoder, LabelBinarizer, MinMaxScaler\n",
      "except:\n",
      "    pass\n",
      "\n",
      "try:\n",
      "    from sklearn.compose import make_column_selector as selector\n",
      "except:\n",
      "    pass\n",
      "\n",
      "try:\n",
      "    from sklearn.compose import ColumnTransformer\n",
      "except:\n",
      "    pass\n",
      "\n",
      "try:\n",
      "    from sklearn.metrics import accuracy_score, classification_report, confusion_matrix\n",
      "except:\n",
      "    pass\n",
      "\n",
      "try:\n",
      "    from hyperopt import Trials, STATUS_OK, tpe\n",
      "except:\n",
      "    pass\n",
      "\n",
      "try:\n",
      "    from hyperas import optim\n",
      "except:\n",
      "    pass\n",
      "\n",
      "try:\n",
      "    from hyperas.distributions import choice, uniform\n",
      "except:\n",
      "    pass\n",
      "\n",
      "try:\n",
      "    import tensorflow as tf\n",
      "except:\n",
      "    pass\n",
      "\n",
      "try:\n",
      "    from keras.models import Sequential, load_model\n",
      "except:\n",
      "    pass\n",
      "\n",
      "try:\n",
      "    from keras.layers import Dense, LSTM, SimpleRNN, Dropout, GaussianNoise, Activation\n",
      "except:\n",
      "    pass\n",
      "\n",
      "try:\n",
      "    from keras.optimizers import Adam, SGD\n",
      "except:\n",
      "    pass\n",
      "\n",
      "try:\n",
      "    from tensorflow.keras.utils import to_categorical\n",
      "except:\n",
      "    pass\n",
      "\n",
      "try:\n",
      "    from keras.wrappers.scikit_learn import KerasClassifier\n",
      "except:\n",
      "    pass\n",
      "\n",
      "try:\n",
      "    from matplotlib import pyplot as plt\n",
      "except:\n",
      "    pass\n",
      "\n",
      ">>> Hyperas search space:\n",
      "\n",
      "def get_space():\n",
      "    return {\n",
      "        'Dropout_rate': hp.uniform('Dropout_rate', 0, 0.3),\n",
      "        'Dense': hp.choice('Dense', [8,16, 24, 32, 64]),\n",
      "        'Activation': hp.choice('Activation', ['relu', 'sigmoid', 'tanh']),\n",
      "        'Dense_1': hp.choice('Dense_1', [8,16, 24, 32, 64]),\n",
      "        'Activation_1': hp.choice('Activation_1', ['relu', 'sigmoid', 'tanh']),\n",
      "        'learning_rate': hp.choice('learning_rate', [ 0.001, 0.0005, 0.0001]),\n",
      "        'epochs': hp.choice('epochs', [50,100,200]),\n",
      "        'batch_size': hp.choice('batch_size', [32,64]),\n",
      "    }\n",
      "\n",
      ">>> Data\n",
      "   1: \n",
      "   2: #define input processing function\n",
      "   3: def process_attributes(df, train, test):\n",
      "   4:     \n",
      "   5:     #define and fit the scaler to the full dataset\n",
      "   6:     cs = MinMaxScaler()\n",
      "   7:     cs.fit(df_inputs.select_dtypes(np.number))\n",
      "   8:     \n",
      "   9:     #scale the numerical input variables\n",
      "  10:     trainContinuous = cs.transform(train.select_dtypes(np.number))\n",
      "  11:     testContinuous = cs.transform(test.select_dtypes(np.number))\n",
      "  12:     \n",
      "  13:     if 'Gender' in df.columns:\n",
      "  14:         \n",
      "  15:         #uncomment the code below to accommodate for any categorical columns\n",
      "  16:         zipBinarizer = LabelBinarizer().fit(df[\"Gender\"])\n",
      "  17:         trainCategorical = zipBinarizer.transform(train[\"Gender\"])\n",
      "  18:         testCategorical = zipBinarizer.transform(test[\"Gender\"])\n",
      "  19: \n",
      "  20:         # construct our training and testing data points by concatenating\n",
      "  21:         # the categorical features with the continuous features\n",
      "  22:         trainX = np.hstack([trainContinuous, trainCategorical])\n",
      "  23:         testX = np.hstack([testContinuous, testCategorical])\n",
      "  24:         \n",
      "  25:     else:\n",
      "  26:         trainX=trainContinuous\n",
      "  27:         testX=testContinuous\n",
      "  28:             \n",
      "  29:     \n",
      "  30:     # return the concatenated training and testing data\n",
      "  31:     return (trainX, testX)\n",
      "  32: \n",
      "  33: #read the excel datasets\n",
      "  34: df = pd.read_excel('Cleaned_Dataframe.xlsx')\n",
      "  35: df.set_index('Sample',inplace=True)\n",
      "  36: features=df.columns\n",
      "  37: \n",
      "  38: results_dataframe = pd.read_csv(\"SurvNet-glycans/result.txt\",header = None)\n",
      "  39: results_dataframe.columns=['Index','Score']\n",
      "  40: results_dataframe['Index'] = results_dataframe['Index'].astype(int)\n",
      "  41: reduced_features=features[results_dataframe['Index'].tolist()]\n",
      "  42: \n",
      "  43: #separate cancer markers and input data\n",
      "  44: df_outputs= df['Status']\n",
      "  45: df_inputs = df[reduced_features]\n",
      "  46: \n",
      "  47: X_train, X_test, y_train, y_test = train_test_split(df_inputs, df_outputs, random_state=100, stratify=df_outputs, test_size=0.3)\n",
      "  48: \n",
      "  49: #process the input sets\n",
      "  50: (X_train_sc, X_test_sc) = process_attributes(df_inputs, X_train, X_test)\n",
      "  51: \n",
      "  52: #encode the categorical output variables\n",
      "  53: #encode categorical outputs\n",
      "  54: lb = LabelBinarizer()\n",
      "  55: lb.fit(y_train)\n",
      "  56: train_outputs= lb.transform(y_train)\n",
      "  57: test_outputs= lb.transform(y_test)\n",
      "  58: \n",
      "  59: Y_train = tf.keras.utils.to_categorical(train_outputs)\n",
      "  60: Y_test = tf.keras.utils.to_categorical(test_outputs)\n",
      "  61: \n",
      "  62: \n",
      "  63: \n",
      "  64: \n",
      ">>> Resulting replaced keras model:\n",
      "\n",
      "   1: def keras_fmin_fnct(space):\n",
      "   2: \n",
      "   3:     \n",
      "   4:     #define ANN model and search space\n",
      "   5:     def ANN():\n",
      "   6:         \n",
      "   7:         #define first two layers, possible alternatives for neurons in each,\n",
      "   8:         #activation function, and dropout layers\n",
      "   9:         model=Sequential()\n",
      "  10:         Dropout_rate=space['Dropout_rate']\n",
      "  11:         model.add(Dense(space['Dense']))\n",
      "  12:         model.add(Activation(space['Activation']))\n",
      "  13: \n",
      "  14:         model.add(Dropout(Dropout_rate))\n",
      "  15: \n",
      "  16:         model.add(Dense(space['Dense_1']))\n",
      "  17:         model.add(Activation(space['Activation_1']))\n",
      "  18: \n",
      "  19:         model.add(Dropout(Dropout_rate))\n",
      "  20:         \n",
      "  21:         #define output layer of the model\n",
      "  22:         \n",
      "  23:         model.add(Dense(2))\n",
      "  24:         model.add(Activation('softmax'))\n",
      "  25:         \n",
      "  26:         #define optimisation algorithm for network training\n",
      "  27:         optim=tf.keras.optimizers.Adam(learning_rate=space['learning_rate'])\n",
      "  28:         \n",
      "  29:         #compile model and return it\n",
      "  30:         model.compile(loss='categorical_crossentropy', metrics=['accuracy'],optimizer=optim)\n",
      "  31:         \n",
      "  32:         return model \n",
      "  33:     \n",
      "  34:     #encode and transform labels for model training\n",
      "  35:     label_encoder = LabelEncoder()\n",
      "  36:     y = label_encoder.fit_transform(np.argmax(Y_train,axis=1))\n",
      "  37:     \n",
      "  38:     #call the ANN and ddefine training epochs; define batch size alternatives\n",
      "  39:     net = KerasClassifier(build_fn = ANN,\n",
      "  40:                                  epochs=space['epochs'],\n",
      "  41:                                  batch_size= space['batch_size'],\n",
      "  42:                                  verbose = 0)\n",
      "  43:     model = ANN()\n",
      "  44:     \n",
      "  45:     #set up cross-validation scoring, and returned variables\n",
      "  46:     c = cross_val_score(net,\n",
      "  47:                     X_train_sc, y,\n",
      "  48:                     cv= StratifiedKFold(n_splits=5, shuffle=True),\n",
      "  49:                     scoring='accuracy').mean()\n",
      "  50:     print('Test accuracy:', c)\n",
      "  51:     return {'loss': -c, 'status': STATUS_OK, 'model': model}\n",
      "  52: \n",
      "  0%|          | 0/50 [00:00<?, ?trial/s, best loss=?]"
     ]
    },
    {
     "name": "stderr",
     "output_type": "stream",
     "text": [
      "C:\\Users\\Alext\\anaconda3\\envs\\ML\\lib\\site-packages\\keras\\engine\\sequential.py:450: UserWarning: `model.predict_classes()` is deprecated and will be removed after 2021-01-01. Please use instead:* `np.argmax(model.predict(x), axis=-1)`,   if your model does multi-class classification   (e.g. if it uses a `softmax` last-layer activation).* `(model.predict(x) > 0.5).astype(\"int32\")`,   if your model does binary classification   (e.g. if it uses a `sigmoid` last-layer activation).\n",
      "  warnings.warn('`model.predict_classes()` is deprecated and '\n",
      "\n",
      "C:\\Users\\Alext\\anaconda3\\envs\\ML\\lib\\site-packages\\keras\\engine\\sequential.py:450: UserWarning: `model.predict_classes()` is deprecated and will be removed after 2021-01-01. Please use instead:* `np.argmax(model.predict(x), axis=-1)`,   if your model does multi-class classification   (e.g. if it uses a `softmax` last-layer activation).* `(model.predict(x) > 0.5).astype(\"int32\")`,   if your model does binary classification   (e.g. if it uses a `sigmoid` last-layer activation).\n",
      "  warnings.warn('`model.predict_classes()` is deprecated and '\n",
      "\n",
      "C:\\Users\\Alext\\anaconda3\\envs\\ML\\lib\\site-packages\\keras\\engine\\sequential.py:450: UserWarning: `model.predict_classes()` is deprecated and will be removed after 2021-01-01. Please use instead:* `np.argmax(model.predict(x), axis=-1)`,   if your model does multi-class classification   (e.g. if it uses a `softmax` last-layer activation).* `(model.predict(x) > 0.5).astype(\"int32\")`,   if your model does binary classification   (e.g. if it uses a `sigmoid` last-layer activation).\n",
      "  warnings.warn('`model.predict_classes()` is deprecated and '\n",
      "\n",
      "C:\\Users\\Alext\\anaconda3\\envs\\ML\\lib\\site-packages\\keras\\engine\\sequential.py:450: UserWarning: `model.predict_classes()` is deprecated and will be removed after 2021-01-01. Please use instead:* `np.argmax(model.predict(x), axis=-1)`,   if your model does multi-class classification   (e.g. if it uses a `softmax` last-layer activation).* `(model.predict(x) > 0.5).astype(\"int32\")`,   if your model does binary classification   (e.g. if it uses a `sigmoid` last-layer activation).\n",
      "  warnings.warn('`model.predict_classes()` is deprecated and '\n",
      "\n",
      "C:\\Users\\Alext\\anaconda3\\envs\\ML\\lib\\site-packages\\keras\\engine\\sequential.py:450: UserWarning: `model.predict_classes()` is deprecated and will be removed after 2021-01-01. Please use instead:* `np.argmax(model.predict(x), axis=-1)`,   if your model does multi-class classification   (e.g. if it uses a `softmax` last-layer activation).* `(model.predict(x) > 0.5).astype(\"int32\")`,   if your model does binary classification   (e.g. if it uses a `sigmoid` last-layer activation).\n",
      "  warnings.warn('`model.predict_classes()` is deprecated and '\n",
      "\n"
     ]
    },
    {
     "name": "stdout",
     "output_type": "stream",
     "text": [
      "Test accuracy:                                        \n",
      "0.7246169888505655                                    \n",
      "  2%|▏         | 1/50 [01:00<49:14, 60.29s/trial, best loss: -0.7246169888505655]"
     ]
    },
    {
     "name": "stderr",
     "output_type": "stream",
     "text": [
      "C:\\Users\\Alext\\anaconda3\\envs\\ML\\lib\\site-packages\\keras\\engine\\sequential.py:450: UserWarning: `model.predict_classes()` is deprecated and will be removed after 2021-01-01. Please use instead:* `np.argmax(model.predict(x), axis=-1)`,   if your model does multi-class classification   (e.g. if it uses a `softmax` last-layer activation).* `(model.predict(x) > 0.5).astype(\"int32\")`,   if your model does binary classification   (e.g. if it uses a `sigmoid` last-layer activation).\n",
      "  warnings.warn('`model.predict_classes()` is deprecated and '\n",
      "\n",
      "C:\\Users\\Alext\\anaconda3\\envs\\ML\\lib\\site-packages\\keras\\engine\\sequential.py:450: UserWarning: `model.predict_classes()` is deprecated and will be removed after 2021-01-01. Please use instead:* `np.argmax(model.predict(x), axis=-1)`,   if your model does multi-class classification   (e.g. if it uses a `softmax` last-layer activation).* `(model.predict(x) > 0.5).astype(\"int32\")`,   if your model does binary classification   (e.g. if it uses a `sigmoid` last-layer activation).\n",
      "  warnings.warn('`model.predict_classes()` is deprecated and '\n",
      "\n",
      "C:\\Users\\Alext\\anaconda3\\envs\\ML\\lib\\site-packages\\keras\\engine\\sequential.py:450: UserWarning: `model.predict_classes()` is deprecated and will be removed after 2021-01-01. Please use instead:* `np.argmax(model.predict(x), axis=-1)`,   if your model does multi-class classification   (e.g. if it uses a `softmax` last-layer activation).* `(model.predict(x) > 0.5).astype(\"int32\")`,   if your model does binary classification   (e.g. if it uses a `sigmoid` last-layer activation).\n",
      "  warnings.warn('`model.predict_classes()` is deprecated and '\n",
      "\n",
      "C:\\Users\\Alext\\anaconda3\\envs\\ML\\lib\\site-packages\\keras\\engine\\sequential.py:450: UserWarning: `model.predict_classes()` is deprecated and will be removed after 2021-01-01. Please use instead:* `np.argmax(model.predict(x), axis=-1)`,   if your model does multi-class classification   (e.g. if it uses a `softmax` last-layer activation).* `(model.predict(x) > 0.5).astype(\"int32\")`,   if your model does binary classification   (e.g. if it uses a `sigmoid` last-layer activation).\n",
      "  warnings.warn('`model.predict_classes()` is deprecated and '\n",
      "\n",
      "C:\\Users\\Alext\\anaconda3\\envs\\ML\\lib\\site-packages\\keras\\engine\\sequential.py:450: UserWarning: `model.predict_classes()` is deprecated and will be removed after 2021-01-01. Please use instead:* `np.argmax(model.predict(x), axis=-1)`,   if your model does multi-class classification   (e.g. if it uses a `softmax` last-layer activation).* `(model.predict(x) > 0.5).astype(\"int32\")`,   if your model does binary classification   (e.g. if it uses a `sigmoid` last-layer activation).\n",
      "  warnings.warn('`model.predict_classes()` is deprecated and '\n",
      "\n"
     ]
    },
    {
     "name": "stdout",
     "output_type": "stream",
     "text": [
      "Test accuracy:                                                                   \n",
      "0.7253469158578648                                                               \n",
      "  4%|▍         | 2/50 [01:39<38:12, 47.76s/trial, best loss: -0.7253469158578648]"
     ]
    },
    {
     "name": "stderr",
     "output_type": "stream",
     "text": [
      "C:\\Users\\Alext\\anaconda3\\envs\\ML\\lib\\site-packages\\keras\\engine\\sequential.py:450: UserWarning: `model.predict_classes()` is deprecated and will be removed after 2021-01-01. Please use instead:* `np.argmax(model.predict(x), axis=-1)`,   if your model does multi-class classification   (e.g. if it uses a `softmax` last-layer activation).* `(model.predict(x) > 0.5).astype(\"int32\")`,   if your model does binary classification   (e.g. if it uses a `sigmoid` last-layer activation).\n",
      "  warnings.warn('`model.predict_classes()` is deprecated and '\n",
      "\n",
      "C:\\Users\\Alext\\anaconda3\\envs\\ML\\lib\\site-packages\\keras\\engine\\sequential.py:450: UserWarning: `model.predict_classes()` is deprecated and will be removed after 2021-01-01. Please use instead:* `np.argmax(model.predict(x), axis=-1)`,   if your model does multi-class classification   (e.g. if it uses a `softmax` last-layer activation).* `(model.predict(x) > 0.5).astype(\"int32\")`,   if your model does binary classification   (e.g. if it uses a `sigmoid` last-layer activation).\n",
      "  warnings.warn('`model.predict_classes()` is deprecated and '\n",
      "\n",
      "C:\\Users\\Alext\\anaconda3\\envs\\ML\\lib\\site-packages\\keras\\engine\\sequential.py:450: UserWarning: `model.predict_classes()` is deprecated and will be removed after 2021-01-01. Please use instead:* `np.argmax(model.predict(x), axis=-1)`,   if your model does multi-class classification   (e.g. if it uses a `softmax` last-layer activation).* `(model.predict(x) > 0.5).astype(\"int32\")`,   if your model does binary classification   (e.g. if it uses a `sigmoid` last-layer activation).\n",
      "  warnings.warn('`model.predict_classes()` is deprecated and '\n",
      "\n",
      "C:\\Users\\Alext\\anaconda3\\envs\\ML\\lib\\site-packages\\keras\\engine\\sequential.py:450: UserWarning: `model.predict_classes()` is deprecated and will be removed after 2021-01-01. Please use instead:* `np.argmax(model.predict(x), axis=-1)`,   if your model does multi-class classification   (e.g. if it uses a `softmax` last-layer activation).* `(model.predict(x) > 0.5).astype(\"int32\")`,   if your model does binary classification   (e.g. if it uses a `sigmoid` last-layer activation).\n",
      "  warnings.warn('`model.predict_classes()` is deprecated and '\n",
      "\n",
      "C:\\Users\\Alext\\anaconda3\\envs\\ML\\lib\\site-packages\\keras\\engine\\sequential.py:450: UserWarning: `model.predict_classes()` is deprecated and will be removed after 2021-01-01. Please use instead:* `np.argmax(model.predict(x), axis=-1)`,   if your model does multi-class classification   (e.g. if it uses a `softmax` last-layer activation).* `(model.predict(x) > 0.5).astype(\"int32\")`,   if your model does binary classification   (e.g. if it uses a `sigmoid` last-layer activation).\n",
      "  warnings.warn('`model.predict_classes()` is deprecated and '\n",
      "\n"
     ]
    },
    {
     "name": "stdout",
     "output_type": "stream",
     "text": [
      "Test accuracy:                                                                   \n",
      "0.7253469158578648                                                               \n",
      "  6%|▌         | 3/50 [02:36<40:55, 52.25s/trial, best loss: -0.7253469158578648]"
     ]
    },
    {
     "name": "stderr",
     "output_type": "stream",
     "text": [
      "C:\\Users\\Alext\\anaconda3\\envs\\ML\\lib\\site-packages\\keras\\engine\\sequential.py:450: UserWarning: `model.predict_classes()` is deprecated and will be removed after 2021-01-01. Please use instead:* `np.argmax(model.predict(x), axis=-1)`,   if your model does multi-class classification   (e.g. if it uses a `softmax` last-layer activation).* `(model.predict(x) > 0.5).astype(\"int32\")`,   if your model does binary classification   (e.g. if it uses a `sigmoid` last-layer activation).\n",
      "  warnings.warn('`model.predict_classes()` is deprecated and '\n",
      "\n",
      "C:\\Users\\Alext\\anaconda3\\envs\\ML\\lib\\site-packages\\keras\\engine\\sequential.py:450: UserWarning: `model.predict_classes()` is deprecated and will be removed after 2021-01-01. Please use instead:* `np.argmax(model.predict(x), axis=-1)`,   if your model does multi-class classification   (e.g. if it uses a `softmax` last-layer activation).* `(model.predict(x) > 0.5).astype(\"int32\")`,   if your model does binary classification   (e.g. if it uses a `sigmoid` last-layer activation).\n",
      "  warnings.warn('`model.predict_classes()` is deprecated and '\n",
      "\n",
      "C:\\Users\\Alext\\anaconda3\\envs\\ML\\lib\\site-packages\\keras\\engine\\sequential.py:450: UserWarning: `model.predict_classes()` is deprecated and will be removed after 2021-01-01. Please use instead:* `np.argmax(model.predict(x), axis=-1)`,   if your model does multi-class classification   (e.g. if it uses a `softmax` last-layer activation).* `(model.predict(x) > 0.5).astype(\"int32\")`,   if your model does binary classification   (e.g. if it uses a `sigmoid` last-layer activation).\n",
      "  warnings.warn('`model.predict_classes()` is deprecated and '\n",
      "\n",
      "C:\\Users\\Alext\\anaconda3\\envs\\ML\\lib\\site-packages\\keras\\engine\\sequential.py:450: UserWarning: `model.predict_classes()` is deprecated and will be removed after 2021-01-01. Please use instead:* `np.argmax(model.predict(x), axis=-1)`,   if your model does multi-class classification   (e.g. if it uses a `softmax` last-layer activation).* `(model.predict(x) > 0.5).astype(\"int32\")`,   if your model does binary classification   (e.g. if it uses a `sigmoid` last-layer activation).\n",
      "  warnings.warn('`model.predict_classes()` is deprecated and '\n",
      "\n",
      "C:\\Users\\Alext\\anaconda3\\envs\\ML\\lib\\site-packages\\keras\\engine\\sequential.py:450: UserWarning: `model.predict_classes()` is deprecated and will be removed after 2021-01-01. Please use instead:* `np.argmax(model.predict(x), axis=-1)`,   if your model does multi-class classification   (e.g. if it uses a `softmax` last-layer activation).* `(model.predict(x) > 0.5).astype(\"int32\")`,   if your model does binary classification   (e.g. if it uses a `sigmoid` last-layer activation).\n",
      "  warnings.warn('`model.predict_classes()` is deprecated and '\n",
      "\n"
     ]
    },
    {
     "name": "stdout",
     "output_type": "stream",
     "text": [
      "Test accuracy:                                                                   \n",
      "0.7246169888505655                                                               \n",
      "  8%|▊         | 4/50 [03:03<32:19, 42.16s/trial, best loss: -0.7253469158578648]"
     ]
    },
    {
     "name": "stderr",
     "output_type": "stream",
     "text": [
      "C:\\Users\\Alext\\anaconda3\\envs\\ML\\lib\\site-packages\\keras\\engine\\sequential.py:450: UserWarning: `model.predict_classes()` is deprecated and will be removed after 2021-01-01. Please use instead:* `np.argmax(model.predict(x), axis=-1)`,   if your model does multi-class classification   (e.g. if it uses a `softmax` last-layer activation).* `(model.predict(x) > 0.5).astype(\"int32\")`,   if your model does binary classification   (e.g. if it uses a `sigmoid` last-layer activation).\n",
      "  warnings.warn('`model.predict_classes()` is deprecated and '\n",
      "\n",
      "C:\\Users\\Alext\\anaconda3\\envs\\ML\\lib\\site-packages\\keras\\engine\\sequential.py:450: UserWarning: `model.predict_classes()` is deprecated and will be removed after 2021-01-01. Please use instead:* `np.argmax(model.predict(x), axis=-1)`,   if your model does multi-class classification   (e.g. if it uses a `softmax` last-layer activation).* `(model.predict(x) > 0.5).astype(\"int32\")`,   if your model does binary classification   (e.g. if it uses a `sigmoid` last-layer activation).\n",
      "  warnings.warn('`model.predict_classes()` is deprecated and '\n",
      "\n",
      "C:\\Users\\Alext\\anaconda3\\envs\\ML\\lib\\site-packages\\keras\\engine\\sequential.py:450: UserWarning: `model.predict_classes()` is deprecated and will be removed after 2021-01-01. Please use instead:* `np.argmax(model.predict(x), axis=-1)`,   if your model does multi-class classification   (e.g. if it uses a `softmax` last-layer activation).* `(model.predict(x) > 0.5).astype(\"int32\")`,   if your model does binary classification   (e.g. if it uses a `sigmoid` last-layer activation).\n",
      "  warnings.warn('`model.predict_classes()` is deprecated and '\n",
      "\n",
      "C:\\Users\\Alext\\anaconda3\\envs\\ML\\lib\\site-packages\\keras\\engine\\sequential.py:450: UserWarning: `model.predict_classes()` is deprecated and will be removed after 2021-01-01. Please use instead:* `np.argmax(model.predict(x), axis=-1)`,   if your model does multi-class classification   (e.g. if it uses a `softmax` last-layer activation).* `(model.predict(x) > 0.5).astype(\"int32\")`,   if your model does binary classification   (e.g. if it uses a `sigmoid` last-layer activation).\n",
      "  warnings.warn('`model.predict_classes()` is deprecated and '\n",
      "\n",
      "C:\\Users\\Alext\\anaconda3\\envs\\ML\\lib\\site-packages\\keras\\engine\\sequential.py:450: UserWarning: `model.predict_classes()` is deprecated and will be removed after 2021-01-01. Please use instead:* `np.argmax(model.predict(x), axis=-1)`,   if your model does multi-class classification   (e.g. if it uses a `softmax` last-layer activation).* `(model.predict(x) > 0.5).astype(\"int32\")`,   if your model does binary classification   (e.g. if it uses a `sigmoid` last-layer activation).\n",
      "  warnings.warn('`model.predict_classes()` is deprecated and '\n",
      "\n"
     ]
    },
    {
     "name": "stdout",
     "output_type": "stream",
     "text": [
      "Test accuracy:                                                                   \n",
      "0.7246143151252641                                                               \n",
      " 10%|█         | 5/50 [03:45<31:25, 41.90s/trial, best loss: -0.7253469158578648]"
     ]
    },
    {
     "name": "stderr",
     "output_type": "stream",
     "text": [
      "C:\\Users\\Alext\\anaconda3\\envs\\ML\\lib\\site-packages\\keras\\engine\\sequential.py:450: UserWarning: `model.predict_classes()` is deprecated and will be removed after 2021-01-01. Please use instead:* `np.argmax(model.predict(x), axis=-1)`,   if your model does multi-class classification   (e.g. if it uses a `softmax` last-layer activation).* `(model.predict(x) > 0.5).astype(\"int32\")`,   if your model does binary classification   (e.g. if it uses a `sigmoid` last-layer activation).\n",
      "  warnings.warn('`model.predict_classes()` is deprecated and '\n",
      "\n",
      "C:\\Users\\Alext\\anaconda3\\envs\\ML\\lib\\site-packages\\keras\\engine\\sequential.py:450: UserWarning: `model.predict_classes()` is deprecated and will be removed after 2021-01-01. Please use instead:* `np.argmax(model.predict(x), axis=-1)`,   if your model does multi-class classification   (e.g. if it uses a `softmax` last-layer activation).* `(model.predict(x) > 0.5).astype(\"int32\")`,   if your model does binary classification   (e.g. if it uses a `sigmoid` last-layer activation).\n",
      "  warnings.warn('`model.predict_classes()` is deprecated and '\n",
      "\n",
      "C:\\Users\\Alext\\anaconda3\\envs\\ML\\lib\\site-packages\\keras\\engine\\sequential.py:450: UserWarning: `model.predict_classes()` is deprecated and will be removed after 2021-01-01. Please use instead:* `np.argmax(model.predict(x), axis=-1)`,   if your model does multi-class classification   (e.g. if it uses a `softmax` last-layer activation).* `(model.predict(x) > 0.5).astype(\"int32\")`,   if your model does binary classification   (e.g. if it uses a `sigmoid` last-layer activation).\n",
      "  warnings.warn('`model.predict_classes()` is deprecated and '\n",
      "\n",
      "C:\\Users\\Alext\\anaconda3\\envs\\ML\\lib\\site-packages\\keras\\engine\\sequential.py:450: UserWarning: `model.predict_classes()` is deprecated and will be removed after 2021-01-01. Please use instead:* `np.argmax(model.predict(x), axis=-1)`,   if your model does multi-class classification   (e.g. if it uses a `softmax` last-layer activation).* `(model.predict(x) > 0.5).astype(\"int32\")`,   if your model does binary classification   (e.g. if it uses a `sigmoid` last-layer activation).\n",
      "  warnings.warn('`model.predict_classes()` is deprecated and '\n",
      "\n",
      "C:\\Users\\Alext\\anaconda3\\envs\\ML\\lib\\site-packages\\keras\\engine\\sequential.py:450: UserWarning: `model.predict_classes()` is deprecated and will be removed after 2021-01-01. Please use instead:* `np.argmax(model.predict(x), axis=-1)`,   if your model does multi-class classification   (e.g. if it uses a `softmax` last-layer activation).* `(model.predict(x) > 0.5).astype(\"int32\")`,   if your model does binary classification   (e.g. if it uses a `sigmoid` last-layer activation).\n",
      "  warnings.warn('`model.predict_classes()` is deprecated and '\n",
      "\n"
     ]
    },
    {
     "name": "stdout",
     "output_type": "stream",
     "text": [
      "Test accuracy:                                                                   \n",
      "0.7253469158578648                                                               \n",
      " 12%|█▏        | 6/50 [04:29<31:29, 42.94s/trial, best loss: -0.7253469158578648]"
     ]
    },
    {
     "name": "stderr",
     "output_type": "stream",
     "text": [
      "C:\\Users\\Alext\\anaconda3\\envs\\ML\\lib\\site-packages\\keras\\engine\\sequential.py:450: UserWarning: `model.predict_classes()` is deprecated and will be removed after 2021-01-01. Please use instead:* `np.argmax(model.predict(x), axis=-1)`,   if your model does multi-class classification   (e.g. if it uses a `softmax` last-layer activation).* `(model.predict(x) > 0.5).astype(\"int32\")`,   if your model does binary classification   (e.g. if it uses a `sigmoid` last-layer activation).\n",
      "  warnings.warn('`model.predict_classes()` is deprecated and '\n",
      "\n",
      "C:\\Users\\Alext\\anaconda3\\envs\\ML\\lib\\site-packages\\keras\\engine\\sequential.py:450: UserWarning: `model.predict_classes()` is deprecated and will be removed after 2021-01-01. Please use instead:* `np.argmax(model.predict(x), axis=-1)`,   if your model does multi-class classification   (e.g. if it uses a `softmax` last-layer activation).* `(model.predict(x) > 0.5).astype(\"int32\")`,   if your model does binary classification   (e.g. if it uses a `sigmoid` last-layer activation).\n",
      "  warnings.warn('`model.predict_classes()` is deprecated and '\n",
      "\n",
      "C:\\Users\\Alext\\anaconda3\\envs\\ML\\lib\\site-packages\\keras\\engine\\sequential.py:450: UserWarning: `model.predict_classes()` is deprecated and will be removed after 2021-01-01. Please use instead:* `np.argmax(model.predict(x), axis=-1)`,   if your model does multi-class classification   (e.g. if it uses a `softmax` last-layer activation).* `(model.predict(x) > 0.5).astype(\"int32\")`,   if your model does binary classification   (e.g. if it uses a `sigmoid` last-layer activation).\n",
      "  warnings.warn('`model.predict_classes()` is deprecated and '\n",
      "\n",
      "C:\\Users\\Alext\\anaconda3\\envs\\ML\\lib\\site-packages\\keras\\engine\\sequential.py:450: UserWarning: `model.predict_classes()` is deprecated and will be removed after 2021-01-01. Please use instead:* `np.argmax(model.predict(x), axis=-1)`,   if your model does multi-class classification   (e.g. if it uses a `softmax` last-layer activation).* `(model.predict(x) > 0.5).astype(\"int32\")`,   if your model does binary classification   (e.g. if it uses a `sigmoid` last-layer activation).\n",
      "  warnings.warn('`model.predict_classes()` is deprecated and '\n",
      "\n",
      "C:\\Users\\Alext\\anaconda3\\envs\\ML\\lib\\site-packages\\keras\\engine\\sequential.py:450: UserWarning: `model.predict_classes()` is deprecated and will be removed after 2021-01-01. Please use instead:* `np.argmax(model.predict(x), axis=-1)`,   if your model does multi-class classification   (e.g. if it uses a `softmax` last-layer activation).* `(model.predict(x) > 0.5).astype(\"int32\")`,   if your model does binary classification   (e.g. if it uses a `sigmoid` last-layer activation).\n",
      "  warnings.warn('`model.predict_classes()` is deprecated and '\n",
      "\n"
     ]
    },
    {
     "name": "stdout",
     "output_type": "stream",
     "text": [
      "Test accuracy:                                                                   \n",
      "0.7253469158578648                                                               \n",
      " 14%|█▍        | 7/50 [04:49<25:24, 35.45s/trial, best loss: -0.7253469158578648]"
     ]
    },
    {
     "name": "stderr",
     "output_type": "stream",
     "text": [
      "C:\\Users\\Alext\\anaconda3\\envs\\ML\\lib\\site-packages\\keras\\engine\\sequential.py:450: UserWarning: `model.predict_classes()` is deprecated and will be removed after 2021-01-01. Please use instead:* `np.argmax(model.predict(x), axis=-1)`,   if your model does multi-class classification   (e.g. if it uses a `softmax` last-layer activation).* `(model.predict(x) > 0.5).astype(\"int32\")`,   if your model does binary classification   (e.g. if it uses a `sigmoid` last-layer activation).\n",
      "  warnings.warn('`model.predict_classes()` is deprecated and '\n",
      "\n",
      "C:\\Users\\Alext\\anaconda3\\envs\\ML\\lib\\site-packages\\keras\\engine\\sequential.py:450: UserWarning: `model.predict_classes()` is deprecated and will be removed after 2021-01-01. Please use instead:* `np.argmax(model.predict(x), axis=-1)`,   if your model does multi-class classification   (e.g. if it uses a `softmax` last-layer activation).* `(model.predict(x) > 0.5).astype(\"int32\")`,   if your model does binary classification   (e.g. if it uses a `sigmoid` last-layer activation).\n",
      "  warnings.warn('`model.predict_classes()` is deprecated and '\n",
      "\n",
      "C:\\Users\\Alext\\anaconda3\\envs\\ML\\lib\\site-packages\\keras\\engine\\sequential.py:450: UserWarning: `model.predict_classes()` is deprecated and will be removed after 2021-01-01. Please use instead:* `np.argmax(model.predict(x), axis=-1)`,   if your model does multi-class classification   (e.g. if it uses a `softmax` last-layer activation).* `(model.predict(x) > 0.5).astype(\"int32\")`,   if your model does binary classification   (e.g. if it uses a `sigmoid` last-layer activation).\n",
      "  warnings.warn('`model.predict_classes()` is deprecated and '\n",
      "\n",
      "C:\\Users\\Alext\\anaconda3\\envs\\ML\\lib\\site-packages\\keras\\engine\\sequential.py:450: UserWarning: `model.predict_classes()` is deprecated and will be removed after 2021-01-01. Please use instead:* `np.argmax(model.predict(x), axis=-1)`,   if your model does multi-class classification   (e.g. if it uses a `softmax` last-layer activation).* `(model.predict(x) > 0.5).astype(\"int32\")`,   if your model does binary classification   (e.g. if it uses a `sigmoid` last-layer activation).\n",
      "  warnings.warn('`model.predict_classes()` is deprecated and '\n",
      "\n",
      "C:\\Users\\Alext\\anaconda3\\envs\\ML\\lib\\site-packages\\keras\\engine\\sequential.py:450: UserWarning: `model.predict_classes()` is deprecated and will be removed after 2021-01-01. Please use instead:* `np.argmax(model.predict(x), axis=-1)`,   if your model does multi-class classification   (e.g. if it uses a `softmax` last-layer activation).* `(model.predict(x) > 0.5).astype(\"int32\")`,   if your model does binary classification   (e.g. if it uses a `sigmoid` last-layer activation).\n",
      "  warnings.warn('`model.predict_classes()` is deprecated and '\n",
      "\n"
     ]
    },
    {
     "name": "stdout",
     "output_type": "stream",
     "text": [
      "Test accuracy:                                                                   \n",
      "0.7253469158578648                                                               \n",
      " 16%|█▌        | 8/50 [05:10<21:28, 30.68s/trial, best loss: -0.7253469158578648]"
     ]
    },
    {
     "name": "stderr",
     "output_type": "stream",
     "text": [
      "C:\\Users\\Alext\\anaconda3\\envs\\ML\\lib\\site-packages\\keras\\engine\\sequential.py:450: UserWarning: `model.predict_classes()` is deprecated and will be removed after 2021-01-01. Please use instead:* `np.argmax(model.predict(x), axis=-1)`,   if your model does multi-class classification   (e.g. if it uses a `softmax` last-layer activation).* `(model.predict(x) > 0.5).astype(\"int32\")`,   if your model does binary classification   (e.g. if it uses a `sigmoid` last-layer activation).\n",
      "  warnings.warn('`model.predict_classes()` is deprecated and '\n",
      "\n",
      "C:\\Users\\Alext\\anaconda3\\envs\\ML\\lib\\site-packages\\keras\\engine\\sequential.py:450: UserWarning: `model.predict_classes()` is deprecated and will be removed after 2021-01-01. Please use instead:* `np.argmax(model.predict(x), axis=-1)`,   if your model does multi-class classification   (e.g. if it uses a `softmax` last-layer activation).* `(model.predict(x) > 0.5).astype(\"int32\")`,   if your model does binary classification   (e.g. if it uses a `sigmoid` last-layer activation).\n",
      "  warnings.warn('`model.predict_classes()` is deprecated and '\n",
      "\n",
      "C:\\Users\\Alext\\anaconda3\\envs\\ML\\lib\\site-packages\\keras\\engine\\sequential.py:450: UserWarning: `model.predict_classes()` is deprecated and will be removed after 2021-01-01. Please use instead:* `np.argmax(model.predict(x), axis=-1)`,   if your model does multi-class classification   (e.g. if it uses a `softmax` last-layer activation).* `(model.predict(x) > 0.5).astype(\"int32\")`,   if your model does binary classification   (e.g. if it uses a `sigmoid` last-layer activation).\n",
      "  warnings.warn('`model.predict_classes()` is deprecated and '\n",
      "\n",
      "C:\\Users\\Alext\\anaconda3\\envs\\ML\\lib\\site-packages\\keras\\engine\\sequential.py:450: UserWarning: `model.predict_classes()` is deprecated and will be removed after 2021-01-01. Please use instead:* `np.argmax(model.predict(x), axis=-1)`,   if your model does multi-class classification   (e.g. if it uses a `softmax` last-layer activation).* `(model.predict(x) > 0.5).astype(\"int32\")`,   if your model does binary classification   (e.g. if it uses a `sigmoid` last-layer activation).\n",
      "  warnings.warn('`model.predict_classes()` is deprecated and '\n",
      "\n",
      "C:\\Users\\Alext\\anaconda3\\envs\\ML\\lib\\site-packages\\keras\\engine\\sequential.py:450: UserWarning: `model.predict_classes()` is deprecated and will be removed after 2021-01-01. Please use instead:* `np.argmax(model.predict(x), axis=-1)`,   if your model does multi-class classification   (e.g. if it uses a `softmax` last-layer activation).* `(model.predict(x) > 0.5).astype(\"int32\")`,   if your model does binary classification   (e.g. if it uses a `sigmoid` last-layer activation).\n",
      "  warnings.warn('`model.predict_classes()` is deprecated and '\n",
      "\n"
     ]
    },
    {
     "name": "stdout",
     "output_type": "stream",
     "text": [
      "Test accuracy:                                                                   \n",
      "0.7253469158578648                                                               \n",
      " 18%|█▊        | 9/50 [05:58<24:46, 36.25s/trial, best loss: -0.7253469158578648]"
     ]
    },
    {
     "name": "stderr",
     "output_type": "stream",
     "text": [
      "C:\\Users\\Alext\\anaconda3\\envs\\ML\\lib\\site-packages\\keras\\engine\\sequential.py:450: UserWarning: `model.predict_classes()` is deprecated and will be removed after 2021-01-01. Please use instead:* `np.argmax(model.predict(x), axis=-1)`,   if your model does multi-class classification   (e.g. if it uses a `softmax` last-layer activation).* `(model.predict(x) > 0.5).astype(\"int32\")`,   if your model does binary classification   (e.g. if it uses a `sigmoid` last-layer activation).\n",
      "  warnings.warn('`model.predict_classes()` is deprecated and '\n",
      "\n",
      "C:\\Users\\Alext\\anaconda3\\envs\\ML\\lib\\site-packages\\keras\\engine\\sequential.py:450: UserWarning: `model.predict_classes()` is deprecated and will be removed after 2021-01-01. Please use instead:* `np.argmax(model.predict(x), axis=-1)`,   if your model does multi-class classification   (e.g. if it uses a `softmax` last-layer activation).* `(model.predict(x) > 0.5).astype(\"int32\")`,   if your model does binary classification   (e.g. if it uses a `sigmoid` last-layer activation).\n",
      "  warnings.warn('`model.predict_classes()` is deprecated and '\n",
      "\n",
      "C:\\Users\\Alext\\anaconda3\\envs\\ML\\lib\\site-packages\\keras\\engine\\sequential.py:450: UserWarning: `model.predict_classes()` is deprecated and will be removed after 2021-01-01. Please use instead:* `np.argmax(model.predict(x), axis=-1)`,   if your model does multi-class classification   (e.g. if it uses a `softmax` last-layer activation).* `(model.predict(x) > 0.5).astype(\"int32\")`,   if your model does binary classification   (e.g. if it uses a `sigmoid` last-layer activation).\n",
      "  warnings.warn('`model.predict_classes()` is deprecated and '\n",
      "\n",
      "C:\\Users\\Alext\\anaconda3\\envs\\ML\\lib\\site-packages\\keras\\engine\\sequential.py:450: UserWarning: `model.predict_classes()` is deprecated and will be removed after 2021-01-01. Please use instead:* `np.argmax(model.predict(x), axis=-1)`,   if your model does multi-class classification   (e.g. if it uses a `softmax` last-layer activation).* `(model.predict(x) > 0.5).astype(\"int32\")`,   if your model does binary classification   (e.g. if it uses a `sigmoid` last-layer activation).\n",
      "  warnings.warn('`model.predict_classes()` is deprecated and '\n",
      "\n",
      "C:\\Users\\Alext\\anaconda3\\envs\\ML\\lib\\site-packages\\keras\\engine\\sequential.py:450: UserWarning: `model.predict_classes()` is deprecated and will be removed after 2021-01-01. Please use instead:* `np.argmax(model.predict(x), axis=-1)`,   if your model does multi-class classification   (e.g. if it uses a `softmax` last-layer activation).* `(model.predict(x) > 0.5).astype(\"int32\")`,   if your model does binary classification   (e.g. if it uses a `sigmoid` last-layer activation).\n",
      "  warnings.warn('`model.predict_classes()` is deprecated and '\n",
      "\n"
     ]
    },
    {
     "name": "stdout",
     "output_type": "stream",
     "text": [
      "Test accuracy:                                                                   \n",
      "0.7253469158578648                                                               \n",
      " 20%|██        | 10/50 [06:17<20:27, 30.69s/trial, best loss: -0.7253469158578648]"
     ]
    },
    {
     "name": "stderr",
     "output_type": "stream",
     "text": [
      "C:\\Users\\Alext\\anaconda3\\envs\\ML\\lib\\site-packages\\keras\\engine\\sequential.py:450: UserWarning: `model.predict_classes()` is deprecated and will be removed after 2021-01-01. Please use instead:* `np.argmax(model.predict(x), axis=-1)`,   if your model does multi-class classification   (e.g. if it uses a `softmax` last-layer activation).* `(model.predict(x) > 0.5).astype(\"int32\")`,   if your model does binary classification   (e.g. if it uses a `sigmoid` last-layer activation).\n",
      "  warnings.warn('`model.predict_classes()` is deprecated and '\n",
      "\n",
      "C:\\Users\\Alext\\anaconda3\\envs\\ML\\lib\\site-packages\\keras\\engine\\sequential.py:450: UserWarning: `model.predict_classes()` is deprecated and will be removed after 2021-01-01. Please use instead:* `np.argmax(model.predict(x), axis=-1)`,   if your model does multi-class classification   (e.g. if it uses a `softmax` last-layer activation).* `(model.predict(x) > 0.5).astype(\"int32\")`,   if your model does binary classification   (e.g. if it uses a `sigmoid` last-layer activation).\n",
      "  warnings.warn('`model.predict_classes()` is deprecated and '\n",
      "\n",
      "C:\\Users\\Alext\\anaconda3\\envs\\ML\\lib\\site-packages\\keras\\engine\\sequential.py:450: UserWarning: `model.predict_classes()` is deprecated and will be removed after 2021-01-01. Please use instead:* `np.argmax(model.predict(x), axis=-1)`,   if your model does multi-class classification   (e.g. if it uses a `softmax` last-layer activation).* `(model.predict(x) > 0.5).astype(\"int32\")`,   if your model does binary classification   (e.g. if it uses a `sigmoid` last-layer activation).\n",
      "  warnings.warn('`model.predict_classes()` is deprecated and '\n",
      "\n",
      "C:\\Users\\Alext\\anaconda3\\envs\\ML\\lib\\site-packages\\keras\\engine\\sequential.py:450: UserWarning: `model.predict_classes()` is deprecated and will be removed after 2021-01-01. Please use instead:* `np.argmax(model.predict(x), axis=-1)`,   if your model does multi-class classification   (e.g. if it uses a `softmax` last-layer activation).* `(model.predict(x) > 0.5).astype(\"int32\")`,   if your model does binary classification   (e.g. if it uses a `sigmoid` last-layer activation).\n",
      "  warnings.warn('`model.predict_classes()` is deprecated and '\n",
      "\n",
      "C:\\Users\\Alext\\anaconda3\\envs\\ML\\lib\\site-packages\\keras\\engine\\sequential.py:450: UserWarning: `model.predict_classes()` is deprecated and will be removed after 2021-01-01. Please use instead:* `np.argmax(model.predict(x), axis=-1)`,   if your model does multi-class classification   (e.g. if it uses a `softmax` last-layer activation).* `(model.predict(x) > 0.5).astype(\"int32\")`,   if your model does binary classification   (e.g. if it uses a `sigmoid` last-layer activation).\n",
      "  warnings.warn('`model.predict_classes()` is deprecated and '\n",
      "\n"
     ]
    },
    {
     "name": "stdout",
     "output_type": "stream",
     "text": [
      "Test accuracy:                                                                    \n",
      "0.7253469158578648                                                                \n",
      " 22%|██▏       | 11/50 [07:06<23:39, 36.39s/trial, best loss: -0.7253469158578648]"
     ]
    },
    {
     "name": "stderr",
     "output_type": "stream",
     "text": [
      "C:\\Users\\Alext\\anaconda3\\envs\\ML\\lib\\site-packages\\keras\\engine\\sequential.py:450: UserWarning: `model.predict_classes()` is deprecated and will be removed after 2021-01-01. Please use instead:* `np.argmax(model.predict(x), axis=-1)`,   if your model does multi-class classification   (e.g. if it uses a `softmax` last-layer activation).* `(model.predict(x) > 0.5).astype(\"int32\")`,   if your model does binary classification   (e.g. if it uses a `sigmoid` last-layer activation).\n",
      "  warnings.warn('`model.predict_classes()` is deprecated and '\n",
      "\n",
      "C:\\Users\\Alext\\anaconda3\\envs\\ML\\lib\\site-packages\\keras\\engine\\sequential.py:450: UserWarning: `model.predict_classes()` is deprecated and will be removed after 2021-01-01. Please use instead:* `np.argmax(model.predict(x), axis=-1)`,   if your model does multi-class classification   (e.g. if it uses a `softmax` last-layer activation).* `(model.predict(x) > 0.5).astype(\"int32\")`,   if your model does binary classification   (e.g. if it uses a `sigmoid` last-layer activation).\n",
      "  warnings.warn('`model.predict_classes()` is deprecated and '\n",
      "\n",
      "C:\\Users\\Alext\\anaconda3\\envs\\ML\\lib\\site-packages\\keras\\engine\\sequential.py:450: UserWarning: `model.predict_classes()` is deprecated and will be removed after 2021-01-01. Please use instead:* `np.argmax(model.predict(x), axis=-1)`,   if your model does multi-class classification   (e.g. if it uses a `softmax` last-layer activation).* `(model.predict(x) > 0.5).astype(\"int32\")`,   if your model does binary classification   (e.g. if it uses a `sigmoid` last-layer activation).\n",
      "  warnings.warn('`model.predict_classes()` is deprecated and '\n",
      "\n",
      "C:\\Users\\Alext\\anaconda3\\envs\\ML\\lib\\site-packages\\keras\\engine\\sequential.py:450: UserWarning: `model.predict_classes()` is deprecated and will be removed after 2021-01-01. Please use instead:* `np.argmax(model.predict(x), axis=-1)`,   if your model does multi-class classification   (e.g. if it uses a `softmax` last-layer activation).* `(model.predict(x) > 0.5).astype(\"int32\")`,   if your model does binary classification   (e.g. if it uses a `sigmoid` last-layer activation).\n",
      "  warnings.warn('`model.predict_classes()` is deprecated and '\n",
      "\n",
      "C:\\Users\\Alext\\anaconda3\\envs\\ML\\lib\\site-packages\\keras\\engine\\sequential.py:450: UserWarning: `model.predict_classes()` is deprecated and will be removed after 2021-01-01. Please use instead:* `np.argmax(model.predict(x), axis=-1)`,   if your model does multi-class classification   (e.g. if it uses a `softmax` last-layer activation).* `(model.predict(x) > 0.5).astype(\"int32\")`,   if your model does binary classification   (e.g. if it uses a `sigmoid` last-layer activation).\n",
      "  warnings.warn('`model.predict_classes()` is deprecated and '\n",
      "\n"
     ]
    },
    {
     "name": "stdout",
     "output_type": "stream",
     "text": [
      "Test accuracy:                                                                    \n",
      "0.7253469158578648                                                                \n",
      " 24%|██▍       | 12/50 [07:28<20:14, 31.96s/trial, best loss: -0.7253469158578648]"
     ]
    },
    {
     "name": "stderr",
     "output_type": "stream",
     "text": [
      "C:\\Users\\Alext\\anaconda3\\envs\\ML\\lib\\site-packages\\keras\\engine\\sequential.py:450: UserWarning: `model.predict_classes()` is deprecated and will be removed after 2021-01-01. Please use instead:* `np.argmax(model.predict(x), axis=-1)`,   if your model does multi-class classification   (e.g. if it uses a `softmax` last-layer activation).* `(model.predict(x) > 0.5).astype(\"int32\")`,   if your model does binary classification   (e.g. if it uses a `sigmoid` last-layer activation).\n",
      "  warnings.warn('`model.predict_classes()` is deprecated and '\n",
      "\n",
      "C:\\Users\\Alext\\anaconda3\\envs\\ML\\lib\\site-packages\\keras\\engine\\sequential.py:450: UserWarning: `model.predict_classes()` is deprecated and will be removed after 2021-01-01. Please use instead:* `np.argmax(model.predict(x), axis=-1)`,   if your model does multi-class classification   (e.g. if it uses a `softmax` last-layer activation).* `(model.predict(x) > 0.5).astype(\"int32\")`,   if your model does binary classification   (e.g. if it uses a `sigmoid` last-layer activation).\n",
      "  warnings.warn('`model.predict_classes()` is deprecated and '\n",
      "\n",
      "C:\\Users\\Alext\\anaconda3\\envs\\ML\\lib\\site-packages\\keras\\engine\\sequential.py:450: UserWarning: `model.predict_classes()` is deprecated and will be removed after 2021-01-01. Please use instead:* `np.argmax(model.predict(x), axis=-1)`,   if your model does multi-class classification   (e.g. if it uses a `softmax` last-layer activation).* `(model.predict(x) > 0.5).astype(\"int32\")`,   if your model does binary classification   (e.g. if it uses a `sigmoid` last-layer activation).\n",
      "  warnings.warn('`model.predict_classes()` is deprecated and '\n",
      "\n",
      "C:\\Users\\Alext\\anaconda3\\envs\\ML\\lib\\site-packages\\keras\\engine\\sequential.py:450: UserWarning: `model.predict_classes()` is deprecated and will be removed after 2021-01-01. Please use instead:* `np.argmax(model.predict(x), axis=-1)`,   if your model does multi-class classification   (e.g. if it uses a `softmax` last-layer activation).* `(model.predict(x) > 0.5).astype(\"int32\")`,   if your model does binary classification   (e.g. if it uses a `sigmoid` last-layer activation).\n",
      "  warnings.warn('`model.predict_classes()` is deprecated and '\n",
      "\n",
      "C:\\Users\\Alext\\anaconda3\\envs\\ML\\lib\\site-packages\\keras\\engine\\sequential.py:450: UserWarning: `model.predict_classes()` is deprecated and will be removed after 2021-01-01. Please use instead:* `np.argmax(model.predict(x), axis=-1)`,   if your model does multi-class classification   (e.g. if it uses a `softmax` last-layer activation).* `(model.predict(x) > 0.5).astype(\"int32\")`,   if your model does binary classification   (e.g. if it uses a `sigmoid` last-layer activation).\n",
      "  warnings.warn('`model.predict_classes()` is deprecated and '\n",
      "\n"
     ]
    },
    {
     "name": "stdout",
     "output_type": "stream",
     "text": [
      "Test accuracy:                                                                    \n",
      "0.7246169888505655                                                                \n",
      " 26%|██▌       | 13/50 [08:04<20:24, 33.09s/trial, best loss: -0.7253469158578648]"
     ]
    },
    {
     "name": "stderr",
     "output_type": "stream",
     "text": [
      "C:\\Users\\Alext\\anaconda3\\envs\\ML\\lib\\site-packages\\keras\\engine\\sequential.py:450: UserWarning: `model.predict_classes()` is deprecated and will be removed after 2021-01-01. Please use instead:* `np.argmax(model.predict(x), axis=-1)`,   if your model does multi-class classification   (e.g. if it uses a `softmax` last-layer activation).* `(model.predict(x) > 0.5).astype(\"int32\")`,   if your model does binary classification   (e.g. if it uses a `sigmoid` last-layer activation).\n",
      "  warnings.warn('`model.predict_classes()` is deprecated and '\n",
      "\n",
      "C:\\Users\\Alext\\anaconda3\\envs\\ML\\lib\\site-packages\\keras\\engine\\sequential.py:450: UserWarning: `model.predict_classes()` is deprecated and will be removed after 2021-01-01. Please use instead:* `np.argmax(model.predict(x), axis=-1)`,   if your model does multi-class classification   (e.g. if it uses a `softmax` last-layer activation).* `(model.predict(x) > 0.5).astype(\"int32\")`,   if your model does binary classification   (e.g. if it uses a `sigmoid` last-layer activation).\n",
      "  warnings.warn('`model.predict_classes()` is deprecated and '\n",
      "\n",
      "C:\\Users\\Alext\\anaconda3\\envs\\ML\\lib\\site-packages\\keras\\engine\\sequential.py:450: UserWarning: `model.predict_classes()` is deprecated and will be removed after 2021-01-01. Please use instead:* `np.argmax(model.predict(x), axis=-1)`,   if your model does multi-class classification   (e.g. if it uses a `softmax` last-layer activation).* `(model.predict(x) > 0.5).astype(\"int32\")`,   if your model does binary classification   (e.g. if it uses a `sigmoid` last-layer activation).\n",
      "  warnings.warn('`model.predict_classes()` is deprecated and '\n",
      "\n",
      "C:\\Users\\Alext\\anaconda3\\envs\\ML\\lib\\site-packages\\keras\\engine\\sequential.py:450: UserWarning: `model.predict_classes()` is deprecated and will be removed after 2021-01-01. Please use instead:* `np.argmax(model.predict(x), axis=-1)`,   if your model does multi-class classification   (e.g. if it uses a `softmax` last-layer activation).* `(model.predict(x) > 0.5).astype(\"int32\")`,   if your model does binary classification   (e.g. if it uses a `sigmoid` last-layer activation).\n",
      "  warnings.warn('`model.predict_classes()` is deprecated and '\n",
      "\n",
      "C:\\Users\\Alext\\anaconda3\\envs\\ML\\lib\\site-packages\\keras\\engine\\sequential.py:450: UserWarning: `model.predict_classes()` is deprecated and will be removed after 2021-01-01. Please use instead:* `np.argmax(model.predict(x), axis=-1)`,   if your model does multi-class classification   (e.g. if it uses a `softmax` last-layer activation).* `(model.predict(x) > 0.5).astype(\"int32\")`,   if your model does binary classification   (e.g. if it uses a `sigmoid` last-layer activation).\n",
      "  warnings.warn('`model.predict_classes()` is deprecated and '\n",
      "\n"
     ]
    },
    {
     "name": "stdout",
     "output_type": "stream",
     "text": [
      "Test accuracy:                                                                    \n",
      "0.7253469158578648                                                                \n",
      " 28%|██▊       | 14/50 [08:34<19:21, 32.28s/trial, best loss: -0.7253469158578648]"
     ]
    },
    {
     "name": "stderr",
     "output_type": "stream",
     "text": [
      "C:\\Users\\Alext\\anaconda3\\envs\\ML\\lib\\site-packages\\keras\\engine\\sequential.py:450: UserWarning: `model.predict_classes()` is deprecated and will be removed after 2021-01-01. Please use instead:* `np.argmax(model.predict(x), axis=-1)`,   if your model does multi-class classification   (e.g. if it uses a `softmax` last-layer activation).* `(model.predict(x) > 0.5).astype(\"int32\")`,   if your model does binary classification   (e.g. if it uses a `sigmoid` last-layer activation).\n",
      "  warnings.warn('`model.predict_classes()` is deprecated and '\n",
      "\n",
      "C:\\Users\\Alext\\anaconda3\\envs\\ML\\lib\\site-packages\\keras\\engine\\sequential.py:450: UserWarning: `model.predict_classes()` is deprecated and will be removed after 2021-01-01. Please use instead:* `np.argmax(model.predict(x), axis=-1)`,   if your model does multi-class classification   (e.g. if it uses a `softmax` last-layer activation).* `(model.predict(x) > 0.5).astype(\"int32\")`,   if your model does binary classification   (e.g. if it uses a `sigmoid` last-layer activation).\n",
      "  warnings.warn('`model.predict_classes()` is deprecated and '\n",
      "\n",
      "C:\\Users\\Alext\\anaconda3\\envs\\ML\\lib\\site-packages\\keras\\engine\\sequential.py:450: UserWarning: `model.predict_classes()` is deprecated and will be removed after 2021-01-01. Please use instead:* `np.argmax(model.predict(x), axis=-1)`,   if your model does multi-class classification   (e.g. if it uses a `softmax` last-layer activation).* `(model.predict(x) > 0.5).astype(\"int32\")`,   if your model does binary classification   (e.g. if it uses a `sigmoid` last-layer activation).\n",
      "  warnings.warn('`model.predict_classes()` is deprecated and '\n",
      "\n",
      "C:\\Users\\Alext\\anaconda3\\envs\\ML\\lib\\site-packages\\keras\\engine\\sequential.py:450: UserWarning: `model.predict_classes()` is deprecated and will be removed after 2021-01-01. Please use instead:* `np.argmax(model.predict(x), axis=-1)`,   if your model does multi-class classification   (e.g. if it uses a `softmax` last-layer activation).* `(model.predict(x) > 0.5).astype(\"int32\")`,   if your model does binary classification   (e.g. if it uses a `sigmoid` last-layer activation).\n",
      "  warnings.warn('`model.predict_classes()` is deprecated and '\n",
      "\n",
      "C:\\Users\\Alext\\anaconda3\\envs\\ML\\lib\\site-packages\\keras\\engine\\sequential.py:450: UserWarning: `model.predict_classes()` is deprecated and will be removed after 2021-01-01. Please use instead:* `np.argmax(model.predict(x), axis=-1)`,   if your model does multi-class classification   (e.g. if it uses a `softmax` last-layer activation).* `(model.predict(x) > 0.5).astype(\"int32\")`,   if your model does binary classification   (e.g. if it uses a `sigmoid` last-layer activation).\n",
      "  warnings.warn('`model.predict_classes()` is deprecated and '\n",
      "\n"
     ]
    },
    {
     "name": "stdout",
     "output_type": "stream",
     "text": [
      "Test accuracy:                                                                    \n",
      "0.7253469158578648                                                                \n",
      " 30%|███       | 15/50 [09:01<17:57, 30.78s/trial, best loss: -0.7253469158578648]"
     ]
    },
    {
     "name": "stderr",
     "output_type": "stream",
     "text": [
      "C:\\Users\\Alext\\anaconda3\\envs\\ML\\lib\\site-packages\\keras\\engine\\sequential.py:450: UserWarning: `model.predict_classes()` is deprecated and will be removed after 2021-01-01. Please use instead:* `np.argmax(model.predict(x), axis=-1)`,   if your model does multi-class classification   (e.g. if it uses a `softmax` last-layer activation).* `(model.predict(x) > 0.5).astype(\"int32\")`,   if your model does binary classification   (e.g. if it uses a `sigmoid` last-layer activation).\n",
      "  warnings.warn('`model.predict_classes()` is deprecated and '\n",
      "\n",
      "C:\\Users\\Alext\\anaconda3\\envs\\ML\\lib\\site-packages\\keras\\engine\\sequential.py:450: UserWarning: `model.predict_classes()` is deprecated and will be removed after 2021-01-01. Please use instead:* `np.argmax(model.predict(x), axis=-1)`,   if your model does multi-class classification   (e.g. if it uses a `softmax` last-layer activation).* `(model.predict(x) > 0.5).astype(\"int32\")`,   if your model does binary classification   (e.g. if it uses a `sigmoid` last-layer activation).\n",
      "  warnings.warn('`model.predict_classes()` is deprecated and '\n",
      "\n",
      "C:\\Users\\Alext\\anaconda3\\envs\\ML\\lib\\site-packages\\keras\\engine\\sequential.py:450: UserWarning: `model.predict_classes()` is deprecated and will be removed after 2021-01-01. Please use instead:* `np.argmax(model.predict(x), axis=-1)`,   if your model does multi-class classification   (e.g. if it uses a `softmax` last-layer activation).* `(model.predict(x) > 0.5).astype(\"int32\")`,   if your model does binary classification   (e.g. if it uses a `sigmoid` last-layer activation).\n",
      "  warnings.warn('`model.predict_classes()` is deprecated and '\n",
      "\n",
      "C:\\Users\\Alext\\anaconda3\\envs\\ML\\lib\\site-packages\\keras\\engine\\sequential.py:450: UserWarning: `model.predict_classes()` is deprecated and will be removed after 2021-01-01. Please use instead:* `np.argmax(model.predict(x), axis=-1)`,   if your model does multi-class classification   (e.g. if it uses a `softmax` last-layer activation).* `(model.predict(x) > 0.5).astype(\"int32\")`,   if your model does binary classification   (e.g. if it uses a `sigmoid` last-layer activation).\n",
      "  warnings.warn('`model.predict_classes()` is deprecated and '\n",
      "\n",
      "C:\\Users\\Alext\\anaconda3\\envs\\ML\\lib\\site-packages\\keras\\engine\\sequential.py:450: UserWarning: `model.predict_classes()` is deprecated and will be removed after 2021-01-01. Please use instead:* `np.argmax(model.predict(x), axis=-1)`,   if your model does multi-class classification   (e.g. if it uses a `softmax` last-layer activation).* `(model.predict(x) > 0.5).astype(\"int32\")`,   if your model does binary classification   (e.g. if it uses a `sigmoid` last-layer activation).\n",
      "  warnings.warn('`model.predict_classes()` is deprecated and '\n",
      "\n"
     ]
    },
    {
     "name": "stdout",
     "output_type": "stream",
     "text": [
      "Test accuracy:                                                                    \n",
      "0.7253469158578648                                                                \n",
      " 32%|███▏      | 16/50 [09:38<18:32, 32.72s/trial, best loss: -0.7253469158578648]"
     ]
    },
    {
     "name": "stderr",
     "output_type": "stream",
     "text": [
      "C:\\Users\\Alext\\anaconda3\\envs\\ML\\lib\\site-packages\\keras\\engine\\sequential.py:450: UserWarning: `model.predict_classes()` is deprecated and will be removed after 2021-01-01. Please use instead:* `np.argmax(model.predict(x), axis=-1)`,   if your model does multi-class classification   (e.g. if it uses a `softmax` last-layer activation).* `(model.predict(x) > 0.5).astype(\"int32\")`,   if your model does binary classification   (e.g. if it uses a `sigmoid` last-layer activation).\n",
      "  warnings.warn('`model.predict_classes()` is deprecated and '\n",
      "\n",
      "C:\\Users\\Alext\\anaconda3\\envs\\ML\\lib\\site-packages\\keras\\engine\\sequential.py:450: UserWarning: `model.predict_classes()` is deprecated and will be removed after 2021-01-01. Please use instead:* `np.argmax(model.predict(x), axis=-1)`,   if your model does multi-class classification   (e.g. if it uses a `softmax` last-layer activation).* `(model.predict(x) > 0.5).astype(\"int32\")`,   if your model does binary classification   (e.g. if it uses a `sigmoid` last-layer activation).\n",
      "  warnings.warn('`model.predict_classes()` is deprecated and '\n",
      "\n",
      "C:\\Users\\Alext\\anaconda3\\envs\\ML\\lib\\site-packages\\keras\\engine\\sequential.py:450: UserWarning: `model.predict_classes()` is deprecated and will be removed after 2021-01-01. Please use instead:* `np.argmax(model.predict(x), axis=-1)`,   if your model does multi-class classification   (e.g. if it uses a `softmax` last-layer activation).* `(model.predict(x) > 0.5).astype(\"int32\")`,   if your model does binary classification   (e.g. if it uses a `sigmoid` last-layer activation).\n",
      "  warnings.warn('`model.predict_classes()` is deprecated and '\n",
      "\n",
      "C:\\Users\\Alext\\anaconda3\\envs\\ML\\lib\\site-packages\\keras\\engine\\sequential.py:450: UserWarning: `model.predict_classes()` is deprecated and will be removed after 2021-01-01. Please use instead:* `np.argmax(model.predict(x), axis=-1)`,   if your model does multi-class classification   (e.g. if it uses a `softmax` last-layer activation).* `(model.predict(x) > 0.5).astype(\"int32\")`,   if your model does binary classification   (e.g. if it uses a `sigmoid` last-layer activation).\n",
      "  warnings.warn('`model.predict_classes()` is deprecated and '\n",
      "\n",
      "C:\\Users\\Alext\\anaconda3\\envs\\ML\\lib\\site-packages\\keras\\engine\\sequential.py:450: UserWarning: `model.predict_classes()` is deprecated and will be removed after 2021-01-01. Please use instead:* `np.argmax(model.predict(x), axis=-1)`,   if your model does multi-class classification   (e.g. if it uses a `softmax` last-layer activation).* `(model.predict(x) > 0.5).astype(\"int32\")`,   if your model does binary classification   (e.g. if it uses a `sigmoid` last-layer activation).\n",
      "  warnings.warn('`model.predict_classes()` is deprecated and '\n",
      "\n"
     ]
    },
    {
     "name": "stdout",
     "output_type": "stream",
     "text": [
      "Test accuracy:                                                                    \n",
      "0.7253469158578648                                                                \n",
      " 34%|███▍      | 17/50 [10:02<16:31, 30.03s/trial, best loss: -0.7253469158578648]"
     ]
    },
    {
     "name": "stderr",
     "output_type": "stream",
     "text": [
      "C:\\Users\\Alext\\anaconda3\\envs\\ML\\lib\\site-packages\\keras\\engine\\sequential.py:450: UserWarning: `model.predict_classes()` is deprecated and will be removed after 2021-01-01. Please use instead:* `np.argmax(model.predict(x), axis=-1)`,   if your model does multi-class classification   (e.g. if it uses a `softmax` last-layer activation).* `(model.predict(x) > 0.5).astype(\"int32\")`,   if your model does binary classification   (e.g. if it uses a `sigmoid` last-layer activation).\n",
      "  warnings.warn('`model.predict_classes()` is deprecated and '\n",
      "\n",
      "C:\\Users\\Alext\\anaconda3\\envs\\ML\\lib\\site-packages\\keras\\engine\\sequential.py:450: UserWarning: `model.predict_classes()` is deprecated and will be removed after 2021-01-01. Please use instead:* `np.argmax(model.predict(x), axis=-1)`,   if your model does multi-class classification   (e.g. if it uses a `softmax` last-layer activation).* `(model.predict(x) > 0.5).astype(\"int32\")`,   if your model does binary classification   (e.g. if it uses a `sigmoid` last-layer activation).\n",
      "  warnings.warn('`model.predict_classes()` is deprecated and '\n",
      "\n",
      "C:\\Users\\Alext\\anaconda3\\envs\\ML\\lib\\site-packages\\keras\\engine\\sequential.py:450: UserWarning: `model.predict_classes()` is deprecated and will be removed after 2021-01-01. Please use instead:* `np.argmax(model.predict(x), axis=-1)`,   if your model does multi-class classification   (e.g. if it uses a `softmax` last-layer activation).* `(model.predict(x) > 0.5).astype(\"int32\")`,   if your model does binary classification   (e.g. if it uses a `sigmoid` last-layer activation).\n",
      "  warnings.warn('`model.predict_classes()` is deprecated and '\n",
      "\n",
      "C:\\Users\\Alext\\anaconda3\\envs\\ML\\lib\\site-packages\\keras\\engine\\sequential.py:450: UserWarning: `model.predict_classes()` is deprecated and will be removed after 2021-01-01. Please use instead:* `np.argmax(model.predict(x), axis=-1)`,   if your model does multi-class classification   (e.g. if it uses a `softmax` last-layer activation).* `(model.predict(x) > 0.5).astype(\"int32\")`,   if your model does binary classification   (e.g. if it uses a `sigmoid` last-layer activation).\n",
      "  warnings.warn('`model.predict_classes()` is deprecated and '\n",
      "\n",
      "C:\\Users\\Alext\\anaconda3\\envs\\ML\\lib\\site-packages\\keras\\engine\\sequential.py:450: UserWarning: `model.predict_classes()` is deprecated and will be removed after 2021-01-01. Please use instead:* `np.argmax(model.predict(x), axis=-1)`,   if your model does multi-class classification   (e.g. if it uses a `softmax` last-layer activation).* `(model.predict(x) > 0.5).astype(\"int32\")`,   if your model does binary classification   (e.g. if it uses a `sigmoid` last-layer activation).\n",
      "  warnings.warn('`model.predict_classes()` is deprecated and '\n",
      "\n"
     ]
    },
    {
     "name": "stdout",
     "output_type": "stream",
     "text": [
      "Test accuracy:                                                                    \n",
      "0.7246169888505655                                                                \n",
      " 36%|███▌      | 18/50 [10:20<14:05, 26.42s/trial, best loss: -0.7253469158578648]"
     ]
    },
    {
     "name": "stderr",
     "output_type": "stream",
     "text": [
      "C:\\Users\\Alext\\anaconda3\\envs\\ML\\lib\\site-packages\\keras\\engine\\sequential.py:450: UserWarning: `model.predict_classes()` is deprecated and will be removed after 2021-01-01. Please use instead:* `np.argmax(model.predict(x), axis=-1)`,   if your model does multi-class classification   (e.g. if it uses a `softmax` last-layer activation).* `(model.predict(x) > 0.5).astype(\"int32\")`,   if your model does binary classification   (e.g. if it uses a `sigmoid` last-layer activation).\n",
      "  warnings.warn('`model.predict_classes()` is deprecated and '\n",
      "\n",
      "C:\\Users\\Alext\\anaconda3\\envs\\ML\\lib\\site-packages\\keras\\engine\\sequential.py:450: UserWarning: `model.predict_classes()` is deprecated and will be removed after 2021-01-01. Please use instead:* `np.argmax(model.predict(x), axis=-1)`,   if your model does multi-class classification   (e.g. if it uses a `softmax` last-layer activation).* `(model.predict(x) > 0.5).astype(\"int32\")`,   if your model does binary classification   (e.g. if it uses a `sigmoid` last-layer activation).\n",
      "  warnings.warn('`model.predict_classes()` is deprecated and '\n",
      "\n",
      "C:\\Users\\Alext\\anaconda3\\envs\\ML\\lib\\site-packages\\keras\\engine\\sequential.py:450: UserWarning: `model.predict_classes()` is deprecated and will be removed after 2021-01-01. Please use instead:* `np.argmax(model.predict(x), axis=-1)`,   if your model does multi-class classification   (e.g. if it uses a `softmax` last-layer activation).* `(model.predict(x) > 0.5).astype(\"int32\")`,   if your model does binary classification   (e.g. if it uses a `sigmoid` last-layer activation).\n",
      "  warnings.warn('`model.predict_classes()` is deprecated and '\n",
      "\n",
      "C:\\Users\\Alext\\anaconda3\\envs\\ML\\lib\\site-packages\\keras\\engine\\sequential.py:450: UserWarning: `model.predict_classes()` is deprecated and will be removed after 2021-01-01. Please use instead:* `np.argmax(model.predict(x), axis=-1)`,   if your model does multi-class classification   (e.g. if it uses a `softmax` last-layer activation).* `(model.predict(x) > 0.5).astype(\"int32\")`,   if your model does binary classification   (e.g. if it uses a `sigmoid` last-layer activation).\n",
      "  warnings.warn('`model.predict_classes()` is deprecated and '\n",
      "\n",
      "C:\\Users\\Alext\\anaconda3\\envs\\ML\\lib\\site-packages\\keras\\engine\\sequential.py:450: UserWarning: `model.predict_classes()` is deprecated and will be removed after 2021-01-01. Please use instead:* `np.argmax(model.predict(x), axis=-1)`,   if your model does multi-class classification   (e.g. if it uses a `softmax` last-layer activation).* `(model.predict(x) > 0.5).astype(\"int32\")`,   if your model does binary classification   (e.g. if it uses a `sigmoid` last-layer activation).\n",
      "  warnings.warn('`model.predict_classes()` is deprecated and '\n",
      "\n"
     ]
    },
    {
     "name": "stdout",
     "output_type": "stream",
     "text": [
      "Test accuracy:                                                                    \n",
      "0.7246169888505655                                                                \n",
      " 38%|███▊      | 19/50 [10:42<12:54, 25.00s/trial, best loss: -0.7253469158578648]"
     ]
    },
    {
     "name": "stderr",
     "output_type": "stream",
     "text": [
      "C:\\Users\\Alext\\anaconda3\\envs\\ML\\lib\\site-packages\\keras\\engine\\sequential.py:450: UserWarning: `model.predict_classes()` is deprecated and will be removed after 2021-01-01. Please use instead:* `np.argmax(model.predict(x), axis=-1)`,   if your model does multi-class classification   (e.g. if it uses a `softmax` last-layer activation).* `(model.predict(x) > 0.5).astype(\"int32\")`,   if your model does binary classification   (e.g. if it uses a `sigmoid` last-layer activation).\n",
      "  warnings.warn('`model.predict_classes()` is deprecated and '\n",
      "\n",
      "C:\\Users\\Alext\\anaconda3\\envs\\ML\\lib\\site-packages\\keras\\engine\\sequential.py:450: UserWarning: `model.predict_classes()` is deprecated and will be removed after 2021-01-01. Please use instead:* `np.argmax(model.predict(x), axis=-1)`,   if your model does multi-class classification   (e.g. if it uses a `softmax` last-layer activation).* `(model.predict(x) > 0.5).astype(\"int32\")`,   if your model does binary classification   (e.g. if it uses a `sigmoid` last-layer activation).\n",
      "  warnings.warn('`model.predict_classes()` is deprecated and '\n",
      "\n",
      "C:\\Users\\Alext\\anaconda3\\envs\\ML\\lib\\site-packages\\keras\\engine\\sequential.py:450: UserWarning: `model.predict_classes()` is deprecated and will be removed after 2021-01-01. Please use instead:* `np.argmax(model.predict(x), axis=-1)`,   if your model does multi-class classification   (e.g. if it uses a `softmax` last-layer activation).* `(model.predict(x) > 0.5).astype(\"int32\")`,   if your model does binary classification   (e.g. if it uses a `sigmoid` last-layer activation).\n",
      "  warnings.warn('`model.predict_classes()` is deprecated and '\n",
      "\n",
      "C:\\Users\\Alext\\anaconda3\\envs\\ML\\lib\\site-packages\\keras\\engine\\sequential.py:450: UserWarning: `model.predict_classes()` is deprecated and will be removed after 2021-01-01. Please use instead:* `np.argmax(model.predict(x), axis=-1)`,   if your model does multi-class classification   (e.g. if it uses a `softmax` last-layer activation).* `(model.predict(x) > 0.5).astype(\"int32\")`,   if your model does binary classification   (e.g. if it uses a `sigmoid` last-layer activation).\n",
      "  warnings.warn('`model.predict_classes()` is deprecated and '\n",
      "\n",
      "C:\\Users\\Alext\\anaconda3\\envs\\ML\\lib\\site-packages\\keras\\engine\\sequential.py:450: UserWarning: `model.predict_classes()` is deprecated and will be removed after 2021-01-01. Please use instead:* `np.argmax(model.predict(x), axis=-1)`,   if your model does multi-class classification   (e.g. if it uses a `softmax` last-layer activation).* `(model.predict(x) > 0.5).astype(\"int32\")`,   if your model does binary classification   (e.g. if it uses a `sigmoid` last-layer activation).\n",
      "  warnings.warn('`model.predict_classes()` is deprecated and '\n",
      "\n"
     ]
    },
    {
     "name": "stdout",
     "output_type": "stream",
     "text": [
      "Test accuracy:                                                                    \n",
      "0.7246143151252641                                                                \n",
      " 40%|████      | 20/50 [11:27<15:29, 30.98s/trial, best loss: -0.7253469158578648]"
     ]
    },
    {
     "name": "stderr",
     "output_type": "stream",
     "text": [
      "C:\\Users\\Alext\\anaconda3\\envs\\ML\\lib\\site-packages\\keras\\engine\\sequential.py:450: UserWarning: `model.predict_classes()` is deprecated and will be removed after 2021-01-01. Please use instead:* `np.argmax(model.predict(x), axis=-1)`,   if your model does multi-class classification   (e.g. if it uses a `softmax` last-layer activation).* `(model.predict(x) > 0.5).astype(\"int32\")`,   if your model does binary classification   (e.g. if it uses a `sigmoid` last-layer activation).\n",
      "  warnings.warn('`model.predict_classes()` is deprecated and '\n",
      "\n",
      "C:\\Users\\Alext\\anaconda3\\envs\\ML\\lib\\site-packages\\keras\\engine\\sequential.py:450: UserWarning: `model.predict_classes()` is deprecated and will be removed after 2021-01-01. Please use instead:* `np.argmax(model.predict(x), axis=-1)`,   if your model does multi-class classification   (e.g. if it uses a `softmax` last-layer activation).* `(model.predict(x) > 0.5).astype(\"int32\")`,   if your model does binary classification   (e.g. if it uses a `sigmoid` last-layer activation).\n",
      "  warnings.warn('`model.predict_classes()` is deprecated and '\n",
      "\n",
      "C:\\Users\\Alext\\anaconda3\\envs\\ML\\lib\\site-packages\\keras\\engine\\sequential.py:450: UserWarning: `model.predict_classes()` is deprecated and will be removed after 2021-01-01. Please use instead:* `np.argmax(model.predict(x), axis=-1)`,   if your model does multi-class classification   (e.g. if it uses a `softmax` last-layer activation).* `(model.predict(x) > 0.5).astype(\"int32\")`,   if your model does binary classification   (e.g. if it uses a `sigmoid` last-layer activation).\n",
      "  warnings.warn('`model.predict_classes()` is deprecated and '\n",
      "\n",
      "C:\\Users\\Alext\\anaconda3\\envs\\ML\\lib\\site-packages\\keras\\engine\\sequential.py:450: UserWarning: `model.predict_classes()` is deprecated and will be removed after 2021-01-01. Please use instead:* `np.argmax(model.predict(x), axis=-1)`,   if your model does multi-class classification   (e.g. if it uses a `softmax` last-layer activation).* `(model.predict(x) > 0.5).astype(\"int32\")`,   if your model does binary classification   (e.g. if it uses a `sigmoid` last-layer activation).\n",
      "  warnings.warn('`model.predict_classes()` is deprecated and '\n",
      "\n",
      "C:\\Users\\Alext\\anaconda3\\envs\\ML\\lib\\site-packages\\keras\\engine\\sequential.py:450: UserWarning: `model.predict_classes()` is deprecated and will be removed after 2021-01-01. Please use instead:* `np.argmax(model.predict(x), axis=-1)`,   if your model does multi-class classification   (e.g. if it uses a `softmax` last-layer activation).* `(model.predict(x) > 0.5).astype(\"int32\")`,   if your model does binary classification   (e.g. if it uses a `sigmoid` last-layer activation).\n",
      "  warnings.warn('`model.predict_classes()` is deprecated and '\n",
      "\n"
     ]
    },
    {
     "name": "stdout",
     "output_type": "stream",
     "text": [
      "Test accuracy:                                                                    \n",
      "0.7253469158578648                                                                \n",
      " 42%|████▏     | 21/50 [11:46<13:15, 27.42s/trial, best loss: -0.7253469158578648]"
     ]
    },
    {
     "name": "stderr",
     "output_type": "stream",
     "text": [
      "C:\\Users\\Alext\\anaconda3\\envs\\ML\\lib\\site-packages\\keras\\engine\\sequential.py:450: UserWarning: `model.predict_classes()` is deprecated and will be removed after 2021-01-01. Please use instead:* `np.argmax(model.predict(x), axis=-1)`,   if your model does multi-class classification   (e.g. if it uses a `softmax` last-layer activation).* `(model.predict(x) > 0.5).astype(\"int32\")`,   if your model does binary classification   (e.g. if it uses a `sigmoid` last-layer activation).\n",
      "  warnings.warn('`model.predict_classes()` is deprecated and '\n",
      "\n",
      "C:\\Users\\Alext\\anaconda3\\envs\\ML\\lib\\site-packages\\keras\\engine\\sequential.py:450: UserWarning: `model.predict_classes()` is deprecated and will be removed after 2021-01-01. Please use instead:* `np.argmax(model.predict(x), axis=-1)`,   if your model does multi-class classification   (e.g. if it uses a `softmax` last-layer activation).* `(model.predict(x) > 0.5).astype(\"int32\")`,   if your model does binary classification   (e.g. if it uses a `sigmoid` last-layer activation).\n",
      "  warnings.warn('`model.predict_classes()` is deprecated and '\n",
      "\n",
      "C:\\Users\\Alext\\anaconda3\\envs\\ML\\lib\\site-packages\\keras\\engine\\sequential.py:450: UserWarning: `model.predict_classes()` is deprecated and will be removed after 2021-01-01. Please use instead:* `np.argmax(model.predict(x), axis=-1)`,   if your model does multi-class classification   (e.g. if it uses a `softmax` last-layer activation).* `(model.predict(x) > 0.5).astype(\"int32\")`,   if your model does binary classification   (e.g. if it uses a `sigmoid` last-layer activation).\n",
      "  warnings.warn('`model.predict_classes()` is deprecated and '\n",
      "\n",
      "C:\\Users\\Alext\\anaconda3\\envs\\ML\\lib\\site-packages\\keras\\engine\\sequential.py:450: UserWarning: `model.predict_classes()` is deprecated and will be removed after 2021-01-01. Please use instead:* `np.argmax(model.predict(x), axis=-1)`,   if your model does multi-class classification   (e.g. if it uses a `softmax` last-layer activation).* `(model.predict(x) > 0.5).astype(\"int32\")`,   if your model does binary classification   (e.g. if it uses a `sigmoid` last-layer activation).\n",
      "  warnings.warn('`model.predict_classes()` is deprecated and '\n",
      "\n",
      "C:\\Users\\Alext\\anaconda3\\envs\\ML\\lib\\site-packages\\keras\\engine\\sequential.py:450: UserWarning: `model.predict_classes()` is deprecated and will be removed after 2021-01-01. Please use instead:* `np.argmax(model.predict(x), axis=-1)`,   if your model does multi-class classification   (e.g. if it uses a `softmax` last-layer activation).* `(model.predict(x) > 0.5).astype(\"int32\")`,   if your model does binary classification   (e.g. if it uses a `sigmoid` last-layer activation).\n",
      "  warnings.warn('`model.predict_classes()` is deprecated and '\n",
      "\n"
     ]
    },
    {
     "name": "stdout",
     "output_type": "stream",
     "text": [
      "Test accuracy:                                                                    \n",
      "0.7253469158578648                                                                \n",
      " 44%|████▍     | 22/50 [12:09<12:11, 26.12s/trial, best loss: -0.7253469158578648]"
     ]
    },
    {
     "name": "stderr",
     "output_type": "stream",
     "text": [
      "C:\\Users\\Alext\\anaconda3\\envs\\ML\\lib\\site-packages\\keras\\engine\\sequential.py:450: UserWarning: `model.predict_classes()` is deprecated and will be removed after 2021-01-01. Please use instead:* `np.argmax(model.predict(x), axis=-1)`,   if your model does multi-class classification   (e.g. if it uses a `softmax` last-layer activation).* `(model.predict(x) > 0.5).astype(\"int32\")`,   if your model does binary classification   (e.g. if it uses a `sigmoid` last-layer activation).\n",
      "  warnings.warn('`model.predict_classes()` is deprecated and '\n",
      "\n",
      "C:\\Users\\Alext\\anaconda3\\envs\\ML\\lib\\site-packages\\keras\\engine\\sequential.py:450: UserWarning: `model.predict_classes()` is deprecated and will be removed after 2021-01-01. Please use instead:* `np.argmax(model.predict(x), axis=-1)`,   if your model does multi-class classification   (e.g. if it uses a `softmax` last-layer activation).* `(model.predict(x) > 0.5).astype(\"int32\")`,   if your model does binary classification   (e.g. if it uses a `sigmoid` last-layer activation).\n",
      "  warnings.warn('`model.predict_classes()` is deprecated and '\n",
      "\n",
      "C:\\Users\\Alext\\anaconda3\\envs\\ML\\lib\\site-packages\\keras\\engine\\sequential.py:450: UserWarning: `model.predict_classes()` is deprecated and will be removed after 2021-01-01. Please use instead:* `np.argmax(model.predict(x), axis=-1)`,   if your model does multi-class classification   (e.g. if it uses a `softmax` last-layer activation).* `(model.predict(x) > 0.5).astype(\"int32\")`,   if your model does binary classification   (e.g. if it uses a `sigmoid` last-layer activation).\n",
      "  warnings.warn('`model.predict_classes()` is deprecated and '\n",
      "\n",
      "C:\\Users\\Alext\\anaconda3\\envs\\ML\\lib\\site-packages\\keras\\engine\\sequential.py:450: UserWarning: `model.predict_classes()` is deprecated and will be removed after 2021-01-01. Please use instead:* `np.argmax(model.predict(x), axis=-1)`,   if your model does multi-class classification   (e.g. if it uses a `softmax` last-layer activation).* `(model.predict(x) > 0.5).astype(\"int32\")`,   if your model does binary classification   (e.g. if it uses a `sigmoid` last-layer activation).\n",
      "  warnings.warn('`model.predict_classes()` is deprecated and '\n",
      "\n",
      "C:\\Users\\Alext\\anaconda3\\envs\\ML\\lib\\site-packages\\keras\\engine\\sequential.py:450: UserWarning: `model.predict_classes()` is deprecated and will be removed after 2021-01-01. Please use instead:* `np.argmax(model.predict(x), axis=-1)`,   if your model does multi-class classification   (e.g. if it uses a `softmax` last-layer activation).* `(model.predict(x) > 0.5).astype(\"int32\")`,   if your model does binary classification   (e.g. if it uses a `sigmoid` last-layer activation).\n",
      "  warnings.warn('`model.predict_classes()` is deprecated and '\n",
      "\n"
     ]
    },
    {
     "name": "stdout",
     "output_type": "stream",
     "text": [
      "Test accuracy:                                                                    \n",
      "0.7253469158578648                                                                \n",
      " 46%|████▌     | 23/50 [12:38<12:07, 26.94s/trial, best loss: -0.7253469158578648]"
     ]
    },
    {
     "name": "stderr",
     "output_type": "stream",
     "text": [
      "C:\\Users\\Alext\\anaconda3\\envs\\ML\\lib\\site-packages\\keras\\engine\\sequential.py:450: UserWarning: `model.predict_classes()` is deprecated and will be removed after 2021-01-01. Please use instead:* `np.argmax(model.predict(x), axis=-1)`,   if your model does multi-class classification   (e.g. if it uses a `softmax` last-layer activation).* `(model.predict(x) > 0.5).astype(\"int32\")`,   if your model does binary classification   (e.g. if it uses a `sigmoid` last-layer activation).\n",
      "  warnings.warn('`model.predict_classes()` is deprecated and '\n",
      "\n",
      "C:\\Users\\Alext\\anaconda3\\envs\\ML\\lib\\site-packages\\keras\\engine\\sequential.py:450: UserWarning: `model.predict_classes()` is deprecated and will be removed after 2021-01-01. Please use instead:* `np.argmax(model.predict(x), axis=-1)`,   if your model does multi-class classification   (e.g. if it uses a `softmax` last-layer activation).* `(model.predict(x) > 0.5).astype(\"int32\")`,   if your model does binary classification   (e.g. if it uses a `sigmoid` last-layer activation).\n",
      "  warnings.warn('`model.predict_classes()` is deprecated and '\n",
      "\n",
      "C:\\Users\\Alext\\anaconda3\\envs\\ML\\lib\\site-packages\\keras\\engine\\sequential.py:450: UserWarning: `model.predict_classes()` is deprecated and will be removed after 2021-01-01. Please use instead:* `np.argmax(model.predict(x), axis=-1)`,   if your model does multi-class classification   (e.g. if it uses a `softmax` last-layer activation).* `(model.predict(x) > 0.5).astype(\"int32\")`,   if your model does binary classification   (e.g. if it uses a `sigmoid` last-layer activation).\n",
      "  warnings.warn('`model.predict_classes()` is deprecated and '\n",
      "\n",
      "C:\\Users\\Alext\\anaconda3\\envs\\ML\\lib\\site-packages\\keras\\engine\\sequential.py:450: UserWarning: `model.predict_classes()` is deprecated and will be removed after 2021-01-01. Please use instead:* `np.argmax(model.predict(x), axis=-1)`,   if your model does multi-class classification   (e.g. if it uses a `softmax` last-layer activation).* `(model.predict(x) > 0.5).astype(\"int32\")`,   if your model does binary classification   (e.g. if it uses a `sigmoid` last-layer activation).\n",
      "  warnings.warn('`model.predict_classes()` is deprecated and '\n",
      "\n",
      "C:\\Users\\Alext\\anaconda3\\envs\\ML\\lib\\site-packages\\keras\\engine\\sequential.py:450: UserWarning: `model.predict_classes()` is deprecated and will be removed after 2021-01-01. Please use instead:* `np.argmax(model.predict(x), axis=-1)`,   if your model does multi-class classification   (e.g. if it uses a `softmax` last-layer activation).* `(model.predict(x) > 0.5).astype(\"int32\")`,   if your model does binary classification   (e.g. if it uses a `sigmoid` last-layer activation).\n",
      "  warnings.warn('`model.predict_classes()` is deprecated and '\n",
      "\n"
     ]
    },
    {
     "name": "stdout",
     "output_type": "stream",
     "text": [
      "Test accuracy:                                                                    \n",
      "0.7253469158578648                                                                \n",
      " 48%|████▊     | 24/50 [12:57<10:42, 24.69s/trial, best loss: -0.7253469158578648]"
     ]
    },
    {
     "name": "stderr",
     "output_type": "stream",
     "text": [
      "C:\\Users\\Alext\\anaconda3\\envs\\ML\\lib\\site-packages\\keras\\engine\\sequential.py:450: UserWarning: `model.predict_classes()` is deprecated and will be removed after 2021-01-01. Please use instead:* `np.argmax(model.predict(x), axis=-1)`,   if your model does multi-class classification   (e.g. if it uses a `softmax` last-layer activation).* `(model.predict(x) > 0.5).astype(\"int32\")`,   if your model does binary classification   (e.g. if it uses a `sigmoid` last-layer activation).\n",
      "  warnings.warn('`model.predict_classes()` is deprecated and '\n",
      "\n",
      "C:\\Users\\Alext\\anaconda3\\envs\\ML\\lib\\site-packages\\keras\\engine\\sequential.py:450: UserWarning: `model.predict_classes()` is deprecated and will be removed after 2021-01-01. Please use instead:* `np.argmax(model.predict(x), axis=-1)`,   if your model does multi-class classification   (e.g. if it uses a `softmax` last-layer activation).* `(model.predict(x) > 0.5).astype(\"int32\")`,   if your model does binary classification   (e.g. if it uses a `sigmoid` last-layer activation).\n",
      "  warnings.warn('`model.predict_classes()` is deprecated and '\n",
      "\n",
      "C:\\Users\\Alext\\anaconda3\\envs\\ML\\lib\\site-packages\\keras\\engine\\sequential.py:450: UserWarning: `model.predict_classes()` is deprecated and will be removed after 2021-01-01. Please use instead:* `np.argmax(model.predict(x), axis=-1)`,   if your model does multi-class classification   (e.g. if it uses a `softmax` last-layer activation).* `(model.predict(x) > 0.5).astype(\"int32\")`,   if your model does binary classification   (e.g. if it uses a `sigmoid` last-layer activation).\n",
      "  warnings.warn('`model.predict_classes()` is deprecated and '\n",
      "\n",
      "C:\\Users\\Alext\\anaconda3\\envs\\ML\\lib\\site-packages\\keras\\engine\\sequential.py:450: UserWarning: `model.predict_classes()` is deprecated and will be removed after 2021-01-01. Please use instead:* `np.argmax(model.predict(x), axis=-1)`,   if your model does multi-class classification   (e.g. if it uses a `softmax` last-layer activation).* `(model.predict(x) > 0.5).astype(\"int32\")`,   if your model does binary classification   (e.g. if it uses a `sigmoid` last-layer activation).\n",
      "  warnings.warn('`model.predict_classes()` is deprecated and '\n",
      "\n",
      "C:\\Users\\Alext\\anaconda3\\envs\\ML\\lib\\site-packages\\keras\\engine\\sequential.py:450: UserWarning: `model.predict_classes()` is deprecated and will be removed after 2021-01-01. Please use instead:* `np.argmax(model.predict(x), axis=-1)`,   if your model does multi-class classification   (e.g. if it uses a `softmax` last-layer activation).* `(model.predict(x) > 0.5).astype(\"int32\")`,   if your model does binary classification   (e.g. if it uses a `sigmoid` last-layer activation).\n",
      "  warnings.warn('`model.predict_classes()` is deprecated and '\n",
      "\n"
     ]
    },
    {
     "name": "stdout",
     "output_type": "stream",
     "text": [
      "Test accuracy:                                                                    \n",
      "0.7253469158578648                                                                \n",
      " 50%|█████     | 25/50 [13:19<09:54, 23.77s/trial, best loss: -0.7253469158578648]"
     ]
    },
    {
     "name": "stderr",
     "output_type": "stream",
     "text": [
      "C:\\Users\\Alext\\anaconda3\\envs\\ML\\lib\\site-packages\\keras\\engine\\sequential.py:450: UserWarning: `model.predict_classes()` is deprecated and will be removed after 2021-01-01. Please use instead:* `np.argmax(model.predict(x), axis=-1)`,   if your model does multi-class classification   (e.g. if it uses a `softmax` last-layer activation).* `(model.predict(x) > 0.5).astype(\"int32\")`,   if your model does binary classification   (e.g. if it uses a `sigmoid` last-layer activation).\n",
      "  warnings.warn('`model.predict_classes()` is deprecated and '\n",
      "\n",
      "C:\\Users\\Alext\\anaconda3\\envs\\ML\\lib\\site-packages\\keras\\engine\\sequential.py:450: UserWarning: `model.predict_classes()` is deprecated and will be removed after 2021-01-01. Please use instead:* `np.argmax(model.predict(x), axis=-1)`,   if your model does multi-class classification   (e.g. if it uses a `softmax` last-layer activation).* `(model.predict(x) > 0.5).astype(\"int32\")`,   if your model does binary classification   (e.g. if it uses a `sigmoid` last-layer activation).\n",
      "  warnings.warn('`model.predict_classes()` is deprecated and '\n",
      "\n",
      "C:\\Users\\Alext\\anaconda3\\envs\\ML\\lib\\site-packages\\keras\\engine\\sequential.py:450: UserWarning: `model.predict_classes()` is deprecated and will be removed after 2021-01-01. Please use instead:* `np.argmax(model.predict(x), axis=-1)`,   if your model does multi-class classification   (e.g. if it uses a `softmax` last-layer activation).* `(model.predict(x) > 0.5).astype(\"int32\")`,   if your model does binary classification   (e.g. if it uses a `sigmoid` last-layer activation).\n",
      "  warnings.warn('`model.predict_classes()` is deprecated and '\n",
      "\n",
      "C:\\Users\\Alext\\anaconda3\\envs\\ML\\lib\\site-packages\\keras\\engine\\sequential.py:450: UserWarning: `model.predict_classes()` is deprecated and will be removed after 2021-01-01. Please use instead:* `np.argmax(model.predict(x), axis=-1)`,   if your model does multi-class classification   (e.g. if it uses a `softmax` last-layer activation).* `(model.predict(x) > 0.5).astype(\"int32\")`,   if your model does binary classification   (e.g. if it uses a `sigmoid` last-layer activation).\n",
      "  warnings.warn('`model.predict_classes()` is deprecated and '\n",
      "\n",
      "C:\\Users\\Alext\\anaconda3\\envs\\ML\\lib\\site-packages\\keras\\engine\\sequential.py:450: UserWarning: `model.predict_classes()` is deprecated and will be removed after 2021-01-01. Please use instead:* `np.argmax(model.predict(x), axis=-1)`,   if your model does multi-class classification   (e.g. if it uses a `softmax` last-layer activation).* `(model.predict(x) > 0.5).astype(\"int32\")`,   if your model does binary classification   (e.g. if it uses a `sigmoid` last-layer activation).\n",
      "  warnings.warn('`model.predict_classes()` is deprecated and '\n",
      "\n"
     ]
    },
    {
     "name": "stdout",
     "output_type": "stream",
     "text": [
      "Test accuracy:                                                                    \n",
      "0.7253469158578648                                                                \n",
      " 52%|█████▏    | 26/50 [13:51<10:28, 26.17s/trial, best loss: -0.7253469158578648]"
     ]
    },
    {
     "name": "stderr",
     "output_type": "stream",
     "text": [
      "C:\\Users\\Alext\\anaconda3\\envs\\ML\\lib\\site-packages\\keras\\engine\\sequential.py:450: UserWarning: `model.predict_classes()` is deprecated and will be removed after 2021-01-01. Please use instead:* `np.argmax(model.predict(x), axis=-1)`,   if your model does multi-class classification   (e.g. if it uses a `softmax` last-layer activation).* `(model.predict(x) > 0.5).astype(\"int32\")`,   if your model does binary classification   (e.g. if it uses a `sigmoid` last-layer activation).\n",
      "  warnings.warn('`model.predict_classes()` is deprecated and '\n",
      "\n",
      "C:\\Users\\Alext\\anaconda3\\envs\\ML\\lib\\site-packages\\keras\\engine\\sequential.py:450: UserWarning: `model.predict_classes()` is deprecated and will be removed after 2021-01-01. Please use instead:* `np.argmax(model.predict(x), axis=-1)`,   if your model does multi-class classification   (e.g. if it uses a `softmax` last-layer activation).* `(model.predict(x) > 0.5).astype(\"int32\")`,   if your model does binary classification   (e.g. if it uses a `sigmoid` last-layer activation).\n",
      "  warnings.warn('`model.predict_classes()` is deprecated and '\n",
      "\n",
      "C:\\Users\\Alext\\anaconda3\\envs\\ML\\lib\\site-packages\\keras\\engine\\sequential.py:450: UserWarning: `model.predict_classes()` is deprecated and will be removed after 2021-01-01. Please use instead:* `np.argmax(model.predict(x), axis=-1)`,   if your model does multi-class classification   (e.g. if it uses a `softmax` last-layer activation).* `(model.predict(x) > 0.5).astype(\"int32\")`,   if your model does binary classification   (e.g. if it uses a `sigmoid` last-layer activation).\n",
      "  warnings.warn('`model.predict_classes()` is deprecated and '\n",
      "\n",
      "C:\\Users\\Alext\\anaconda3\\envs\\ML\\lib\\site-packages\\keras\\engine\\sequential.py:450: UserWarning: `model.predict_classes()` is deprecated and will be removed after 2021-01-01. Please use instead:* `np.argmax(model.predict(x), axis=-1)`,   if your model does multi-class classification   (e.g. if it uses a `softmax` last-layer activation).* `(model.predict(x) > 0.5).astype(\"int32\")`,   if your model does binary classification   (e.g. if it uses a `sigmoid` last-layer activation).\n",
      "  warnings.warn('`model.predict_classes()` is deprecated and '\n",
      "\n",
      "C:\\Users\\Alext\\anaconda3\\envs\\ML\\lib\\site-packages\\keras\\engine\\sequential.py:450: UserWarning: `model.predict_classes()` is deprecated and will be removed after 2021-01-01. Please use instead:* `np.argmax(model.predict(x), axis=-1)`,   if your model does multi-class classification   (e.g. if it uses a `softmax` last-layer activation).* `(model.predict(x) > 0.5).astype(\"int32\")`,   if your model does binary classification   (e.g. if it uses a `sigmoid` last-layer activation).\n",
      "  warnings.warn('`model.predict_classes()` is deprecated and '\n",
      "\n"
     ]
    },
    {
     "name": "stdout",
     "output_type": "stream",
     "text": [
      "Test accuracy:                                                                    \n",
      "0.7253469158578648                                                                \n",
      " 54%|█████▍    | 27/50 [14:18<10:08, 26.45s/trial, best loss: -0.7253469158578648]"
     ]
    },
    {
     "name": "stderr",
     "output_type": "stream",
     "text": [
      "C:\\Users\\Alext\\anaconda3\\envs\\ML\\lib\\site-packages\\keras\\engine\\sequential.py:450: UserWarning: `model.predict_classes()` is deprecated and will be removed after 2021-01-01. Please use instead:* `np.argmax(model.predict(x), axis=-1)`,   if your model does multi-class classification   (e.g. if it uses a `softmax` last-layer activation).* `(model.predict(x) > 0.5).astype(\"int32\")`,   if your model does binary classification   (e.g. if it uses a `sigmoid` last-layer activation).\n",
      "  warnings.warn('`model.predict_classes()` is deprecated and '\n",
      "\n",
      "C:\\Users\\Alext\\anaconda3\\envs\\ML\\lib\\site-packages\\keras\\engine\\sequential.py:450: UserWarning: `model.predict_classes()` is deprecated and will be removed after 2021-01-01. Please use instead:* `np.argmax(model.predict(x), axis=-1)`,   if your model does multi-class classification   (e.g. if it uses a `softmax` last-layer activation).* `(model.predict(x) > 0.5).astype(\"int32\")`,   if your model does binary classification   (e.g. if it uses a `sigmoid` last-layer activation).\n",
      "  warnings.warn('`model.predict_classes()` is deprecated and '\n",
      "\n",
      "C:\\Users\\Alext\\anaconda3\\envs\\ML\\lib\\site-packages\\keras\\engine\\sequential.py:450: UserWarning: `model.predict_classes()` is deprecated and will be removed after 2021-01-01. Please use instead:* `np.argmax(model.predict(x), axis=-1)`,   if your model does multi-class classification   (e.g. if it uses a `softmax` last-layer activation).* `(model.predict(x) > 0.5).astype(\"int32\")`,   if your model does binary classification   (e.g. if it uses a `sigmoid` last-layer activation).\n",
      "  warnings.warn('`model.predict_classes()` is deprecated and '\n",
      "\n",
      "C:\\Users\\Alext\\anaconda3\\envs\\ML\\lib\\site-packages\\keras\\engine\\sequential.py:450: UserWarning: `model.predict_classes()` is deprecated and will be removed after 2021-01-01. Please use instead:* `np.argmax(model.predict(x), axis=-1)`,   if your model does multi-class classification   (e.g. if it uses a `softmax` last-layer activation).* `(model.predict(x) > 0.5).astype(\"int32\")`,   if your model does binary classification   (e.g. if it uses a `sigmoid` last-layer activation).\n",
      "  warnings.warn('`model.predict_classes()` is deprecated and '\n",
      "\n",
      "C:\\Users\\Alext\\anaconda3\\envs\\ML\\lib\\site-packages\\keras\\engine\\sequential.py:450: UserWarning: `model.predict_classes()` is deprecated and will be removed after 2021-01-01. Please use instead:* `np.argmax(model.predict(x), axis=-1)`,   if your model does multi-class classification   (e.g. if it uses a `softmax` last-layer activation).* `(model.predict(x) > 0.5).astype(\"int32\")`,   if your model does binary classification   (e.g. if it uses a `sigmoid` last-layer activation).\n",
      "  warnings.warn('`model.predict_classes()` is deprecated and '\n",
      "\n"
     ]
    },
    {
     "name": "stdout",
     "output_type": "stream",
     "text": [
      "Test accuracy:                                                                    \n",
      "0.7253469158578648                                                                \n",
      " 56%|█████▌    | 28/50 [14:45<09:48, 26.73s/trial, best loss: -0.7253469158578648]"
     ]
    },
    {
     "name": "stderr",
     "output_type": "stream",
     "text": [
      "C:\\Users\\Alext\\anaconda3\\envs\\ML\\lib\\site-packages\\keras\\engine\\sequential.py:450: UserWarning: `model.predict_classes()` is deprecated and will be removed after 2021-01-01. Please use instead:* `np.argmax(model.predict(x), axis=-1)`,   if your model does multi-class classification   (e.g. if it uses a `softmax` last-layer activation).* `(model.predict(x) > 0.5).astype(\"int32\")`,   if your model does binary classification   (e.g. if it uses a `sigmoid` last-layer activation).\n",
      "  warnings.warn('`model.predict_classes()` is deprecated and '\n",
      "\n",
      "C:\\Users\\Alext\\anaconda3\\envs\\ML\\lib\\site-packages\\keras\\engine\\sequential.py:450: UserWarning: `model.predict_classes()` is deprecated and will be removed after 2021-01-01. Please use instead:* `np.argmax(model.predict(x), axis=-1)`,   if your model does multi-class classification   (e.g. if it uses a `softmax` last-layer activation).* `(model.predict(x) > 0.5).astype(\"int32\")`,   if your model does binary classification   (e.g. if it uses a `sigmoid` last-layer activation).\n",
      "  warnings.warn('`model.predict_classes()` is deprecated and '\n",
      "\n",
      "C:\\Users\\Alext\\anaconda3\\envs\\ML\\lib\\site-packages\\keras\\engine\\sequential.py:450: UserWarning: `model.predict_classes()` is deprecated and will be removed after 2021-01-01. Please use instead:* `np.argmax(model.predict(x), axis=-1)`,   if your model does multi-class classification   (e.g. if it uses a `softmax` last-layer activation).* `(model.predict(x) > 0.5).astype(\"int32\")`,   if your model does binary classification   (e.g. if it uses a `sigmoid` last-layer activation).\n",
      "  warnings.warn('`model.predict_classes()` is deprecated and '\n",
      "\n",
      "C:\\Users\\Alext\\anaconda3\\envs\\ML\\lib\\site-packages\\keras\\engine\\sequential.py:450: UserWarning: `model.predict_classes()` is deprecated and will be removed after 2021-01-01. Please use instead:* `np.argmax(model.predict(x), axis=-1)`,   if your model does multi-class classification   (e.g. if it uses a `softmax` last-layer activation).* `(model.predict(x) > 0.5).astype(\"int32\")`,   if your model does binary classification   (e.g. if it uses a `sigmoid` last-layer activation).\n",
      "  warnings.warn('`model.predict_classes()` is deprecated and '\n",
      "\n",
      "C:\\Users\\Alext\\anaconda3\\envs\\ML\\lib\\site-packages\\keras\\engine\\sequential.py:450: UserWarning: `model.predict_classes()` is deprecated and will be removed after 2021-01-01. Please use instead:* `np.argmax(model.predict(x), axis=-1)`,   if your model does multi-class classification   (e.g. if it uses a `softmax` last-layer activation).* `(model.predict(x) > 0.5).astype(\"int32\")`,   if your model does binary classification   (e.g. if it uses a `sigmoid` last-layer activation).\n",
      "  warnings.warn('`model.predict_classes()` is deprecated and '\n",
      "\n"
     ]
    },
    {
     "name": "stdout",
     "output_type": "stream",
     "text": [
      "Test accuracy:                                                                    \n",
      "0.7253469158578648                                                                \n",
      " 58%|█████▊    | 29/50 [15:17<09:54, 28.30s/trial, best loss: -0.7253469158578648]"
     ]
    },
    {
     "name": "stderr",
     "output_type": "stream",
     "text": [
      "C:\\Users\\Alext\\anaconda3\\envs\\ML\\lib\\site-packages\\keras\\engine\\sequential.py:450: UserWarning: `model.predict_classes()` is deprecated and will be removed after 2021-01-01. Please use instead:* `np.argmax(model.predict(x), axis=-1)`,   if your model does multi-class classification   (e.g. if it uses a `softmax` last-layer activation).* `(model.predict(x) > 0.5).astype(\"int32\")`,   if your model does binary classification   (e.g. if it uses a `sigmoid` last-layer activation).\n",
      "  warnings.warn('`model.predict_classes()` is deprecated and '\n",
      "\n",
      "C:\\Users\\Alext\\anaconda3\\envs\\ML\\lib\\site-packages\\keras\\engine\\sequential.py:450: UserWarning: `model.predict_classes()` is deprecated and will be removed after 2021-01-01. Please use instead:* `np.argmax(model.predict(x), axis=-1)`,   if your model does multi-class classification   (e.g. if it uses a `softmax` last-layer activation).* `(model.predict(x) > 0.5).astype(\"int32\")`,   if your model does binary classification   (e.g. if it uses a `sigmoid` last-layer activation).\n",
      "  warnings.warn('`model.predict_classes()` is deprecated and '\n",
      "\n",
      "C:\\Users\\Alext\\anaconda3\\envs\\ML\\lib\\site-packages\\keras\\engine\\sequential.py:450: UserWarning: `model.predict_classes()` is deprecated and will be removed after 2021-01-01. Please use instead:* `np.argmax(model.predict(x), axis=-1)`,   if your model does multi-class classification   (e.g. if it uses a `softmax` last-layer activation).* `(model.predict(x) > 0.5).astype(\"int32\")`,   if your model does binary classification   (e.g. if it uses a `sigmoid` last-layer activation).\n",
      "  warnings.warn('`model.predict_classes()` is deprecated and '\n",
      "\n",
      "C:\\Users\\Alext\\anaconda3\\envs\\ML\\lib\\site-packages\\keras\\engine\\sequential.py:450: UserWarning: `model.predict_classes()` is deprecated and will be removed after 2021-01-01. Please use instead:* `np.argmax(model.predict(x), axis=-1)`,   if your model does multi-class classification   (e.g. if it uses a `softmax` last-layer activation).* `(model.predict(x) > 0.5).astype(\"int32\")`,   if your model does binary classification   (e.g. if it uses a `sigmoid` last-layer activation).\n",
      "  warnings.warn('`model.predict_classes()` is deprecated and '\n",
      "\n",
      "C:\\Users\\Alext\\anaconda3\\envs\\ML\\lib\\site-packages\\keras\\engine\\sequential.py:450: UserWarning: `model.predict_classes()` is deprecated and will be removed after 2021-01-01. Please use instead:* `np.argmax(model.predict(x), axis=-1)`,   if your model does multi-class classification   (e.g. if it uses a `softmax` last-layer activation).* `(model.predict(x) > 0.5).astype(\"int32\")`,   if your model does binary classification   (e.g. if it uses a `sigmoid` last-layer activation).\n",
      "  warnings.warn('`model.predict_classes()` is deprecated and '\n",
      "\n"
     ]
    },
    {
     "name": "stdout",
     "output_type": "stream",
     "text": [
      "Test accuracy:                                                                    \n",
      "0.7253469158578648                                                                \n",
      " 60%|██████    | 30/50 [15:37<08:35, 25.79s/trial, best loss: -0.7253469158578648]"
     ]
    },
    {
     "name": "stderr",
     "output_type": "stream",
     "text": [
      "C:\\Users\\Alext\\anaconda3\\envs\\ML\\lib\\site-packages\\keras\\engine\\sequential.py:450: UserWarning: `model.predict_classes()` is deprecated and will be removed after 2021-01-01. Please use instead:* `np.argmax(model.predict(x), axis=-1)`,   if your model does multi-class classification   (e.g. if it uses a `softmax` last-layer activation).* `(model.predict(x) > 0.5).astype(\"int32\")`,   if your model does binary classification   (e.g. if it uses a `sigmoid` last-layer activation).\n",
      "  warnings.warn('`model.predict_classes()` is deprecated and '\n",
      "\n",
      "C:\\Users\\Alext\\anaconda3\\envs\\ML\\lib\\site-packages\\keras\\engine\\sequential.py:450: UserWarning: `model.predict_classes()` is deprecated and will be removed after 2021-01-01. Please use instead:* `np.argmax(model.predict(x), axis=-1)`,   if your model does multi-class classification   (e.g. if it uses a `softmax` last-layer activation).* `(model.predict(x) > 0.5).astype(\"int32\")`,   if your model does binary classification   (e.g. if it uses a `sigmoid` last-layer activation).\n",
      "  warnings.warn('`model.predict_classes()` is deprecated and '\n",
      "\n",
      "C:\\Users\\Alext\\anaconda3\\envs\\ML\\lib\\site-packages\\keras\\engine\\sequential.py:450: UserWarning: `model.predict_classes()` is deprecated and will be removed after 2021-01-01. Please use instead:* `np.argmax(model.predict(x), axis=-1)`,   if your model does multi-class classification   (e.g. if it uses a `softmax` last-layer activation).* `(model.predict(x) > 0.5).astype(\"int32\")`,   if your model does binary classification   (e.g. if it uses a `sigmoid` last-layer activation).\n",
      "  warnings.warn('`model.predict_classes()` is deprecated and '\n",
      "\n",
      "C:\\Users\\Alext\\anaconda3\\envs\\ML\\lib\\site-packages\\keras\\engine\\sequential.py:450: UserWarning: `model.predict_classes()` is deprecated and will be removed after 2021-01-01. Please use instead:* `np.argmax(model.predict(x), axis=-1)`,   if your model does multi-class classification   (e.g. if it uses a `softmax` last-layer activation).* `(model.predict(x) > 0.5).astype(\"int32\")`,   if your model does binary classification   (e.g. if it uses a `sigmoid` last-layer activation).\n",
      "  warnings.warn('`model.predict_classes()` is deprecated and '\n",
      "\n",
      "C:\\Users\\Alext\\anaconda3\\envs\\ML\\lib\\site-packages\\keras\\engine\\sequential.py:450: UserWarning: `model.predict_classes()` is deprecated and will be removed after 2021-01-01. Please use instead:* `np.argmax(model.predict(x), axis=-1)`,   if your model does multi-class classification   (e.g. if it uses a `softmax` last-layer activation).* `(model.predict(x) > 0.5).astype(\"int32\")`,   if your model does binary classification   (e.g. if it uses a `sigmoid` last-layer activation).\n",
      "  warnings.warn('`model.predict_classes()` is deprecated and '\n",
      "\n"
     ]
    },
    {
     "name": "stdout",
     "output_type": "stream",
     "text": [
      "Test accuracy:                                                                    \n",
      "0.7253469158578648                                                                \n",
      " 62%|██████▏   | 31/50 [15:55<07:27, 23.56s/trial, best loss: -0.7253469158578648]"
     ]
    },
    {
     "name": "stderr",
     "output_type": "stream",
     "text": [
      "C:\\Users\\Alext\\anaconda3\\envs\\ML\\lib\\site-packages\\keras\\engine\\sequential.py:450: UserWarning: `model.predict_classes()` is deprecated and will be removed after 2021-01-01. Please use instead:* `np.argmax(model.predict(x), axis=-1)`,   if your model does multi-class classification   (e.g. if it uses a `softmax` last-layer activation).* `(model.predict(x) > 0.5).astype(\"int32\")`,   if your model does binary classification   (e.g. if it uses a `sigmoid` last-layer activation).\n",
      "  warnings.warn('`model.predict_classes()` is deprecated and '\n",
      "\n",
      "C:\\Users\\Alext\\anaconda3\\envs\\ML\\lib\\site-packages\\keras\\engine\\sequential.py:450: UserWarning: `model.predict_classes()` is deprecated and will be removed after 2021-01-01. Please use instead:* `np.argmax(model.predict(x), axis=-1)`,   if your model does multi-class classification   (e.g. if it uses a `softmax` last-layer activation).* `(model.predict(x) > 0.5).astype(\"int32\")`,   if your model does binary classification   (e.g. if it uses a `sigmoid` last-layer activation).\n",
      "  warnings.warn('`model.predict_classes()` is deprecated and '\n",
      "\n",
      "C:\\Users\\Alext\\anaconda3\\envs\\ML\\lib\\site-packages\\keras\\engine\\sequential.py:450: UserWarning: `model.predict_classes()` is deprecated and will be removed after 2021-01-01. Please use instead:* `np.argmax(model.predict(x), axis=-1)`,   if your model does multi-class classification   (e.g. if it uses a `softmax` last-layer activation).* `(model.predict(x) > 0.5).astype(\"int32\")`,   if your model does binary classification   (e.g. if it uses a `sigmoid` last-layer activation).\n",
      "  warnings.warn('`model.predict_classes()` is deprecated and '\n",
      "\n",
      "C:\\Users\\Alext\\anaconda3\\envs\\ML\\lib\\site-packages\\keras\\engine\\sequential.py:450: UserWarning: `model.predict_classes()` is deprecated and will be removed after 2021-01-01. Please use instead:* `np.argmax(model.predict(x), axis=-1)`,   if your model does multi-class classification   (e.g. if it uses a `softmax` last-layer activation).* `(model.predict(x) > 0.5).astype(\"int32\")`,   if your model does binary classification   (e.g. if it uses a `sigmoid` last-layer activation).\n",
      "  warnings.warn('`model.predict_classes()` is deprecated and '\n",
      "\n",
      "C:\\Users\\Alext\\anaconda3\\envs\\ML\\lib\\site-packages\\keras\\engine\\sequential.py:450: UserWarning: `model.predict_classes()` is deprecated and will be removed after 2021-01-01. Please use instead:* `np.argmax(model.predict(x), axis=-1)`,   if your model does multi-class classification   (e.g. if it uses a `softmax` last-layer activation).* `(model.predict(x) > 0.5).astype(\"int32\")`,   if your model does binary classification   (e.g. if it uses a `sigmoid` last-layer activation).\n",
      "  warnings.warn('`model.predict_classes()` is deprecated and '\n",
      "\n"
     ]
    },
    {
     "name": "stdout",
     "output_type": "stream",
     "text": [
      "Test accuracy:                                                                    \n",
      "0.7253469158578648                                                                \n",
      " 64%|██████▍   | 32/50 [16:27<07:48, 26.01s/trial, best loss: -0.7253469158578648]"
     ]
    },
    {
     "name": "stderr",
     "output_type": "stream",
     "text": [
      "C:\\Users\\Alext\\anaconda3\\envs\\ML\\lib\\site-packages\\keras\\engine\\sequential.py:450: UserWarning: `model.predict_classes()` is deprecated and will be removed after 2021-01-01. Please use instead:* `np.argmax(model.predict(x), axis=-1)`,   if your model does multi-class classification   (e.g. if it uses a `softmax` last-layer activation).* `(model.predict(x) > 0.5).astype(\"int32\")`,   if your model does binary classification   (e.g. if it uses a `sigmoid` last-layer activation).\n",
      "  warnings.warn('`model.predict_classes()` is deprecated and '\n",
      "\n",
      "C:\\Users\\Alext\\anaconda3\\envs\\ML\\lib\\site-packages\\keras\\engine\\sequential.py:450: UserWarning: `model.predict_classes()` is deprecated and will be removed after 2021-01-01. Please use instead:* `np.argmax(model.predict(x), axis=-1)`,   if your model does multi-class classification   (e.g. if it uses a `softmax` last-layer activation).* `(model.predict(x) > 0.5).astype(\"int32\")`,   if your model does binary classification   (e.g. if it uses a `sigmoid` last-layer activation).\n",
      "  warnings.warn('`model.predict_classes()` is deprecated and '\n",
      "\n",
      "C:\\Users\\Alext\\anaconda3\\envs\\ML\\lib\\site-packages\\keras\\engine\\sequential.py:450: UserWarning: `model.predict_classes()` is deprecated and will be removed after 2021-01-01. Please use instead:* `np.argmax(model.predict(x), axis=-1)`,   if your model does multi-class classification   (e.g. if it uses a `softmax` last-layer activation).* `(model.predict(x) > 0.5).astype(\"int32\")`,   if your model does binary classification   (e.g. if it uses a `sigmoid` last-layer activation).\n",
      "  warnings.warn('`model.predict_classes()` is deprecated and '\n",
      "\n",
      "C:\\Users\\Alext\\anaconda3\\envs\\ML\\lib\\site-packages\\keras\\engine\\sequential.py:450: UserWarning: `model.predict_classes()` is deprecated and will be removed after 2021-01-01. Please use instead:* `np.argmax(model.predict(x), axis=-1)`,   if your model does multi-class classification   (e.g. if it uses a `softmax` last-layer activation).* `(model.predict(x) > 0.5).astype(\"int32\")`,   if your model does binary classification   (e.g. if it uses a `sigmoid` last-layer activation).\n",
      "  warnings.warn('`model.predict_classes()` is deprecated and '\n",
      "\n",
      "C:\\Users\\Alext\\anaconda3\\envs\\ML\\lib\\site-packages\\keras\\engine\\sequential.py:450: UserWarning: `model.predict_classes()` is deprecated and will be removed after 2021-01-01. Please use instead:* `np.argmax(model.predict(x), axis=-1)`,   if your model does multi-class classification   (e.g. if it uses a `softmax` last-layer activation).* `(model.predict(x) > 0.5).astype(\"int32\")`,   if your model does binary classification   (e.g. if it uses a `sigmoid` last-layer activation).\n",
      "  warnings.warn('`model.predict_classes()` is deprecated and '\n",
      "\n"
     ]
    },
    {
     "name": "stdout",
     "output_type": "stream",
     "text": [
      "Test accuracy:                                                                    \n",
      "0.7253469158578648                                                                \n",
      " 66%|██████▌   | 33/50 [16:53<07:18, 25.82s/trial, best loss: -0.7253469158578648]"
     ]
    },
    {
     "name": "stderr",
     "output_type": "stream",
     "text": [
      "C:\\Users\\Alext\\anaconda3\\envs\\ML\\lib\\site-packages\\keras\\engine\\sequential.py:450: UserWarning: `model.predict_classes()` is deprecated and will be removed after 2021-01-01. Please use instead:* `np.argmax(model.predict(x), axis=-1)`,   if your model does multi-class classification   (e.g. if it uses a `softmax` last-layer activation).* `(model.predict(x) > 0.5).astype(\"int32\")`,   if your model does binary classification   (e.g. if it uses a `sigmoid` last-layer activation).\n",
      "  warnings.warn('`model.predict_classes()` is deprecated and '\n",
      "\n",
      "C:\\Users\\Alext\\anaconda3\\envs\\ML\\lib\\site-packages\\keras\\engine\\sequential.py:450: UserWarning: `model.predict_classes()` is deprecated and will be removed after 2021-01-01. Please use instead:* `np.argmax(model.predict(x), axis=-1)`,   if your model does multi-class classification   (e.g. if it uses a `softmax` last-layer activation).* `(model.predict(x) > 0.5).astype(\"int32\")`,   if your model does binary classification   (e.g. if it uses a `sigmoid` last-layer activation).\n",
      "  warnings.warn('`model.predict_classes()` is deprecated and '\n",
      "\n",
      "C:\\Users\\Alext\\anaconda3\\envs\\ML\\lib\\site-packages\\keras\\engine\\sequential.py:450: UserWarning: `model.predict_classes()` is deprecated and will be removed after 2021-01-01. Please use instead:* `np.argmax(model.predict(x), axis=-1)`,   if your model does multi-class classification   (e.g. if it uses a `softmax` last-layer activation).* `(model.predict(x) > 0.5).astype(\"int32\")`,   if your model does binary classification   (e.g. if it uses a `sigmoid` last-layer activation).\n",
      "  warnings.warn('`model.predict_classes()` is deprecated and '\n",
      "\n",
      "C:\\Users\\Alext\\anaconda3\\envs\\ML\\lib\\site-packages\\keras\\engine\\sequential.py:450: UserWarning: `model.predict_classes()` is deprecated and will be removed after 2021-01-01. Please use instead:* `np.argmax(model.predict(x), axis=-1)`,   if your model does multi-class classification   (e.g. if it uses a `softmax` last-layer activation).* `(model.predict(x) > 0.5).astype(\"int32\")`,   if your model does binary classification   (e.g. if it uses a `sigmoid` last-layer activation).\n",
      "  warnings.warn('`model.predict_classes()` is deprecated and '\n",
      "\n",
      "C:\\Users\\Alext\\anaconda3\\envs\\ML\\lib\\site-packages\\keras\\engine\\sequential.py:450: UserWarning: `model.predict_classes()` is deprecated and will be removed after 2021-01-01. Please use instead:* `np.argmax(model.predict(x), axis=-1)`,   if your model does multi-class classification   (e.g. if it uses a `softmax` last-layer activation).* `(model.predict(x) > 0.5).astype(\"int32\")`,   if your model does binary classification   (e.g. if it uses a `sigmoid` last-layer activation).\n",
      "  warnings.warn('`model.predict_classes()` is deprecated and '\n",
      "\n"
     ]
    },
    {
     "name": "stdout",
     "output_type": "stream",
     "text": [
      "Test accuracy:                                                                    \n",
      "0.7253469158578648                                                                \n",
      " 68%|██████▊   | 34/50 [17:14<06:31, 24.49s/trial, best loss: -0.7253469158578648]"
     ]
    },
    {
     "name": "stderr",
     "output_type": "stream",
     "text": [
      "C:\\Users\\Alext\\anaconda3\\envs\\ML\\lib\\site-packages\\keras\\engine\\sequential.py:450: UserWarning: `model.predict_classes()` is deprecated and will be removed after 2021-01-01. Please use instead:* `np.argmax(model.predict(x), axis=-1)`,   if your model does multi-class classification   (e.g. if it uses a `softmax` last-layer activation).* `(model.predict(x) > 0.5).astype(\"int32\")`,   if your model does binary classification   (e.g. if it uses a `sigmoid` last-layer activation).\n",
      "  warnings.warn('`model.predict_classes()` is deprecated and '\n",
      "\n",
      "C:\\Users\\Alext\\anaconda3\\envs\\ML\\lib\\site-packages\\keras\\engine\\sequential.py:450: UserWarning: `model.predict_classes()` is deprecated and will be removed after 2021-01-01. Please use instead:* `np.argmax(model.predict(x), axis=-1)`,   if your model does multi-class classification   (e.g. if it uses a `softmax` last-layer activation).* `(model.predict(x) > 0.5).astype(\"int32\")`,   if your model does binary classification   (e.g. if it uses a `sigmoid` last-layer activation).\n",
      "  warnings.warn('`model.predict_classes()` is deprecated and '\n",
      "\n",
      "C:\\Users\\Alext\\anaconda3\\envs\\ML\\lib\\site-packages\\keras\\engine\\sequential.py:450: UserWarning: `model.predict_classes()` is deprecated and will be removed after 2021-01-01. Please use instead:* `np.argmax(model.predict(x), axis=-1)`,   if your model does multi-class classification   (e.g. if it uses a `softmax` last-layer activation).* `(model.predict(x) > 0.5).astype(\"int32\")`,   if your model does binary classification   (e.g. if it uses a `sigmoid` last-layer activation).\n",
      "  warnings.warn('`model.predict_classes()` is deprecated and '\n",
      "\n",
      "C:\\Users\\Alext\\anaconda3\\envs\\ML\\lib\\site-packages\\keras\\engine\\sequential.py:450: UserWarning: `model.predict_classes()` is deprecated and will be removed after 2021-01-01. Please use instead:* `np.argmax(model.predict(x), axis=-1)`,   if your model does multi-class classification   (e.g. if it uses a `softmax` last-layer activation).* `(model.predict(x) > 0.5).astype(\"int32\")`,   if your model does binary classification   (e.g. if it uses a `sigmoid` last-layer activation).\n",
      "  warnings.warn('`model.predict_classes()` is deprecated and '\n",
      "\n",
      "C:\\Users\\Alext\\anaconda3\\envs\\ML\\lib\\site-packages\\keras\\engine\\sequential.py:450: UserWarning: `model.predict_classes()` is deprecated and will be removed after 2021-01-01. Please use instead:* `np.argmax(model.predict(x), axis=-1)`,   if your model does multi-class classification   (e.g. if it uses a `softmax` last-layer activation).* `(model.predict(x) > 0.5).astype(\"int32\")`,   if your model does binary classification   (e.g. if it uses a `sigmoid` last-layer activation).\n",
      "  warnings.warn('`model.predict_classes()` is deprecated and '\n",
      "\n"
     ]
    },
    {
     "name": "stdout",
     "output_type": "stream",
     "text": [
      "Test accuracy:                                                                    \n",
      "0.7253469158578648                                                                \n",
      " 70%|███████   | 35/50 [17:43<06:27, 25.82s/trial, best loss: -0.7253469158578648]"
     ]
    },
    {
     "name": "stderr",
     "output_type": "stream",
     "text": [
      "C:\\Users\\Alext\\anaconda3\\envs\\ML\\lib\\site-packages\\keras\\engine\\sequential.py:450: UserWarning: `model.predict_classes()` is deprecated and will be removed after 2021-01-01. Please use instead:* `np.argmax(model.predict(x), axis=-1)`,   if your model does multi-class classification   (e.g. if it uses a `softmax` last-layer activation).* `(model.predict(x) > 0.5).astype(\"int32\")`,   if your model does binary classification   (e.g. if it uses a `sigmoid` last-layer activation).\n",
      "  warnings.warn('`model.predict_classes()` is deprecated and '\n",
      "\n",
      "C:\\Users\\Alext\\anaconda3\\envs\\ML\\lib\\site-packages\\keras\\engine\\sequential.py:450: UserWarning: `model.predict_classes()` is deprecated and will be removed after 2021-01-01. Please use instead:* `np.argmax(model.predict(x), axis=-1)`,   if your model does multi-class classification   (e.g. if it uses a `softmax` last-layer activation).* `(model.predict(x) > 0.5).astype(\"int32\")`,   if your model does binary classification   (e.g. if it uses a `sigmoid` last-layer activation).\n",
      "  warnings.warn('`model.predict_classes()` is deprecated and '\n",
      "\n",
      "C:\\Users\\Alext\\anaconda3\\envs\\ML\\lib\\site-packages\\keras\\engine\\sequential.py:450: UserWarning: `model.predict_classes()` is deprecated and will be removed after 2021-01-01. Please use instead:* `np.argmax(model.predict(x), axis=-1)`,   if your model does multi-class classification   (e.g. if it uses a `softmax` last-layer activation).* `(model.predict(x) > 0.5).astype(\"int32\")`,   if your model does binary classification   (e.g. if it uses a `sigmoid` last-layer activation).\n",
      "  warnings.warn('`model.predict_classes()` is deprecated and '\n",
      "\n",
      "C:\\Users\\Alext\\anaconda3\\envs\\ML\\lib\\site-packages\\keras\\engine\\sequential.py:450: UserWarning: `model.predict_classes()` is deprecated and will be removed after 2021-01-01. Please use instead:* `np.argmax(model.predict(x), axis=-1)`,   if your model does multi-class classification   (e.g. if it uses a `softmax` last-layer activation).* `(model.predict(x) > 0.5).astype(\"int32\")`,   if your model does binary classification   (e.g. if it uses a `sigmoid` last-layer activation).\n",
      "  warnings.warn('`model.predict_classes()` is deprecated and '\n",
      "\n",
      "C:\\Users\\Alext\\anaconda3\\envs\\ML\\lib\\site-packages\\keras\\engine\\sequential.py:450: UserWarning: `model.predict_classes()` is deprecated and will be removed after 2021-01-01. Please use instead:* `np.argmax(model.predict(x), axis=-1)`,   if your model does multi-class classification   (e.g. if it uses a `softmax` last-layer activation).* `(model.predict(x) > 0.5).astype(\"int32\")`,   if your model does binary classification   (e.g. if it uses a `sigmoid` last-layer activation).\n",
      "  warnings.warn('`model.predict_classes()` is deprecated and '\n",
      "\n"
     ]
    },
    {
     "name": "stdout",
     "output_type": "stream",
     "text": [
      "Test accuracy:                                                                    \n",
      "0.7253469158578648                                                                \n",
      " 72%|███████▏  | 36/50 [18:13<06:20, 27.18s/trial, best loss: -0.7253469158578648]"
     ]
    },
    {
     "name": "stderr",
     "output_type": "stream",
     "text": [
      "C:\\Users\\Alext\\anaconda3\\envs\\ML\\lib\\site-packages\\keras\\engine\\sequential.py:450: UserWarning: `model.predict_classes()` is deprecated and will be removed after 2021-01-01. Please use instead:* `np.argmax(model.predict(x), axis=-1)`,   if your model does multi-class classification   (e.g. if it uses a `softmax` last-layer activation).* `(model.predict(x) > 0.5).astype(\"int32\")`,   if your model does binary classification   (e.g. if it uses a `sigmoid` last-layer activation).\n",
      "  warnings.warn('`model.predict_classes()` is deprecated and '\n",
      "\n",
      "C:\\Users\\Alext\\anaconda3\\envs\\ML\\lib\\site-packages\\keras\\engine\\sequential.py:450: UserWarning: `model.predict_classes()` is deprecated and will be removed after 2021-01-01. Please use instead:* `np.argmax(model.predict(x), axis=-1)`,   if your model does multi-class classification   (e.g. if it uses a `softmax` last-layer activation).* `(model.predict(x) > 0.5).astype(\"int32\")`,   if your model does binary classification   (e.g. if it uses a `sigmoid` last-layer activation).\n",
      "  warnings.warn('`model.predict_classes()` is deprecated and '\n",
      "\n",
      "C:\\Users\\Alext\\anaconda3\\envs\\ML\\lib\\site-packages\\keras\\engine\\sequential.py:450: UserWarning: `model.predict_classes()` is deprecated and will be removed after 2021-01-01. Please use instead:* `np.argmax(model.predict(x), axis=-1)`,   if your model does multi-class classification   (e.g. if it uses a `softmax` last-layer activation).* `(model.predict(x) > 0.5).astype(\"int32\")`,   if your model does binary classification   (e.g. if it uses a `sigmoid` last-layer activation).\n",
      "  warnings.warn('`model.predict_classes()` is deprecated and '\n",
      "\n",
      "C:\\Users\\Alext\\anaconda3\\envs\\ML\\lib\\site-packages\\keras\\engine\\sequential.py:450: UserWarning: `model.predict_classes()` is deprecated and will be removed after 2021-01-01. Please use instead:* `np.argmax(model.predict(x), axis=-1)`,   if your model does multi-class classification   (e.g. if it uses a `softmax` last-layer activation).* `(model.predict(x) > 0.5).astype(\"int32\")`,   if your model does binary classification   (e.g. if it uses a `sigmoid` last-layer activation).\n",
      "  warnings.warn('`model.predict_classes()` is deprecated and '\n",
      "\n",
      "C:\\Users\\Alext\\anaconda3\\envs\\ML\\lib\\site-packages\\keras\\engine\\sequential.py:450: UserWarning: `model.predict_classes()` is deprecated and will be removed after 2021-01-01. Please use instead:* `np.argmax(model.predict(x), axis=-1)`,   if your model does multi-class classification   (e.g. if it uses a `softmax` last-layer activation).* `(model.predict(x) > 0.5).astype(\"int32\")`,   if your model does binary classification   (e.g. if it uses a `sigmoid` last-layer activation).\n",
      "  warnings.warn('`model.predict_classes()` is deprecated and '\n",
      "\n"
     ]
    },
    {
     "name": "stdout",
     "output_type": "stream",
     "text": [
      "Test accuracy:                                                                    \n",
      "0.7253469158578648                                                                \n",
      " 74%|███████▍  | 37/50 [18:39<05:48, 26.77s/trial, best loss: -0.7253469158578648]"
     ]
    },
    {
     "name": "stderr",
     "output_type": "stream",
     "text": [
      "C:\\Users\\Alext\\anaconda3\\envs\\ML\\lib\\site-packages\\keras\\engine\\sequential.py:450: UserWarning: `model.predict_classes()` is deprecated and will be removed after 2021-01-01. Please use instead:* `np.argmax(model.predict(x), axis=-1)`,   if your model does multi-class classification   (e.g. if it uses a `softmax` last-layer activation).* `(model.predict(x) > 0.5).astype(\"int32\")`,   if your model does binary classification   (e.g. if it uses a `sigmoid` last-layer activation).\n",
      "  warnings.warn('`model.predict_classes()` is deprecated and '\n",
      "\n",
      "C:\\Users\\Alext\\anaconda3\\envs\\ML\\lib\\site-packages\\keras\\engine\\sequential.py:450: UserWarning: `model.predict_classes()` is deprecated and will be removed after 2021-01-01. Please use instead:* `np.argmax(model.predict(x), axis=-1)`,   if your model does multi-class classification   (e.g. if it uses a `softmax` last-layer activation).* `(model.predict(x) > 0.5).astype(\"int32\")`,   if your model does binary classification   (e.g. if it uses a `sigmoid` last-layer activation).\n",
      "  warnings.warn('`model.predict_classes()` is deprecated and '\n",
      "\n",
      "C:\\Users\\Alext\\anaconda3\\envs\\ML\\lib\\site-packages\\keras\\engine\\sequential.py:450: UserWarning: `model.predict_classes()` is deprecated and will be removed after 2021-01-01. Please use instead:* `np.argmax(model.predict(x), axis=-1)`,   if your model does multi-class classification   (e.g. if it uses a `softmax` last-layer activation).* `(model.predict(x) > 0.5).astype(\"int32\")`,   if your model does binary classification   (e.g. if it uses a `sigmoid` last-layer activation).\n",
      "  warnings.warn('`model.predict_classes()` is deprecated and '\n",
      "\n",
      "C:\\Users\\Alext\\anaconda3\\envs\\ML\\lib\\site-packages\\keras\\engine\\sequential.py:450: UserWarning: `model.predict_classes()` is deprecated and will be removed after 2021-01-01. Please use instead:* `np.argmax(model.predict(x), axis=-1)`,   if your model does multi-class classification   (e.g. if it uses a `softmax` last-layer activation).* `(model.predict(x) > 0.5).astype(\"int32\")`,   if your model does binary classification   (e.g. if it uses a `sigmoid` last-layer activation).\n",
      "  warnings.warn('`model.predict_classes()` is deprecated and '\n",
      "\n",
      "C:\\Users\\Alext\\anaconda3\\envs\\ML\\lib\\site-packages\\keras\\engine\\sequential.py:450: UserWarning: `model.predict_classes()` is deprecated and will be removed after 2021-01-01. Please use instead:* `np.argmax(model.predict(x), axis=-1)`,   if your model does multi-class classification   (e.g. if it uses a `softmax` last-layer activation).* `(model.predict(x) > 0.5).astype(\"int32\")`,   if your model does binary classification   (e.g. if it uses a `sigmoid` last-layer activation).\n",
      "  warnings.warn('`model.predict_classes()` is deprecated and '\n",
      "\n"
     ]
    },
    {
     "name": "stdout",
     "output_type": "stream",
     "text": [
      "Test accuracy:                                                                    \n",
      "0.7253469158578648                                                                \n",
      " 76%|███████▌  | 38/50 [18:59<04:56, 24.69s/trial, best loss: -0.7253469158578648]"
     ]
    },
    {
     "name": "stderr",
     "output_type": "stream",
     "text": [
      "C:\\Users\\Alext\\anaconda3\\envs\\ML\\lib\\site-packages\\keras\\engine\\sequential.py:450: UserWarning: `model.predict_classes()` is deprecated and will be removed after 2021-01-01. Please use instead:* `np.argmax(model.predict(x), axis=-1)`,   if your model does multi-class classification   (e.g. if it uses a `softmax` last-layer activation).* `(model.predict(x) > 0.5).astype(\"int32\")`,   if your model does binary classification   (e.g. if it uses a `sigmoid` last-layer activation).\n",
      "  warnings.warn('`model.predict_classes()` is deprecated and '\n",
      "\n",
      "C:\\Users\\Alext\\anaconda3\\envs\\ML\\lib\\site-packages\\keras\\engine\\sequential.py:450: UserWarning: `model.predict_classes()` is deprecated and will be removed after 2021-01-01. Please use instead:* `np.argmax(model.predict(x), axis=-1)`,   if your model does multi-class classification   (e.g. if it uses a `softmax` last-layer activation).* `(model.predict(x) > 0.5).astype(\"int32\")`,   if your model does binary classification   (e.g. if it uses a `sigmoid` last-layer activation).\n",
      "  warnings.warn('`model.predict_classes()` is deprecated and '\n",
      "\n",
      "C:\\Users\\Alext\\anaconda3\\envs\\ML\\lib\\site-packages\\keras\\engine\\sequential.py:450: UserWarning: `model.predict_classes()` is deprecated and will be removed after 2021-01-01. Please use instead:* `np.argmax(model.predict(x), axis=-1)`,   if your model does multi-class classification   (e.g. if it uses a `softmax` last-layer activation).* `(model.predict(x) > 0.5).astype(\"int32\")`,   if your model does binary classification   (e.g. if it uses a `sigmoid` last-layer activation).\n",
      "  warnings.warn('`model.predict_classes()` is deprecated and '\n",
      "\n",
      "C:\\Users\\Alext\\anaconda3\\envs\\ML\\lib\\site-packages\\keras\\engine\\sequential.py:450: UserWarning: `model.predict_classes()` is deprecated and will be removed after 2021-01-01. Please use instead:* `np.argmax(model.predict(x), axis=-1)`,   if your model does multi-class classification   (e.g. if it uses a `softmax` last-layer activation).* `(model.predict(x) > 0.5).astype(\"int32\")`,   if your model does binary classification   (e.g. if it uses a `sigmoid` last-layer activation).\n",
      "  warnings.warn('`model.predict_classes()` is deprecated and '\n",
      "\n",
      "C:\\Users\\Alext\\anaconda3\\envs\\ML\\lib\\site-packages\\keras\\engine\\sequential.py:450: UserWarning: `model.predict_classes()` is deprecated and will be removed after 2021-01-01. Please use instead:* `np.argmax(model.predict(x), axis=-1)`,   if your model does multi-class classification   (e.g. if it uses a `softmax` last-layer activation).* `(model.predict(x) > 0.5).astype(\"int32\")`,   if your model does binary classification   (e.g. if it uses a `sigmoid` last-layer activation).\n",
      "  warnings.warn('`model.predict_classes()` is deprecated and '\n",
      "\n"
     ]
    },
    {
     "name": "stdout",
     "output_type": "stream",
     "text": [
      "Test accuracy:                                                                    \n",
      "0.7253469158578648                                                                \n",
      " 78%|███████▊  | 39/50 [19:53<06:09, 33.57s/trial, best loss: -0.7253469158578648]"
     ]
    },
    {
     "name": "stderr",
     "output_type": "stream",
     "text": [
      "C:\\Users\\Alext\\anaconda3\\envs\\ML\\lib\\site-packages\\keras\\engine\\sequential.py:450: UserWarning: `model.predict_classes()` is deprecated and will be removed after 2021-01-01. Please use instead:* `np.argmax(model.predict(x), axis=-1)`,   if your model does multi-class classification   (e.g. if it uses a `softmax` last-layer activation).* `(model.predict(x) > 0.5).astype(\"int32\")`,   if your model does binary classification   (e.g. if it uses a `sigmoid` last-layer activation).\n",
      "  warnings.warn('`model.predict_classes()` is deprecated and '\n",
      "\n",
      "C:\\Users\\Alext\\anaconda3\\envs\\ML\\lib\\site-packages\\keras\\engine\\sequential.py:450: UserWarning: `model.predict_classes()` is deprecated and will be removed after 2021-01-01. Please use instead:* `np.argmax(model.predict(x), axis=-1)`,   if your model does multi-class classification   (e.g. if it uses a `softmax` last-layer activation).* `(model.predict(x) > 0.5).astype(\"int32\")`,   if your model does binary classification   (e.g. if it uses a `sigmoid` last-layer activation).\n",
      "  warnings.warn('`model.predict_classes()` is deprecated and '\n",
      "\n",
      "C:\\Users\\Alext\\anaconda3\\envs\\ML\\lib\\site-packages\\keras\\engine\\sequential.py:450: UserWarning: `model.predict_classes()` is deprecated and will be removed after 2021-01-01. Please use instead:* `np.argmax(model.predict(x), axis=-1)`,   if your model does multi-class classification   (e.g. if it uses a `softmax` last-layer activation).* `(model.predict(x) > 0.5).astype(\"int32\")`,   if your model does binary classification   (e.g. if it uses a `sigmoid` last-layer activation).\n",
      "  warnings.warn('`model.predict_classes()` is deprecated and '\n",
      "\n",
      "C:\\Users\\Alext\\anaconda3\\envs\\ML\\lib\\site-packages\\keras\\engine\\sequential.py:450: UserWarning: `model.predict_classes()` is deprecated and will be removed after 2021-01-01. Please use instead:* `np.argmax(model.predict(x), axis=-1)`,   if your model does multi-class classification   (e.g. if it uses a `softmax` last-layer activation).* `(model.predict(x) > 0.5).astype(\"int32\")`,   if your model does binary classification   (e.g. if it uses a `sigmoid` last-layer activation).\n",
      "  warnings.warn('`model.predict_classes()` is deprecated and '\n",
      "\n",
      "C:\\Users\\Alext\\anaconda3\\envs\\ML\\lib\\site-packages\\keras\\engine\\sequential.py:450: UserWarning: `model.predict_classes()` is deprecated and will be removed after 2021-01-01. Please use instead:* `np.argmax(model.predict(x), axis=-1)`,   if your model does multi-class classification   (e.g. if it uses a `softmax` last-layer activation).* `(model.predict(x) > 0.5).astype(\"int32\")`,   if your model does binary classification   (e.g. if it uses a `sigmoid` last-layer activation).\n",
      "  warnings.warn('`model.predict_classes()` is deprecated and '\n",
      "\n"
     ]
    },
    {
     "name": "stdout",
     "output_type": "stream",
     "text": [
      "Test accuracy:                                                                    \n",
      "0.7253469158578648                                                                \n",
      " 80%|████████  | 40/50 [20:33<05:54, 35.44s/trial, best loss: -0.7253469158578648]"
     ]
    },
    {
     "name": "stderr",
     "output_type": "stream",
     "text": [
      "C:\\Users\\Alext\\anaconda3\\envs\\ML\\lib\\site-packages\\keras\\engine\\sequential.py:450: UserWarning: `model.predict_classes()` is deprecated and will be removed after 2021-01-01. Please use instead:* `np.argmax(model.predict(x), axis=-1)`,   if your model does multi-class classification   (e.g. if it uses a `softmax` last-layer activation).* `(model.predict(x) > 0.5).astype(\"int32\")`,   if your model does binary classification   (e.g. if it uses a `sigmoid` last-layer activation).\n",
      "  warnings.warn('`model.predict_classes()` is deprecated and '\n",
      "\n",
      "C:\\Users\\Alext\\anaconda3\\envs\\ML\\lib\\site-packages\\keras\\engine\\sequential.py:450: UserWarning: `model.predict_classes()` is deprecated and will be removed after 2021-01-01. Please use instead:* `np.argmax(model.predict(x), axis=-1)`,   if your model does multi-class classification   (e.g. if it uses a `softmax` last-layer activation).* `(model.predict(x) > 0.5).astype(\"int32\")`,   if your model does binary classification   (e.g. if it uses a `sigmoid` last-layer activation).\n",
      "  warnings.warn('`model.predict_classes()` is deprecated and '\n",
      "\n",
      "C:\\Users\\Alext\\anaconda3\\envs\\ML\\lib\\site-packages\\keras\\engine\\sequential.py:450: UserWarning: `model.predict_classes()` is deprecated and will be removed after 2021-01-01. Please use instead:* `np.argmax(model.predict(x), axis=-1)`,   if your model does multi-class classification   (e.g. if it uses a `softmax` last-layer activation).* `(model.predict(x) > 0.5).astype(\"int32\")`,   if your model does binary classification   (e.g. if it uses a `sigmoid` last-layer activation).\n",
      "  warnings.warn('`model.predict_classes()` is deprecated and '\n",
      "\n",
      "C:\\Users\\Alext\\anaconda3\\envs\\ML\\lib\\site-packages\\keras\\engine\\sequential.py:450: UserWarning: `model.predict_classes()` is deprecated and will be removed after 2021-01-01. Please use instead:* `np.argmax(model.predict(x), axis=-1)`,   if your model does multi-class classification   (e.g. if it uses a `softmax` last-layer activation).* `(model.predict(x) > 0.5).astype(\"int32\")`,   if your model does binary classification   (e.g. if it uses a `sigmoid` last-layer activation).\n",
      "  warnings.warn('`model.predict_classes()` is deprecated and '\n",
      "\n",
      "C:\\Users\\Alext\\anaconda3\\envs\\ML\\lib\\site-packages\\keras\\engine\\sequential.py:450: UserWarning: `model.predict_classes()` is deprecated and will be removed after 2021-01-01. Please use instead:* `np.argmax(model.predict(x), axis=-1)`,   if your model does multi-class classification   (e.g. if it uses a `softmax` last-layer activation).* `(model.predict(x) > 0.5).astype(\"int32\")`,   if your model does binary classification   (e.g. if it uses a `sigmoid` last-layer activation).\n",
      "  warnings.warn('`model.predict_classes()` is deprecated and '\n",
      "\n"
     ]
    },
    {
     "name": "stdout",
     "output_type": "stream",
     "text": [
      "Test accuracy:                                                                    \n",
      "0.7253469158578648                                                                \n",
      " 82%|████████▏ | 41/50 [21:04<05:06, 34.09s/trial, best loss: -0.7253469158578648]"
     ]
    },
    {
     "name": "stderr",
     "output_type": "stream",
     "text": [
      "C:\\Users\\Alext\\anaconda3\\envs\\ML\\lib\\site-packages\\keras\\engine\\sequential.py:450: UserWarning: `model.predict_classes()` is deprecated and will be removed after 2021-01-01. Please use instead:* `np.argmax(model.predict(x), axis=-1)`,   if your model does multi-class classification   (e.g. if it uses a `softmax` last-layer activation).* `(model.predict(x) > 0.5).astype(\"int32\")`,   if your model does binary classification   (e.g. if it uses a `sigmoid` last-layer activation).\n",
      "  warnings.warn('`model.predict_classes()` is deprecated and '\n",
      "\n",
      "C:\\Users\\Alext\\anaconda3\\envs\\ML\\lib\\site-packages\\keras\\engine\\sequential.py:450: UserWarning: `model.predict_classes()` is deprecated and will be removed after 2021-01-01. Please use instead:* `np.argmax(model.predict(x), axis=-1)`,   if your model does multi-class classification   (e.g. if it uses a `softmax` last-layer activation).* `(model.predict(x) > 0.5).astype(\"int32\")`,   if your model does binary classification   (e.g. if it uses a `sigmoid` last-layer activation).\n",
      "  warnings.warn('`model.predict_classes()` is deprecated and '\n",
      "\n",
      "C:\\Users\\Alext\\anaconda3\\envs\\ML\\lib\\site-packages\\keras\\engine\\sequential.py:450: UserWarning: `model.predict_classes()` is deprecated and will be removed after 2021-01-01. Please use instead:* `np.argmax(model.predict(x), axis=-1)`,   if your model does multi-class classification   (e.g. if it uses a `softmax` last-layer activation).* `(model.predict(x) > 0.5).astype(\"int32\")`,   if your model does binary classification   (e.g. if it uses a `sigmoid` last-layer activation).\n",
      "  warnings.warn('`model.predict_classes()` is deprecated and '\n",
      "\n",
      "C:\\Users\\Alext\\anaconda3\\envs\\ML\\lib\\site-packages\\keras\\engine\\sequential.py:450: UserWarning: `model.predict_classes()` is deprecated and will be removed after 2021-01-01. Please use instead:* `np.argmax(model.predict(x), axis=-1)`,   if your model does multi-class classification   (e.g. if it uses a `softmax` last-layer activation).* `(model.predict(x) > 0.5).astype(\"int32\")`,   if your model does binary classification   (e.g. if it uses a `sigmoid` last-layer activation).\n",
      "  warnings.warn('`model.predict_classes()` is deprecated and '\n",
      "\n",
      "C:\\Users\\Alext\\anaconda3\\envs\\ML\\lib\\site-packages\\keras\\engine\\sequential.py:450: UserWarning: `model.predict_classes()` is deprecated and will be removed after 2021-01-01. Please use instead:* `np.argmax(model.predict(x), axis=-1)`,   if your model does multi-class classification   (e.g. if it uses a `softmax` last-layer activation).* `(model.predict(x) > 0.5).astype(\"int32\")`,   if your model does binary classification   (e.g. if it uses a `sigmoid` last-layer activation).\n",
      "  warnings.warn('`model.predict_classes()` is deprecated and '\n",
      "\n"
     ]
    },
    {
     "name": "stdout",
     "output_type": "stream",
     "text": [
      "Test accuracy:                                                                    \n",
      "0.7253469158578648                                                                \n",
      " 84%|████████▍ | 42/50 [21:26<04:03, 30.38s/trial, best loss: -0.7253469158578648]"
     ]
    },
    {
     "name": "stderr",
     "output_type": "stream",
     "text": [
      "C:\\Users\\Alext\\anaconda3\\envs\\ML\\lib\\site-packages\\keras\\engine\\sequential.py:450: UserWarning: `model.predict_classes()` is deprecated and will be removed after 2021-01-01. Please use instead:* `np.argmax(model.predict(x), axis=-1)`,   if your model does multi-class classification   (e.g. if it uses a `softmax` last-layer activation).* `(model.predict(x) > 0.5).astype(\"int32\")`,   if your model does binary classification   (e.g. if it uses a `sigmoid` last-layer activation).\n",
      "  warnings.warn('`model.predict_classes()` is deprecated and '\n",
      "\n",
      "C:\\Users\\Alext\\anaconda3\\envs\\ML\\lib\\site-packages\\keras\\engine\\sequential.py:450: UserWarning: `model.predict_classes()` is deprecated and will be removed after 2021-01-01. Please use instead:* `np.argmax(model.predict(x), axis=-1)`,   if your model does multi-class classification   (e.g. if it uses a `softmax` last-layer activation).* `(model.predict(x) > 0.5).astype(\"int32\")`,   if your model does binary classification   (e.g. if it uses a `sigmoid` last-layer activation).\n",
      "  warnings.warn('`model.predict_classes()` is deprecated and '\n",
      "\n",
      "C:\\Users\\Alext\\anaconda3\\envs\\ML\\lib\\site-packages\\keras\\engine\\sequential.py:450: UserWarning: `model.predict_classes()` is deprecated and will be removed after 2021-01-01. Please use instead:* `np.argmax(model.predict(x), axis=-1)`,   if your model does multi-class classification   (e.g. if it uses a `softmax` last-layer activation).* `(model.predict(x) > 0.5).astype(\"int32\")`,   if your model does binary classification   (e.g. if it uses a `sigmoid` last-layer activation).\n",
      "  warnings.warn('`model.predict_classes()` is deprecated and '\n",
      "\n",
      "C:\\Users\\Alext\\anaconda3\\envs\\ML\\lib\\site-packages\\keras\\engine\\sequential.py:450: UserWarning: `model.predict_classes()` is deprecated and will be removed after 2021-01-01. Please use instead:* `np.argmax(model.predict(x), axis=-1)`,   if your model does multi-class classification   (e.g. if it uses a `softmax` last-layer activation).* `(model.predict(x) > 0.5).astype(\"int32\")`,   if your model does binary classification   (e.g. if it uses a `sigmoid` last-layer activation).\n",
      "  warnings.warn('`model.predict_classes()` is deprecated and '\n",
      "\n",
      "C:\\Users\\Alext\\anaconda3\\envs\\ML\\lib\\site-packages\\keras\\engine\\sequential.py:450: UserWarning: `model.predict_classes()` is deprecated and will be removed after 2021-01-01. Please use instead:* `np.argmax(model.predict(x), axis=-1)`,   if your model does multi-class classification   (e.g. if it uses a `softmax` last-layer activation).* `(model.predict(x) > 0.5).astype(\"int32\")`,   if your model does binary classification   (e.g. if it uses a `sigmoid` last-layer activation).\n",
      "  warnings.warn('`model.predict_classes()` is deprecated and '\n",
      "\n"
     ]
    },
    {
     "name": "stdout",
     "output_type": "stream",
     "text": [
      "Test accuracy:                                                                    \n",
      "0.7253469158578648                                                                \n",
      " 86%|████████▌ | 43/50 [21:46<03:10, 27.25s/trial, best loss: -0.7253469158578648]"
     ]
    },
    {
     "name": "stderr",
     "output_type": "stream",
     "text": [
      "C:\\Users\\Alext\\anaconda3\\envs\\ML\\lib\\site-packages\\keras\\engine\\sequential.py:450: UserWarning: `model.predict_classes()` is deprecated and will be removed after 2021-01-01. Please use instead:* `np.argmax(model.predict(x), axis=-1)`,   if your model does multi-class classification   (e.g. if it uses a `softmax` last-layer activation).* `(model.predict(x) > 0.5).astype(\"int32\")`,   if your model does binary classification   (e.g. if it uses a `sigmoid` last-layer activation).\n",
      "  warnings.warn('`model.predict_classes()` is deprecated and '\n",
      "\n",
      "C:\\Users\\Alext\\anaconda3\\envs\\ML\\lib\\site-packages\\keras\\engine\\sequential.py:450: UserWarning: `model.predict_classes()` is deprecated and will be removed after 2021-01-01. Please use instead:* `np.argmax(model.predict(x), axis=-1)`,   if your model does multi-class classification   (e.g. if it uses a `softmax` last-layer activation).* `(model.predict(x) > 0.5).astype(\"int32\")`,   if your model does binary classification   (e.g. if it uses a `sigmoid` last-layer activation).\n",
      "  warnings.warn('`model.predict_classes()` is deprecated and '\n",
      "\n",
      "C:\\Users\\Alext\\anaconda3\\envs\\ML\\lib\\site-packages\\keras\\engine\\sequential.py:450: UserWarning: `model.predict_classes()` is deprecated and will be removed after 2021-01-01. Please use instead:* `np.argmax(model.predict(x), axis=-1)`,   if your model does multi-class classification   (e.g. if it uses a `softmax` last-layer activation).* `(model.predict(x) > 0.5).astype(\"int32\")`,   if your model does binary classification   (e.g. if it uses a `sigmoid` last-layer activation).\n",
      "  warnings.warn('`model.predict_classes()` is deprecated and '\n",
      "\n",
      "C:\\Users\\Alext\\anaconda3\\envs\\ML\\lib\\site-packages\\keras\\engine\\sequential.py:450: UserWarning: `model.predict_classes()` is deprecated and will be removed after 2021-01-01. Please use instead:* `np.argmax(model.predict(x), axis=-1)`,   if your model does multi-class classification   (e.g. if it uses a `softmax` last-layer activation).* `(model.predict(x) > 0.5).astype(\"int32\")`,   if your model does binary classification   (e.g. if it uses a `sigmoid` last-layer activation).\n",
      "  warnings.warn('`model.predict_classes()` is deprecated and '\n",
      "\n",
      "C:\\Users\\Alext\\anaconda3\\envs\\ML\\lib\\site-packages\\keras\\engine\\sequential.py:450: UserWarning: `model.predict_classes()` is deprecated and will be removed after 2021-01-01. Please use instead:* `np.argmax(model.predict(x), axis=-1)`,   if your model does multi-class classification   (e.g. if it uses a `softmax` last-layer activation).* `(model.predict(x) > 0.5).astype(\"int32\")`,   if your model does binary classification   (e.g. if it uses a `sigmoid` last-layer activation).\n",
      "  warnings.warn('`model.predict_classes()` is deprecated and '\n",
      "\n"
     ]
    },
    {
     "name": "stdout",
     "output_type": "stream",
     "text": [
      "Test accuracy:                                                                    \n",
      "0.7253469158578648                                                                \n",
      " 88%|████████▊ | 44/50 [22:04<02:27, 24.59s/trial, best loss: -0.7253469158578648]"
     ]
    },
    {
     "name": "stderr",
     "output_type": "stream",
     "text": [
      "C:\\Users\\Alext\\anaconda3\\envs\\ML\\lib\\site-packages\\keras\\engine\\sequential.py:450: UserWarning: `model.predict_classes()` is deprecated and will be removed after 2021-01-01. Please use instead:* `np.argmax(model.predict(x), axis=-1)`,   if your model does multi-class classification   (e.g. if it uses a `softmax` last-layer activation).* `(model.predict(x) > 0.5).astype(\"int32\")`,   if your model does binary classification   (e.g. if it uses a `sigmoid` last-layer activation).\n",
      "  warnings.warn('`model.predict_classes()` is deprecated and '\n",
      "\n",
      "C:\\Users\\Alext\\anaconda3\\envs\\ML\\lib\\site-packages\\keras\\engine\\sequential.py:450: UserWarning: `model.predict_classes()` is deprecated and will be removed after 2021-01-01. Please use instead:* `np.argmax(model.predict(x), axis=-1)`,   if your model does multi-class classification   (e.g. if it uses a `softmax` last-layer activation).* `(model.predict(x) > 0.5).astype(\"int32\")`,   if your model does binary classification   (e.g. if it uses a `sigmoid` last-layer activation).\n",
      "  warnings.warn('`model.predict_classes()` is deprecated and '\n",
      "\n",
      "C:\\Users\\Alext\\anaconda3\\envs\\ML\\lib\\site-packages\\keras\\engine\\sequential.py:450: UserWarning: `model.predict_classes()` is deprecated and will be removed after 2021-01-01. Please use instead:* `np.argmax(model.predict(x), axis=-1)`,   if your model does multi-class classification   (e.g. if it uses a `softmax` last-layer activation).* `(model.predict(x) > 0.5).astype(\"int32\")`,   if your model does binary classification   (e.g. if it uses a `sigmoid` last-layer activation).\n",
      "  warnings.warn('`model.predict_classes()` is deprecated and '\n",
      "\n",
      "C:\\Users\\Alext\\anaconda3\\envs\\ML\\lib\\site-packages\\keras\\engine\\sequential.py:450: UserWarning: `model.predict_classes()` is deprecated and will be removed after 2021-01-01. Please use instead:* `np.argmax(model.predict(x), axis=-1)`,   if your model does multi-class classification   (e.g. if it uses a `softmax` last-layer activation).* `(model.predict(x) > 0.5).astype(\"int32\")`,   if your model does binary classification   (e.g. if it uses a `sigmoid` last-layer activation).\n",
      "  warnings.warn('`model.predict_classes()` is deprecated and '\n",
      "\n",
      "C:\\Users\\Alext\\anaconda3\\envs\\ML\\lib\\site-packages\\keras\\engine\\sequential.py:450: UserWarning: `model.predict_classes()` is deprecated and will be removed after 2021-01-01. Please use instead:* `np.argmax(model.predict(x), axis=-1)`,   if your model does multi-class classification   (e.g. if it uses a `softmax` last-layer activation).* `(model.predict(x) > 0.5).astype(\"int32\")`,   if your model does binary classification   (e.g. if it uses a `sigmoid` last-layer activation).\n",
      "  warnings.warn('`model.predict_classes()` is deprecated and '\n",
      "\n"
     ]
    },
    {
     "name": "stdout",
     "output_type": "stream",
     "text": [
      "Test accuracy:                                                                    \n",
      "0.7253469158578648                                                                \n",
      " 90%|█████████ | 45/50 [22:35<02:12, 26.49s/trial, best loss: -0.7253469158578648]"
     ]
    },
    {
     "name": "stderr",
     "output_type": "stream",
     "text": [
      "C:\\Users\\Alext\\anaconda3\\envs\\ML\\lib\\site-packages\\keras\\engine\\sequential.py:450: UserWarning: `model.predict_classes()` is deprecated and will be removed after 2021-01-01. Please use instead:* `np.argmax(model.predict(x), axis=-1)`,   if your model does multi-class classification   (e.g. if it uses a `softmax` last-layer activation).* `(model.predict(x) > 0.5).astype(\"int32\")`,   if your model does binary classification   (e.g. if it uses a `sigmoid` last-layer activation).\n",
      "  warnings.warn('`model.predict_classes()` is deprecated and '\n",
      "\n",
      "C:\\Users\\Alext\\anaconda3\\envs\\ML\\lib\\site-packages\\keras\\engine\\sequential.py:450: UserWarning: `model.predict_classes()` is deprecated and will be removed after 2021-01-01. Please use instead:* `np.argmax(model.predict(x), axis=-1)`,   if your model does multi-class classification   (e.g. if it uses a `softmax` last-layer activation).* `(model.predict(x) > 0.5).astype(\"int32\")`,   if your model does binary classification   (e.g. if it uses a `sigmoid` last-layer activation).\n",
      "  warnings.warn('`model.predict_classes()` is deprecated and '\n",
      "\n",
      "C:\\Users\\Alext\\anaconda3\\envs\\ML\\lib\\site-packages\\keras\\engine\\sequential.py:450: UserWarning: `model.predict_classes()` is deprecated and will be removed after 2021-01-01. Please use instead:* `np.argmax(model.predict(x), axis=-1)`,   if your model does multi-class classification   (e.g. if it uses a `softmax` last-layer activation).* `(model.predict(x) > 0.5).astype(\"int32\")`,   if your model does binary classification   (e.g. if it uses a `sigmoid` last-layer activation).\n",
      "  warnings.warn('`model.predict_classes()` is deprecated and '\n",
      "\n",
      "C:\\Users\\Alext\\anaconda3\\envs\\ML\\lib\\site-packages\\keras\\engine\\sequential.py:450: UserWarning: `model.predict_classes()` is deprecated and will be removed after 2021-01-01. Please use instead:* `np.argmax(model.predict(x), axis=-1)`,   if your model does multi-class classification   (e.g. if it uses a `softmax` last-layer activation).* `(model.predict(x) > 0.5).astype(\"int32\")`,   if your model does binary classification   (e.g. if it uses a `sigmoid` last-layer activation).\n",
      "  warnings.warn('`model.predict_classes()` is deprecated and '\n",
      "\n",
      "C:\\Users\\Alext\\anaconda3\\envs\\ML\\lib\\site-packages\\keras\\engine\\sequential.py:450: UserWarning: `model.predict_classes()` is deprecated and will be removed after 2021-01-01. Please use instead:* `np.argmax(model.predict(x), axis=-1)`,   if your model does multi-class classification   (e.g. if it uses a `softmax` last-layer activation).* `(model.predict(x) > 0.5).astype(\"int32\")`,   if your model does binary classification   (e.g. if it uses a `sigmoid` last-layer activation).\n",
      "  warnings.warn('`model.predict_classes()` is deprecated and '\n",
      "\n"
     ]
    },
    {
     "name": "stdout",
     "output_type": "stream",
     "text": [
      "Test accuracy:                                                                    \n",
      "0.7253469158578648                                                                \n",
      " 92%|█████████▏| 46/50 [22:56<01:39, 24.81s/trial, best loss: -0.7253469158578648]"
     ]
    },
    {
     "name": "stderr",
     "output_type": "stream",
     "text": [
      "C:\\Users\\Alext\\anaconda3\\envs\\ML\\lib\\site-packages\\keras\\engine\\sequential.py:450: UserWarning: `model.predict_classes()` is deprecated and will be removed after 2021-01-01. Please use instead:* `np.argmax(model.predict(x), axis=-1)`,   if your model does multi-class classification   (e.g. if it uses a `softmax` last-layer activation).* `(model.predict(x) > 0.5).astype(\"int32\")`,   if your model does binary classification   (e.g. if it uses a `sigmoid` last-layer activation).\n",
      "  warnings.warn('`model.predict_classes()` is deprecated and '\n",
      "\n",
      "C:\\Users\\Alext\\anaconda3\\envs\\ML\\lib\\site-packages\\keras\\engine\\sequential.py:450: UserWarning: `model.predict_classes()` is deprecated and will be removed after 2021-01-01. Please use instead:* `np.argmax(model.predict(x), axis=-1)`,   if your model does multi-class classification   (e.g. if it uses a `softmax` last-layer activation).* `(model.predict(x) > 0.5).astype(\"int32\")`,   if your model does binary classification   (e.g. if it uses a `sigmoid` last-layer activation).\n",
      "  warnings.warn('`model.predict_classes()` is deprecated and '\n",
      "\n",
      "C:\\Users\\Alext\\anaconda3\\envs\\ML\\lib\\site-packages\\keras\\engine\\sequential.py:450: UserWarning: `model.predict_classes()` is deprecated and will be removed after 2021-01-01. Please use instead:* `np.argmax(model.predict(x), axis=-1)`,   if your model does multi-class classification   (e.g. if it uses a `softmax` last-layer activation).* `(model.predict(x) > 0.5).astype(\"int32\")`,   if your model does binary classification   (e.g. if it uses a `sigmoid` last-layer activation).\n",
      "  warnings.warn('`model.predict_classes()` is deprecated and '\n",
      "\n",
      "C:\\Users\\Alext\\anaconda3\\envs\\ML\\lib\\site-packages\\keras\\engine\\sequential.py:450: UserWarning: `model.predict_classes()` is deprecated and will be removed after 2021-01-01. Please use instead:* `np.argmax(model.predict(x), axis=-1)`,   if your model does multi-class classification   (e.g. if it uses a `softmax` last-layer activation).* `(model.predict(x) > 0.5).astype(\"int32\")`,   if your model does binary classification   (e.g. if it uses a `sigmoid` last-layer activation).\n",
      "  warnings.warn('`model.predict_classes()` is deprecated and '\n",
      "\n",
      "C:\\Users\\Alext\\anaconda3\\envs\\ML\\lib\\site-packages\\keras\\engine\\sequential.py:450: UserWarning: `model.predict_classes()` is deprecated and will be removed after 2021-01-01. Please use instead:* `np.argmax(model.predict(x), axis=-1)`,   if your model does multi-class classification   (e.g. if it uses a `softmax` last-layer activation).* `(model.predict(x) > 0.5).astype(\"int32\")`,   if your model does binary classification   (e.g. if it uses a `sigmoid` last-layer activation).\n",
      "  warnings.warn('`model.predict_classes()` is deprecated and '\n",
      "\n"
     ]
    },
    {
     "name": "stdout",
     "output_type": "stream",
     "text": [
      "Test accuracy:                                                                    \n",
      "0.7253469158578648                                                                \n",
      " 94%|█████████▍| 47/50 [23:25<01:18, 26.16s/trial, best loss: -0.7253469158578648]"
     ]
    },
    {
     "name": "stderr",
     "output_type": "stream",
     "text": [
      "C:\\Users\\Alext\\anaconda3\\envs\\ML\\lib\\site-packages\\keras\\engine\\sequential.py:450: UserWarning: `model.predict_classes()` is deprecated and will be removed after 2021-01-01. Please use instead:* `np.argmax(model.predict(x), axis=-1)`,   if your model does multi-class classification   (e.g. if it uses a `softmax` last-layer activation).* `(model.predict(x) > 0.5).astype(\"int32\")`,   if your model does binary classification   (e.g. if it uses a `sigmoid` last-layer activation).\n",
      "  warnings.warn('`model.predict_classes()` is deprecated and '\n",
      "\n",
      "C:\\Users\\Alext\\anaconda3\\envs\\ML\\lib\\site-packages\\keras\\engine\\sequential.py:450: UserWarning: `model.predict_classes()` is deprecated and will be removed after 2021-01-01. Please use instead:* `np.argmax(model.predict(x), axis=-1)`,   if your model does multi-class classification   (e.g. if it uses a `softmax` last-layer activation).* `(model.predict(x) > 0.5).astype(\"int32\")`,   if your model does binary classification   (e.g. if it uses a `sigmoid` last-layer activation).\n",
      "  warnings.warn('`model.predict_classes()` is deprecated and '\n",
      "\n",
      "C:\\Users\\Alext\\anaconda3\\envs\\ML\\lib\\site-packages\\keras\\engine\\sequential.py:450: UserWarning: `model.predict_classes()` is deprecated and will be removed after 2021-01-01. Please use instead:* `np.argmax(model.predict(x), axis=-1)`,   if your model does multi-class classification   (e.g. if it uses a `softmax` last-layer activation).* `(model.predict(x) > 0.5).astype(\"int32\")`,   if your model does binary classification   (e.g. if it uses a `sigmoid` last-layer activation).\n",
      "  warnings.warn('`model.predict_classes()` is deprecated and '\n",
      "\n",
      "C:\\Users\\Alext\\anaconda3\\envs\\ML\\lib\\site-packages\\keras\\engine\\sequential.py:450: UserWarning: `model.predict_classes()` is deprecated and will be removed after 2021-01-01. Please use instead:* `np.argmax(model.predict(x), axis=-1)`,   if your model does multi-class classification   (e.g. if it uses a `softmax` last-layer activation).* `(model.predict(x) > 0.5).astype(\"int32\")`,   if your model does binary classification   (e.g. if it uses a `sigmoid` last-layer activation).\n",
      "  warnings.warn('`model.predict_classes()` is deprecated and '\n",
      "\n",
      "C:\\Users\\Alext\\anaconda3\\envs\\ML\\lib\\site-packages\\keras\\engine\\sequential.py:450: UserWarning: `model.predict_classes()` is deprecated and will be removed after 2021-01-01. Please use instead:* `np.argmax(model.predict(x), axis=-1)`,   if your model does multi-class classification   (e.g. if it uses a `softmax` last-layer activation).* `(model.predict(x) > 0.5).astype(\"int32\")`,   if your model does binary classification   (e.g. if it uses a `sigmoid` last-layer activation).\n",
      "  warnings.warn('`model.predict_classes()` is deprecated and '\n",
      "\n"
     ]
    },
    {
     "name": "stdout",
     "output_type": "stream",
     "text": [
      "Test accuracy:                                                                    \n",
      "0.7246143151252641                                                                \n",
      " 96%|█████████▌| 48/50 [23:58<00:56, 28.17s/trial, best loss: -0.7253469158578648]"
     ]
    },
    {
     "name": "stderr",
     "output_type": "stream",
     "text": [
      "C:\\Users\\Alext\\anaconda3\\envs\\ML\\lib\\site-packages\\keras\\engine\\sequential.py:450: UserWarning: `model.predict_classes()` is deprecated and will be removed after 2021-01-01. Please use instead:* `np.argmax(model.predict(x), axis=-1)`,   if your model does multi-class classification   (e.g. if it uses a `softmax` last-layer activation).* `(model.predict(x) > 0.5).astype(\"int32\")`,   if your model does binary classification   (e.g. if it uses a `sigmoid` last-layer activation).\n",
      "  warnings.warn('`model.predict_classes()` is deprecated and '\n",
      "\n",
      "C:\\Users\\Alext\\anaconda3\\envs\\ML\\lib\\site-packages\\keras\\engine\\sequential.py:450: UserWarning: `model.predict_classes()` is deprecated and will be removed after 2021-01-01. Please use instead:* `np.argmax(model.predict(x), axis=-1)`,   if your model does multi-class classification   (e.g. if it uses a `softmax` last-layer activation).* `(model.predict(x) > 0.5).astype(\"int32\")`,   if your model does binary classification   (e.g. if it uses a `sigmoid` last-layer activation).\n",
      "  warnings.warn('`model.predict_classes()` is deprecated and '\n",
      "\n",
      "C:\\Users\\Alext\\anaconda3\\envs\\ML\\lib\\site-packages\\keras\\engine\\sequential.py:450: UserWarning: `model.predict_classes()` is deprecated and will be removed after 2021-01-01. Please use instead:* `np.argmax(model.predict(x), axis=-1)`,   if your model does multi-class classification   (e.g. if it uses a `softmax` last-layer activation).* `(model.predict(x) > 0.5).astype(\"int32\")`,   if your model does binary classification   (e.g. if it uses a `sigmoid` last-layer activation).\n",
      "  warnings.warn('`model.predict_classes()` is deprecated and '\n",
      "\n",
      "C:\\Users\\Alext\\anaconda3\\envs\\ML\\lib\\site-packages\\keras\\engine\\sequential.py:450: UserWarning: `model.predict_classes()` is deprecated and will be removed after 2021-01-01. Please use instead:* `np.argmax(model.predict(x), axis=-1)`,   if your model does multi-class classification   (e.g. if it uses a `softmax` last-layer activation).* `(model.predict(x) > 0.5).astype(\"int32\")`,   if your model does binary classification   (e.g. if it uses a `sigmoid` last-layer activation).\n",
      "  warnings.warn('`model.predict_classes()` is deprecated and '\n",
      "\n",
      "C:\\Users\\Alext\\anaconda3\\envs\\ML\\lib\\site-packages\\keras\\engine\\sequential.py:450: UserWarning: `model.predict_classes()` is deprecated and will be removed after 2021-01-01. Please use instead:* `np.argmax(model.predict(x), axis=-1)`,   if your model does multi-class classification   (e.g. if it uses a `softmax` last-layer activation).* `(model.predict(x) > 0.5).astype(\"int32\")`,   if your model does binary classification   (e.g. if it uses a `sigmoid` last-layer activation).\n",
      "  warnings.warn('`model.predict_classes()` is deprecated and '\n",
      "\n"
     ]
    },
    {
     "name": "stdout",
     "output_type": "stream",
     "text": [
      "Test accuracy:                                                                    \n",
      "0.7253469158578648                                                                \n",
      " 98%|█████████▊| 49/50 [24:21<00:26, 26.68s/trial, best loss: -0.7253469158578648]"
     ]
    },
    {
     "name": "stderr",
     "output_type": "stream",
     "text": [
      "C:\\Users\\Alext\\anaconda3\\envs\\ML\\lib\\site-packages\\keras\\engine\\sequential.py:450: UserWarning: `model.predict_classes()` is deprecated and will be removed after 2021-01-01. Please use instead:* `np.argmax(model.predict(x), axis=-1)`,   if your model does multi-class classification   (e.g. if it uses a `softmax` last-layer activation).* `(model.predict(x) > 0.5).astype(\"int32\")`,   if your model does binary classification   (e.g. if it uses a `sigmoid` last-layer activation).\n",
      "  warnings.warn('`model.predict_classes()` is deprecated and '\n",
      "\n",
      "C:\\Users\\Alext\\anaconda3\\envs\\ML\\lib\\site-packages\\keras\\engine\\sequential.py:450: UserWarning: `model.predict_classes()` is deprecated and will be removed after 2021-01-01. Please use instead:* `np.argmax(model.predict(x), axis=-1)`,   if your model does multi-class classification   (e.g. if it uses a `softmax` last-layer activation).* `(model.predict(x) > 0.5).astype(\"int32\")`,   if your model does binary classification   (e.g. if it uses a `sigmoid` last-layer activation).\n",
      "  warnings.warn('`model.predict_classes()` is deprecated and '\n",
      "\n",
      "C:\\Users\\Alext\\anaconda3\\envs\\ML\\lib\\site-packages\\keras\\engine\\sequential.py:450: UserWarning: `model.predict_classes()` is deprecated and will be removed after 2021-01-01. Please use instead:* `np.argmax(model.predict(x), axis=-1)`,   if your model does multi-class classification   (e.g. if it uses a `softmax` last-layer activation).* `(model.predict(x) > 0.5).astype(\"int32\")`,   if your model does binary classification   (e.g. if it uses a `sigmoid` last-layer activation).\n",
      "  warnings.warn('`model.predict_classes()` is deprecated and '\n",
      "\n",
      "C:\\Users\\Alext\\anaconda3\\envs\\ML\\lib\\site-packages\\keras\\engine\\sequential.py:450: UserWarning: `model.predict_classes()` is deprecated and will be removed after 2021-01-01. Please use instead:* `np.argmax(model.predict(x), axis=-1)`,   if your model does multi-class classification   (e.g. if it uses a `softmax` last-layer activation).* `(model.predict(x) > 0.5).astype(\"int32\")`,   if your model does binary classification   (e.g. if it uses a `sigmoid` last-layer activation).\n",
      "  warnings.warn('`model.predict_classes()` is deprecated and '\n",
      "\n",
      "C:\\Users\\Alext\\anaconda3\\envs\\ML\\lib\\site-packages\\keras\\engine\\sequential.py:450: UserWarning: `model.predict_classes()` is deprecated and will be removed after 2021-01-01. Please use instead:* `np.argmax(model.predict(x), axis=-1)`,   if your model does multi-class classification   (e.g. if it uses a `softmax` last-layer activation).* `(model.predict(x) > 0.5).astype(\"int32\")`,   if your model does binary classification   (e.g. if it uses a `sigmoid` last-layer activation).\n",
      "  warnings.warn('`model.predict_classes()` is deprecated and '\n",
      "\n"
     ]
    },
    {
     "name": "stdout",
     "output_type": "stream",
     "text": [
      "Test accuracy:                                                                    \n",
      "0.7253469158578648                                                                \n",
      "100%|██████████| 50/50 [24:43<00:00, 29.66s/trial, best loss: -0.7253469158578648]\n"
     ]
    }
   ],
   "source": [
    "#call the optimisation algorithm\n",
    "best_run, best_model = optim.minimize(model,\n",
    "                                      data=data,\n",
    "                                      algo=tpe.suggest,\n",
    "                                      max_evals=50,\n",
    "                                      trials=Trials(),\n",
    "                                      notebook_name='Reduced_ANN')"
   ]
  },
  {
   "cell_type": "code",
   "execution_count": 6,
   "id": "87d236c3",
   "metadata": {},
   "outputs": [
    {
     "name": "stdout",
     "output_type": "stream",
     "text": [
      "{'Activation': 1, 'Activation_1': 2, 'Dense': 3, 'Dense_1': 2, 'Dropout_rate': 0.12756858506053687, 'batch_size': 1, 'epochs': 2, 'learning_rate': 0}\n"
     ]
    }
   ],
   "source": [
    "#display the parameters for the best performing model\n",
    "print(best_run)"
   ]
  },
  {
   "cell_type": "code",
   "execution_count": 7,
   "id": "29938da5",
   "metadata": {},
   "outputs": [
    {
     "data": {
      "text/plain": [
       "<keras.engine.sequential.Sequential at 0x205c8c95850>"
      ]
     },
     "execution_count": 7,
     "metadata": {},
     "output_type": "execute_result"
    }
   ],
   "source": [
    "best_model"
   ]
  },
  {
   "cell_type": "code",
   "execution_count": 8,
   "id": "66683435",
   "metadata": {},
   "outputs": [
    {
     "name": "stdout",
     "output_type": "stream",
     "text": [
      "Epoch 1/200\n",
      "22/22 [==============================] - 3s 42ms/step - loss: 0.6111 - accuracy: 0.7351 - val_loss: 0.5886 - val_accuracy: 0.7245\n",
      "Epoch 2/200\n",
      "22/22 [==============================] - 0s 6ms/step - loss: 0.5858 - accuracy: 0.7428 - val_loss: 0.5886 - val_accuracy: 0.7245\n",
      "Epoch 3/200\n",
      "22/22 [==============================] - 0s 7ms/step - loss: 0.5853 - accuracy: 0.7231 - val_loss: 0.5893 - val_accuracy: 0.7245\n",
      "Epoch 4/200\n",
      "22/22 [==============================] - 0s 6ms/step - loss: 0.5978 - accuracy: 0.7292 - val_loss: 0.5886 - val_accuracy: 0.7245\n",
      "Epoch 5/200\n",
      "22/22 [==============================] - 0s 6ms/step - loss: 0.5832 - accuracy: 0.7337 - val_loss: 0.5889 - val_accuracy: 0.7245\n",
      "Epoch 6/200\n",
      "22/22 [==============================] - 0s 5ms/step - loss: 0.5877 - accuracy: 0.7367 - val_loss: 0.5887 - val_accuracy: 0.7245\n",
      "Epoch 7/200\n",
      "22/22 [==============================] - 0s 5ms/step - loss: 0.5966 - accuracy: 0.7330 - val_loss: 0.5894 - val_accuracy: 0.7245\n",
      "Epoch 8/200\n",
      "22/22 [==============================] - 0s 6ms/step - loss: 0.5864 - accuracy: 0.7343 - val_loss: 0.5887 - val_accuracy: 0.7245\n",
      "Epoch 9/200\n",
      "22/22 [==============================] - 0s 7ms/step - loss: 0.5817 - accuracy: 0.7411 - val_loss: 0.5886 - val_accuracy: 0.7245\n",
      "Epoch 10/200\n",
      "22/22 [==============================] - 0s 7ms/step - loss: 0.5850 - accuracy: 0.7398 - val_loss: 0.5888 - val_accuracy: 0.7245\n",
      "Epoch 11/200\n",
      "22/22 [==============================] - 0s 6ms/step - loss: 0.5795 - accuracy: 0.7402 - val_loss: 0.5888 - val_accuracy: 0.7245\n",
      "Epoch 12/200\n",
      "22/22 [==============================] - 0s 6ms/step - loss: 0.5832 - accuracy: 0.7350 - val_loss: 0.5888 - val_accuracy: 0.7245\n",
      "Epoch 13/200\n",
      "22/22 [==============================] - 0s 10ms/step - loss: 0.5839 - accuracy: 0.7368 - val_loss: 0.5886 - val_accuracy: 0.7245\n",
      "Epoch 14/200\n",
      "22/22 [==============================] - 0s 8ms/step - loss: 0.5880 - accuracy: 0.7372 - val_loss: 0.5886 - val_accuracy: 0.7245\n",
      "Epoch 15/200\n",
      "22/22 [==============================] - 0s 6ms/step - loss: 0.5814 - accuracy: 0.7394 - val_loss: 0.5886 - val_accuracy: 0.7245\n",
      "Epoch 16/200\n",
      "22/22 [==============================] - 0s 6ms/step - loss: 0.5831 - accuracy: 0.7378 - val_loss: 0.5887 - val_accuracy: 0.7245\n",
      "Epoch 17/200\n",
      "22/22 [==============================] - 0s 7ms/step - loss: 0.5827 - accuracy: 0.7358 - val_loss: 0.5888 - val_accuracy: 0.7245\n",
      "Epoch 18/200\n",
      "22/22 [==============================] - 0s 3ms/step - loss: 0.5802 - accuracy: 0.7387 - val_loss: 0.5886 - val_accuracy: 0.7245\n",
      "Epoch 19/200\n",
      "22/22 [==============================] - 0s 4ms/step - loss: 0.5770 - accuracy: 0.7389 - val_loss: 0.5886 - val_accuracy: 0.7245\n",
      "Epoch 20/200\n",
      "22/22 [==============================] - 0s 3ms/step - loss: 0.5858 - accuracy: 0.7377 - val_loss: 0.5888 - val_accuracy: 0.7245\n",
      "Epoch 21/200\n",
      "22/22 [==============================] - 0s 4ms/step - loss: 0.5826 - accuracy: 0.7402 - val_loss: 0.5886 - val_accuracy: 0.7245\n",
      "Epoch 22/200\n",
      "22/22 [==============================] - 0s 4ms/step - loss: 0.5838 - accuracy: 0.7402 - val_loss: 0.5886 - val_accuracy: 0.7245\n",
      "Epoch 23/200\n",
      "22/22 [==============================] - 0s 5ms/step - loss: 0.5810 - accuracy: 0.7402 - val_loss: 0.5886 - val_accuracy: 0.7245\n",
      "Epoch 24/200\n",
      "22/22 [==============================] - 0s 3ms/step - loss: 0.5831 - accuracy: 0.7402 - val_loss: 0.5888 - val_accuracy: 0.7245\n",
      "Epoch 25/200\n",
      "22/22 [==============================] - 0s 3ms/step - loss: 0.5764 - accuracy: 0.7402 - val_loss: 0.5886 - val_accuracy: 0.7245\n",
      "Epoch 26/200\n",
      "22/22 [==============================] - 0s 4ms/step - loss: 0.5820 - accuracy: 0.7402 - val_loss: 0.5887 - val_accuracy: 0.7245\n",
      "Epoch 27/200\n",
      "22/22 [==============================] - 0s 4ms/step - loss: 0.5845 - accuracy: 0.7377 - val_loss: 0.5886 - val_accuracy: 0.7245\n",
      "Epoch 28/200\n",
      "22/22 [==============================] - 0s 3ms/step - loss: 0.5744 - accuracy: 0.7402 - val_loss: 0.5886 - val_accuracy: 0.7245\n",
      "Epoch 29/200\n",
      "22/22 [==============================] - 0s 3ms/step - loss: 0.5819 - accuracy: 0.7402 - val_loss: 0.5886 - val_accuracy: 0.7245\n",
      "Epoch 30/200\n",
      "22/22 [==============================] - 0s 4ms/step - loss: 0.5836 - accuracy: 0.7402 - val_loss: 0.5886 - val_accuracy: 0.7245\n",
      "Epoch 31/200\n",
      "22/22 [==============================] - 0s 6ms/step - loss: 0.5834 - accuracy: 0.7402 - val_loss: 0.5887 - val_accuracy: 0.7245\n",
      "Epoch 32/200\n",
      "22/22 [==============================] - 0s 4ms/step - loss: 0.5809 - accuracy: 0.7402 - val_loss: 0.5886 - val_accuracy: 0.7245\n",
      "Epoch 33/200\n",
      "22/22 [==============================] - 0s 4ms/step - loss: 0.5772 - accuracy: 0.7402 - val_loss: 0.5886 - val_accuracy: 0.7245\n",
      "Epoch 34/200\n",
      "22/22 [==============================] - 0s 5ms/step - loss: 0.5789 - accuracy: 0.7402 - val_loss: 0.5885 - val_accuracy: 0.7245\n",
      "Epoch 35/200\n",
      "22/22 [==============================] - 0s 4ms/step - loss: 0.5781 - accuracy: 0.7402 - val_loss: 0.5886 - val_accuracy: 0.7245\n",
      "Epoch 36/200\n",
      "22/22 [==============================] - 0s 4ms/step - loss: 0.5778 - accuracy: 0.7415 - val_loss: 0.5886 - val_accuracy: 0.7245\n",
      "Epoch 37/200\n",
      "22/22 [==============================] - 0s 3ms/step - loss: 0.5770 - accuracy: 0.7402 - val_loss: 0.5886 - val_accuracy: 0.7245\n",
      "Epoch 38/200\n",
      "22/22 [==============================] - 0s 3ms/step - loss: 0.5789 - accuracy: 0.7402 - val_loss: 0.5886 - val_accuracy: 0.7245\n",
      "Epoch 39/200\n",
      "22/22 [==============================] - 0s 4ms/step - loss: 0.5778 - accuracy: 0.7402 - val_loss: 0.5887 - val_accuracy: 0.7245\n",
      "Epoch 40/200\n",
      "22/22 [==============================] - 0s 4ms/step - loss: 0.5783 - accuracy: 0.7402 - val_loss: 0.5886 - val_accuracy: 0.7245\n",
      "Epoch 41/200\n",
      "22/22 [==============================] - 0s 4ms/step - loss: 0.5740 - accuracy: 0.7402 - val_loss: 0.5886 - val_accuracy: 0.7245\n",
      "Epoch 42/200\n",
      "22/22 [==============================] - 0s 4ms/step - loss: 0.5763 - accuracy: 0.7402 - val_loss: 0.5885 - val_accuracy: 0.7245\n",
      "Epoch 43/200\n",
      "22/22 [==============================] - 0s 6ms/step - loss: 0.5733 - accuracy: 0.7402 - val_loss: 0.5886 - val_accuracy: 0.7245\n",
      "Epoch 44/200\n",
      "22/22 [==============================] - 0s 4ms/step - loss: 0.5767 - accuracy: 0.7402 - val_loss: 0.5886 - val_accuracy: 0.7245\n",
      "Epoch 45/200\n",
      "22/22 [==============================] - 0s 4ms/step - loss: 0.5787 - accuracy: 0.7402 - val_loss: 0.5886 - val_accuracy: 0.7245\n",
      "Epoch 46/200\n",
      "22/22 [==============================] - 0s 5ms/step - loss: 0.5744 - accuracy: 0.7402 - val_loss: 0.5886 - val_accuracy: 0.7245\n",
      "Epoch 47/200\n",
      "22/22 [==============================] - 0s 6ms/step - loss: 0.5728 - accuracy: 0.7402 - val_loss: 0.5888 - val_accuracy: 0.7245\n",
      "Epoch 48/200\n",
      "22/22 [==============================] - 0s 4ms/step - loss: 0.5811 - accuracy: 0.7402 - val_loss: 0.5886 - val_accuracy: 0.7245\n",
      "Epoch 49/200\n",
      "22/22 [==============================] - 0s 5ms/step - loss: 0.5760 - accuracy: 0.7402 - val_loss: 0.5886 - val_accuracy: 0.7245\n",
      "Epoch 50/200\n",
      "22/22 [==============================] - 0s 4ms/step - loss: 0.5765 - accuracy: 0.7402 - val_loss: 0.5886 - val_accuracy: 0.7245\n",
      "Epoch 51/200\n",
      "22/22 [==============================] - 0s 3ms/step - loss: 0.5783 - accuracy: 0.7402 - val_loss: 0.5886 - val_accuracy: 0.7245\n",
      "Epoch 52/200\n",
      "22/22 [==============================] - 0s 4ms/step - loss: 0.5779 - accuracy: 0.7402 - val_loss: 0.5886 - val_accuracy: 0.7245\n",
      "Epoch 53/200\n",
      "22/22 [==============================] - 0s 4ms/step - loss: 0.5748 - accuracy: 0.7402 - val_loss: 0.5887 - val_accuracy: 0.7245\n",
      "Epoch 54/200\n",
      "22/22 [==============================] - 0s 4ms/step - loss: 0.5761 - accuracy: 0.7402 - val_loss: 0.5886 - val_accuracy: 0.7245\n",
      "Epoch 55/200\n",
      "22/22 [==============================] - 0s 3ms/step - loss: 0.5744 - accuracy: 0.7402 - val_loss: 0.5886 - val_accuracy: 0.7245\n",
      "Epoch 56/200\n",
      "22/22 [==============================] - 0s 3ms/step - loss: 0.5760 - accuracy: 0.7402 - val_loss: 0.5886 - val_accuracy: 0.7245\n",
      "Epoch 57/200\n",
      "22/22 [==============================] - 0s 3ms/step - loss: 0.5763 - accuracy: 0.7402 - val_loss: 0.5886 - val_accuracy: 0.7245\n",
      "Epoch 58/200\n",
      "22/22 [==============================] - 0s 3ms/step - loss: 0.5752 - accuracy: 0.7402 - val_loss: 0.5885 - val_accuracy: 0.7245\n"
     ]
    },
    {
     "name": "stdout",
     "output_type": "stream",
     "text": [
      "Epoch 59/200\n",
      "22/22 [==============================] - 0s 3ms/step - loss: 0.5795 - accuracy: 0.7402 - val_loss: 0.5885 - val_accuracy: 0.7245\n",
      "Epoch 60/200\n",
      "22/22 [==============================] - 0s 4ms/step - loss: 0.5782 - accuracy: 0.7402 - val_loss: 0.5886 - val_accuracy: 0.7245\n",
      "Epoch 61/200\n",
      "22/22 [==============================] - 0s 3ms/step - loss: 0.5791 - accuracy: 0.7402 - val_loss: 0.5885 - val_accuracy: 0.7245\n",
      "Epoch 62/200\n",
      "22/22 [==============================] - 0s 3ms/step - loss: 0.5792 - accuracy: 0.7402 - val_loss: 0.5885 - val_accuracy: 0.7245\n",
      "Epoch 63/200\n",
      "22/22 [==============================] - 0s 3ms/step - loss: 0.5738 - accuracy: 0.7402 - val_loss: 0.5885 - val_accuracy: 0.7245\n",
      "Epoch 64/200\n",
      "22/22 [==============================] - 0s 3ms/step - loss: 0.5774 - accuracy: 0.7402 - val_loss: 0.5885 - val_accuracy: 0.7245\n",
      "Epoch 65/200\n",
      "22/22 [==============================] - 0s 5ms/step - loss: 0.5753 - accuracy: 0.7402 - val_loss: 0.5885 - val_accuracy: 0.7245\n",
      "Epoch 66/200\n",
      "22/22 [==============================] - 0s 4ms/step - loss: 0.5763 - accuracy: 0.7402 - val_loss: 0.5885 - val_accuracy: 0.7245\n",
      "Epoch 67/200\n",
      "22/22 [==============================] - 0s 3ms/step - loss: 0.5772 - accuracy: 0.7402 - val_loss: 0.5885 - val_accuracy: 0.7245\n",
      "Epoch 68/200\n",
      "22/22 [==============================] - 0s 3ms/step - loss: 0.5788 - accuracy: 0.7402 - val_loss: 0.5885 - val_accuracy: 0.7245\n",
      "Epoch 69/200\n",
      "22/22 [==============================] - 0s 3ms/step - loss: 0.5746 - accuracy: 0.7402 - val_loss: 0.5886 - val_accuracy: 0.7245\n",
      "Epoch 70/200\n",
      "22/22 [==============================] - 0s 4ms/step - loss: 0.5743 - accuracy: 0.7402 - val_loss: 0.5886 - val_accuracy: 0.7245\n",
      "Epoch 71/200\n",
      "22/22 [==============================] - 0s 4ms/step - loss: 0.5731 - accuracy: 0.7402 - val_loss: 0.5885 - val_accuracy: 0.7245\n",
      "Epoch 72/200\n",
      "22/22 [==============================] - 0s 6ms/step - loss: 0.5773 - accuracy: 0.7402 - val_loss: 0.5885 - val_accuracy: 0.7245\n",
      "Epoch 73/200\n",
      "22/22 [==============================] - 0s 3ms/step - loss: 0.5771 - accuracy: 0.7402 - val_loss: 0.5885 - val_accuracy: 0.7245\n",
      "Epoch 74/200\n",
      "22/22 [==============================] - 0s 6ms/step - loss: 0.5785 - accuracy: 0.7402 - val_loss: 0.5885 - val_accuracy: 0.7245\n",
      "Epoch 75/200\n",
      "22/22 [==============================] - 0s 4ms/step - loss: 0.5755 - accuracy: 0.7402 - val_loss: 0.5885 - val_accuracy: 0.7245\n",
      "Epoch 76/200\n",
      "22/22 [==============================] - 0s 4ms/step - loss: 0.5760 - accuracy: 0.7402 - val_loss: 0.5886 - val_accuracy: 0.7245\n",
      "Epoch 77/200\n",
      "22/22 [==============================] - 0s 4ms/step - loss: 0.5736 - accuracy: 0.7402 - val_loss: 0.5886 - val_accuracy: 0.7245\n",
      "Epoch 78/200\n",
      "22/22 [==============================] - 0s 4ms/step - loss: 0.5744 - accuracy: 0.7402 - val_loss: 0.5885 - val_accuracy: 0.7245\n",
      "Epoch 79/200\n",
      "22/22 [==============================] - 0s 3ms/step - loss: 0.5787 - accuracy: 0.7402 - val_loss: 0.5885 - val_accuracy: 0.7245\n",
      "Epoch 80/200\n",
      "22/22 [==============================] - 0s 3ms/step - loss: 0.5788 - accuracy: 0.7402 - val_loss: 0.5885 - val_accuracy: 0.7245\n",
      "Epoch 81/200\n",
      "22/22 [==============================] - 0s 3ms/step - loss: 0.5761 - accuracy: 0.7402 - val_loss: 0.5886 - val_accuracy: 0.7245\n",
      "Epoch 82/200\n",
      "22/22 [==============================] - 0s 4ms/step - loss: 0.5755 - accuracy: 0.7402 - val_loss: 0.5886 - val_accuracy: 0.7245\n",
      "Epoch 83/200\n",
      "22/22 [==============================] - 0s 7ms/step - loss: 0.5755 - accuracy: 0.7402 - val_loss: 0.5885 - val_accuracy: 0.7245\n",
      "Epoch 84/200\n",
      "22/22 [==============================] - 0s 4ms/step - loss: 0.5773 - accuracy: 0.7402 - val_loss: 0.5885 - val_accuracy: 0.7245\n",
      "Epoch 85/200\n",
      "22/22 [==============================] - 0s 4ms/step - loss: 0.5751 - accuracy: 0.7402 - val_loss: 0.5886 - val_accuracy: 0.7245\n",
      "Epoch 86/200\n",
      "22/22 [==============================] - 0s 22ms/step - loss: 0.5733 - accuracy: 0.7402 - val_loss: 0.5885 - val_accuracy: 0.7245\n",
      "Epoch 87/200\n",
      "22/22 [==============================] - 0s 6ms/step - loss: 0.5770 - accuracy: 0.7402 - val_loss: 0.5885 - val_accuracy: 0.7245\n",
      "Epoch 88/200\n",
      "22/22 [==============================] - 0s 3ms/step - loss: 0.5752 - accuracy: 0.7402 - val_loss: 0.5886 - val_accuracy: 0.7245\n",
      "Epoch 89/200\n",
      "22/22 [==============================] - 0s 9ms/step - loss: 0.5733 - accuracy: 0.7402 - val_loss: 0.5886 - val_accuracy: 0.7245\n",
      "Epoch 90/200\n",
      "22/22 [==============================] - 0s 7ms/step - loss: 0.5782 - accuracy: 0.7402 - val_loss: 0.5885 - val_accuracy: 0.7245\n",
      "Epoch 91/200\n",
      "22/22 [==============================] - 0s 6ms/step - loss: 0.5757 - accuracy: 0.7402 - val_loss: 0.5886 - val_accuracy: 0.7245\n",
      "Epoch 92/200\n",
      "22/22 [==============================] - 0s 4ms/step - loss: 0.5746 - accuracy: 0.7402 - val_loss: 0.5886 - val_accuracy: 0.7245\n",
      "Epoch 93/200\n",
      "22/22 [==============================] - 0s 5ms/step - loss: 0.5764 - accuracy: 0.7402 - val_loss: 0.5885 - val_accuracy: 0.7245\n",
      "Epoch 94/200\n",
      "22/22 [==============================] - 0s 5ms/step - loss: 0.5778 - accuracy: 0.7402 - val_loss: 0.5885 - val_accuracy: 0.7245\n",
      "Epoch 95/200\n",
      "22/22 [==============================] - 0s 6ms/step - loss: 0.5772 - accuracy: 0.7402 - val_loss: 0.5885 - val_accuracy: 0.7245\n",
      "Epoch 96/200\n",
      "22/22 [==============================] - 0s 4ms/step - loss: 0.5747 - accuracy: 0.7402 - val_loss: 0.5886 - val_accuracy: 0.7245\n",
      "Epoch 97/200\n",
      "22/22 [==============================] - 0s 4ms/step - loss: 0.5728 - accuracy: 0.7402 - val_loss: 0.5886 - val_accuracy: 0.7245\n",
      "Epoch 98/200\n",
      "22/22 [==============================] - 0s 6ms/step - loss: 0.5742 - accuracy: 0.7402 - val_loss: 0.5885 - val_accuracy: 0.7245\n",
      "Epoch 99/200\n",
      "22/22 [==============================] - 0s 3ms/step - loss: 0.5777 - accuracy: 0.7402 - val_loss: 0.5885 - val_accuracy: 0.7245\n",
      "Epoch 100/200\n",
      "22/22 [==============================] - 0s 3ms/step - loss: 0.5756 - accuracy: 0.7402 - val_loss: 0.5886 - val_accuracy: 0.7245\n",
      "Epoch 101/200\n",
      "22/22 [==============================] - 0s 3ms/step - loss: 0.5726 - accuracy: 0.7402 - val_loss: 0.5885 - val_accuracy: 0.7245\n",
      "Epoch 102/200\n",
      "22/22 [==============================] - 0s 3ms/step - loss: 0.5752 - accuracy: 0.7402 - val_loss: 0.5886 - val_accuracy: 0.7245\n",
      "Epoch 103/200\n",
      "22/22 [==============================] - 0s 3ms/step - loss: 0.5699 - accuracy: 0.7402 - val_loss: 0.5885 - val_accuracy: 0.7245\n",
      "Epoch 104/200\n",
      "22/22 [==============================] - 0s 3ms/step - loss: 0.5748 - accuracy: 0.7402 - val_loss: 0.5885 - val_accuracy: 0.7245\n",
      "Epoch 105/200\n",
      "22/22 [==============================] - 0s 3ms/step - loss: 0.5757 - accuracy: 0.7402 - val_loss: 0.5885 - val_accuracy: 0.7245\n",
      "Epoch 106/200\n",
      "22/22 [==============================] - 0s 3ms/step - loss: 0.5743 - accuracy: 0.7402 - val_loss: 0.5885 - val_accuracy: 0.7245\n",
      "Epoch 107/200\n",
      "22/22 [==============================] - 0s 6ms/step - loss: 0.5748 - accuracy: 0.7402 - val_loss: 0.5885 - val_accuracy: 0.7245\n",
      "Epoch 108/200\n",
      "22/22 [==============================] - 0s 4ms/step - loss: 0.5714 - accuracy: 0.7402 - val_loss: 0.5886 - val_accuracy: 0.7245\n",
      "Epoch 109/200\n",
      "22/22 [==============================] - 0s 3ms/step - loss: 0.5730 - accuracy: 0.7402 - val_loss: 0.5885 - val_accuracy: 0.7245\n",
      "Epoch 110/200\n",
      "22/22 [==============================] - 0s 3ms/step - loss: 0.5772 - accuracy: 0.7402 - val_loss: 0.5885 - val_accuracy: 0.7245\n",
      "Epoch 111/200\n",
      "22/22 [==============================] - 0s 3ms/step - loss: 0.5760 - accuracy: 0.7402 - val_loss: 0.5886 - val_accuracy: 0.7245\n",
      "Epoch 112/200\n",
      "22/22 [==============================] - 0s 3ms/step - loss: 0.5750 - accuracy: 0.7402 - val_loss: 0.5886 - val_accuracy: 0.7245\n",
      "Epoch 113/200\n",
      "22/22 [==============================] - 0s 3ms/step - loss: 0.5732 - accuracy: 0.7402 - val_loss: 0.5885 - val_accuracy: 0.7245\n",
      "Epoch 114/200\n",
      "22/22 [==============================] - 0s 3ms/step - loss: 0.5802 - accuracy: 0.7402 - val_loss: 0.5885 - val_accuracy: 0.7245\n",
      "Epoch 115/200\n",
      "22/22 [==============================] - 0s 3ms/step - loss: 0.5807 - accuracy: 0.7402 - val_loss: 0.5885 - val_accuracy: 0.7245\n",
      "Epoch 116/200\n"
     ]
    },
    {
     "name": "stdout",
     "output_type": "stream",
     "text": [
      "22/22 [==============================] - 0s 3ms/step - loss: 0.5736 - accuracy: 0.7402 - val_loss: 0.5885 - val_accuracy: 0.7245\n",
      "Epoch 117/200\n",
      "22/22 [==============================] - 0s 4ms/step - loss: 0.5764 - accuracy: 0.7402 - val_loss: 0.5885 - val_accuracy: 0.7245\n",
      "Epoch 118/200\n",
      "22/22 [==============================] - 0s 3ms/step - loss: 0.5725 - accuracy: 0.7402 - val_loss: 0.5885 - val_accuracy: 0.7245\n",
      "Epoch 119/200\n",
      "22/22 [==============================] - 0s 3ms/step - loss: 0.5781 - accuracy: 0.7402 - val_loss: 0.5885 - val_accuracy: 0.7245\n",
      "Epoch 120/200\n",
      "22/22 [==============================] - 0s 3ms/step - loss: 0.5730 - accuracy: 0.7402 - val_loss: 0.5886 - val_accuracy: 0.7245\n",
      "Epoch 121/200\n",
      "22/22 [==============================] - 0s 3ms/step - loss: 0.5795 - accuracy: 0.7402 - val_loss: 0.5885 - val_accuracy: 0.7245\n",
      "Epoch 122/200\n",
      "22/22 [==============================] - 0s 3ms/step - loss: 0.5715 - accuracy: 0.7402 - val_loss: 0.5886 - val_accuracy: 0.7245\n",
      "Epoch 123/200\n",
      "22/22 [==============================] - 0s 3ms/step - loss: 0.5742 - accuracy: 0.7402 - val_loss: 0.5885 - val_accuracy: 0.7245\n",
      "Epoch 124/200\n",
      "22/22 [==============================] - 0s 3ms/step - loss: 0.5748 - accuracy: 0.7402 - val_loss: 0.5886 - val_accuracy: 0.7245\n",
      "Epoch 125/200\n",
      "22/22 [==============================] - 0s 3ms/step - loss: 0.5728 - accuracy: 0.7402 - val_loss: 0.5885 - val_accuracy: 0.7245\n",
      "Epoch 126/200\n",
      "22/22 [==============================] - 0s 3ms/step - loss: 0.5768 - accuracy: 0.7402 - val_loss: 0.5885 - val_accuracy: 0.7245\n",
      "Epoch 127/200\n",
      "22/22 [==============================] - 0s 3ms/step - loss: 0.5775 - accuracy: 0.7402 - val_loss: 0.5885 - val_accuracy: 0.7245\n",
      "Epoch 128/200\n",
      "22/22 [==============================] - 0s 3ms/step - loss: 0.5766 - accuracy: 0.7402 - val_loss: 0.5885 - val_accuracy: 0.7245\n",
      "Epoch 129/200\n",
      "22/22 [==============================] - 0s 3ms/step - loss: 0.5758 - accuracy: 0.7402 - val_loss: 0.5885 - val_accuracy: 0.7245\n",
      "Epoch 130/200\n",
      "22/22 [==============================] - 0s 3ms/step - loss: 0.5764 - accuracy: 0.7402 - val_loss: 0.5885 - val_accuracy: 0.7245\n",
      "Epoch 131/200\n",
      "22/22 [==============================] - 0s 3ms/step - loss: 0.5752 - accuracy: 0.7402 - val_loss: 0.5885 - val_accuracy: 0.7245\n",
      "Epoch 132/200\n",
      "22/22 [==============================] - 0s 3ms/step - loss: 0.5776 - accuracy: 0.7402 - val_loss: 0.5885 - val_accuracy: 0.7245\n",
      "Epoch 133/200\n",
      "22/22 [==============================] - 0s 3ms/step - loss: 0.5782 - accuracy: 0.7402 - val_loss: 0.5885 - val_accuracy: 0.7245\n",
      "Epoch 134/200\n",
      "22/22 [==============================] - 0s 3ms/step - loss: 0.5748 - accuracy: 0.7402 - val_loss: 0.5885 - val_accuracy: 0.7245\n",
      "Epoch 135/200\n",
      "22/22 [==============================] - 0s 3ms/step - loss: 0.5786 - accuracy: 0.7402 - val_loss: 0.5885 - val_accuracy: 0.7245\n",
      "Epoch 136/200\n",
      "22/22 [==============================] - 0s 3ms/step - loss: 0.5741 - accuracy: 0.7402 - val_loss: 0.5885 - val_accuracy: 0.7245\n",
      "Epoch 137/200\n",
      "22/22 [==============================] - 0s 3ms/step - loss: 0.5743 - accuracy: 0.7402 - val_loss: 0.5885 - val_accuracy: 0.7245\n",
      "Epoch 138/200\n",
      "22/22 [==============================] - 0s 3ms/step - loss: 0.5726 - accuracy: 0.7402 - val_loss: 0.5885 - val_accuracy: 0.7245\n",
      "Epoch 139/200\n",
      "22/22 [==============================] - 0s 3ms/step - loss: 0.5773 - accuracy: 0.7402 - val_loss: 0.5885 - val_accuracy: 0.7245\n",
      "Epoch 140/200\n",
      "22/22 [==============================] - 0s 3ms/step - loss: 0.5753 - accuracy: 0.7402 - val_loss: 0.5885 - val_accuracy: 0.7245\n",
      "Epoch 141/200\n",
      "22/22 [==============================] - 0s 3ms/step - loss: 0.5766 - accuracy: 0.7402 - val_loss: 0.5885 - val_accuracy: 0.7245\n",
      "Epoch 142/200\n",
      "22/22 [==============================] - 0s 3ms/step - loss: 0.5759 - accuracy: 0.7402 - val_loss: 0.5885 - val_accuracy: 0.7245\n",
      "Epoch 143/200\n",
      "22/22 [==============================] - 0s 3ms/step - loss: 0.5764 - accuracy: 0.7402 - val_loss: 0.5885 - val_accuracy: 0.7245\n",
      "Epoch 144/200\n",
      "22/22 [==============================] - 0s 3ms/step - loss: 0.5754 - accuracy: 0.7402 - val_loss: 0.5885 - val_accuracy: 0.7245\n",
      "Epoch 145/200\n",
      "22/22 [==============================] - 0s 3ms/step - loss: 0.5730 - accuracy: 0.7402 - val_loss: 0.5885 - val_accuracy: 0.7245\n",
      "Epoch 146/200\n",
      "22/22 [==============================] - 0s 3ms/step - loss: 0.5747 - accuracy: 0.7402 - val_loss: 0.5885 - val_accuracy: 0.7245\n",
      "Epoch 147/200\n",
      "22/22 [==============================] - 0s 3ms/step - loss: 0.5748 - accuracy: 0.7402 - val_loss: 0.5885 - val_accuracy: 0.7245\n",
      "Epoch 148/200\n",
      "22/22 [==============================] - 0s 3ms/step - loss: 0.5749 - accuracy: 0.7402 - val_loss: 0.5885 - val_accuracy: 0.7245\n",
      "Epoch 149/200\n",
      "22/22 [==============================] - 0s 3ms/step - loss: 0.5769 - accuracy: 0.7402 - val_loss: 0.5885 - val_accuracy: 0.7245\n",
      "Epoch 150/200\n",
      "22/22 [==============================] - 0s 3ms/step - loss: 0.5739 - accuracy: 0.7402 - val_loss: 0.5885 - val_accuracy: 0.7245\n",
      "Epoch 151/200\n",
      "22/22 [==============================] - 0s 3ms/step - loss: 0.5772 - accuracy: 0.7402 - val_loss: 0.5885 - val_accuracy: 0.7245\n",
      "Epoch 152/200\n",
      "22/22 [==============================] - 0s 3ms/step - loss: 0.5746 - accuracy: 0.7402 - val_loss: 0.5885 - val_accuracy: 0.7245\n",
      "Epoch 153/200\n",
      "22/22 [==============================] - 0s 3ms/step - loss: 0.5747 - accuracy: 0.7402 - val_loss: 0.5885 - val_accuracy: 0.7245\n",
      "Epoch 154/200\n",
      "22/22 [==============================] - 0s 3ms/step - loss: 0.5750 - accuracy: 0.7402 - val_loss: 0.5885 - val_accuracy: 0.7245\n",
      "Epoch 155/200\n",
      "22/22 [==============================] - 0s 3ms/step - loss: 0.5766 - accuracy: 0.7402 - val_loss: 0.5885 - val_accuracy: 0.7245\n",
      "Epoch 156/200\n",
      "22/22 [==============================] - 0s 3ms/step - loss: 0.5747 - accuracy: 0.7402 - val_loss: 0.5885 - val_accuracy: 0.7245\n",
      "Epoch 157/200\n",
      "22/22 [==============================] - 0s 3ms/step - loss: 0.5755 - accuracy: 0.7402 - val_loss: 0.5885 - val_accuracy: 0.7245\n",
      "Epoch 158/200\n",
      "22/22 [==============================] - 0s 3ms/step - loss: 0.5747 - accuracy: 0.7402 - val_loss: 0.5885 - val_accuracy: 0.7245\n",
      "Epoch 159/200\n",
      "22/22 [==============================] - 0s 3ms/step - loss: 0.5770 - accuracy: 0.7402 - val_loss: 0.5885 - val_accuracy: 0.7245\n",
      "Epoch 160/200\n",
      "22/22 [==============================] - 0s 3ms/step - loss: 0.5758 - accuracy: 0.7402 - val_loss: 0.5885 - val_accuracy: 0.7245\n",
      "Epoch 161/200\n",
      "22/22 [==============================] - 0s 3ms/step - loss: 0.5750 - accuracy: 0.7402 - val_loss: 0.5885 - val_accuracy: 0.7245\n",
      "Epoch 162/200\n",
      "22/22 [==============================] - 0s 3ms/step - loss: 0.5736 - accuracy: 0.7402 - val_loss: 0.5886 - val_accuracy: 0.7245\n",
      "Epoch 163/200\n",
      "22/22 [==============================] - 0s 4ms/step - loss: 0.5768 - accuracy: 0.7402 - val_loss: 0.5885 - val_accuracy: 0.7245\n",
      "Epoch 164/200\n",
      "22/22 [==============================] - 0s 3ms/step - loss: 0.5757 - accuracy: 0.7402 - val_loss: 0.5885 - val_accuracy: 0.7245\n",
      "Epoch 165/200\n",
      "22/22 [==============================] - 0s 3ms/step - loss: 0.5756 - accuracy: 0.7402 - val_loss: 0.5885 - val_accuracy: 0.7245\n",
      "Epoch 166/200\n",
      "22/22 [==============================] - 0s 3ms/step - loss: 0.5739 - accuracy: 0.7402 - val_loss: 0.5885 - val_accuracy: 0.7245\n",
      "Epoch 167/200\n",
      "22/22 [==============================] - 0s 3ms/step - loss: 0.5771 - accuracy: 0.7402 - val_loss: 0.5885 - val_accuracy: 0.7245\n",
      "Epoch 168/200\n",
      "22/22 [==============================] - 0s 3ms/step - loss: 0.5742 - accuracy: 0.7402 - val_loss: 0.5885 - val_accuracy: 0.7245\n",
      "Epoch 169/200\n",
      "22/22 [==============================] - 0s 3ms/step - loss: 0.5751 - accuracy: 0.7402 - val_loss: 0.5885 - val_accuracy: 0.7245\n",
      "Epoch 170/200\n",
      "22/22 [==============================] - 0s 3ms/step - loss: 0.5762 - accuracy: 0.7402 - val_loss: 0.5885 - val_accuracy: 0.7245\n",
      "Epoch 171/200\n",
      "22/22 [==============================] - 0s 3ms/step - loss: 0.5760 - accuracy: 0.7402 - val_loss: 0.5886 - val_accuracy: 0.7245\n",
      "Epoch 172/200\n",
      "22/22 [==============================] - 0s 3ms/step - loss: 0.5737 - accuracy: 0.7402 - val_loss: 0.5885 - val_accuracy: 0.7245\n",
      "Epoch 173/200\n"
     ]
    },
    {
     "name": "stdout",
     "output_type": "stream",
     "text": [
      "22/22 [==============================] - 0s 3ms/step - loss: 0.5764 - accuracy: 0.7402 - val_loss: 0.5885 - val_accuracy: 0.7245\n",
      "Epoch 174/200\n",
      "22/22 [==============================] - 0s 3ms/step - loss: 0.5742 - accuracy: 0.7402 - val_loss: 0.5885 - val_accuracy: 0.7245\n",
      "Epoch 175/200\n",
      "22/22 [==============================] - 0s 3ms/step - loss: 0.5776 - accuracy: 0.7402 - val_loss: 0.5885 - val_accuracy: 0.7245\n",
      "Epoch 176/200\n",
      "22/22 [==============================] - 0s 3ms/step - loss: 0.5742 - accuracy: 0.7402 - val_loss: 0.5885 - val_accuracy: 0.7245\n",
      "Epoch 177/200\n",
      "22/22 [==============================] - 0s 3ms/step - loss: 0.5737 - accuracy: 0.7402 - val_loss: 0.5885 - val_accuracy: 0.7245\n",
      "Epoch 178/200\n",
      "22/22 [==============================] - 0s 3ms/step - loss: 0.5736 - accuracy: 0.7402 - val_loss: 0.5885 - val_accuracy: 0.7245\n",
      "Epoch 179/200\n",
      "22/22 [==============================] - 0s 3ms/step - loss: 0.5771 - accuracy: 0.7402 - val_loss: 0.5885 - val_accuracy: 0.7245\n",
      "Epoch 180/200\n",
      "22/22 [==============================] - 0s 3ms/step - loss: 0.5761 - accuracy: 0.7402 - val_loss: 0.5885 - val_accuracy: 0.7245\n",
      "Epoch 181/200\n",
      "22/22 [==============================] - 0s 4ms/step - loss: 0.5761 - accuracy: 0.7402 - val_loss: 0.5885 - val_accuracy: 0.7245\n",
      "Epoch 182/200\n",
      "22/22 [==============================] - 0s 3ms/step - loss: 0.5747 - accuracy: 0.7402 - val_loss: 0.5885 - val_accuracy: 0.7245\n",
      "Epoch 183/200\n",
      "22/22 [==============================] - 0s 3ms/step - loss: 0.5728 - accuracy: 0.7402 - val_loss: 0.5885 - val_accuracy: 0.7245\n",
      "Epoch 184/200\n",
      "22/22 [==============================] - 0s 3ms/step - loss: 0.5737 - accuracy: 0.7402 - val_loss: 0.5885 - val_accuracy: 0.7245\n",
      "Epoch 185/200\n",
      "22/22 [==============================] - 0s 3ms/step - loss: 0.5738 - accuracy: 0.7402 - val_loss: 0.5885 - val_accuracy: 0.7245\n",
      "Epoch 186/200\n",
      "22/22 [==============================] - 0s 3ms/step - loss: 0.5765 - accuracy: 0.7402 - val_loss: 0.5886 - val_accuracy: 0.7245\n",
      "Epoch 187/200\n",
      "22/22 [==============================] - 0s 3ms/step - loss: 0.5758 - accuracy: 0.7402 - val_loss: 0.5885 - val_accuracy: 0.7245\n",
      "Epoch 188/200\n",
      "22/22 [==============================] - 0s 3ms/step - loss: 0.5771 - accuracy: 0.7402 - val_loss: 0.5886 - val_accuracy: 0.7245\n",
      "Epoch 189/200\n",
      "22/22 [==============================] - 0s 3ms/step - loss: 0.5742 - accuracy: 0.7402 - val_loss: 0.5886 - val_accuracy: 0.7245\n",
      "Epoch 190/200\n",
      "22/22 [==============================] - 0s 3ms/step - loss: 0.5750 - accuracy: 0.7402 - val_loss: 0.5885 - val_accuracy: 0.7245\n",
      "Epoch 191/200\n",
      "22/22 [==============================] - 0s 3ms/step - loss: 0.5759 - accuracy: 0.7402 - val_loss: 0.5885 - val_accuracy: 0.7245\n",
      "Epoch 192/200\n",
      "22/22 [==============================] - 0s 3ms/step - loss: 0.5773 - accuracy: 0.7402 - val_loss: 0.5886 - val_accuracy: 0.7245\n",
      "Epoch 193/200\n",
      "22/22 [==============================] - 0s 3ms/step - loss: 0.5739 - accuracy: 0.7402 - val_loss: 0.5886 - val_accuracy: 0.7245\n",
      "Epoch 194/200\n",
      "22/22 [==============================] - 0s 3ms/step - loss: 0.5739 - accuracy: 0.7402 - val_loss: 0.5885 - val_accuracy: 0.7245\n",
      "Epoch 195/200\n",
      "22/22 [==============================] - 0s 3ms/step - loss: 0.5747 - accuracy: 0.7402 - val_loss: 0.5885 - val_accuracy: 0.7245\n",
      "Epoch 196/200\n",
      "22/22 [==============================] - 0s 3ms/step - loss: 0.5750 - accuracy: 0.7402 - val_loss: 0.5885 - val_accuracy: 0.7245\n",
      "Epoch 197/200\n",
      "22/22 [==============================] - 0s 3ms/step - loss: 0.5764 - accuracy: 0.7402 - val_loss: 0.5886 - val_accuracy: 0.7245\n",
      "Epoch 198/200\n",
      "22/22 [==============================] - 0s 3ms/step - loss: 0.5741 - accuracy: 0.7402 - val_loss: 0.5885 - val_accuracy: 0.7245\n",
      "Epoch 199/200\n",
      "22/22 [==============================] - 0s 3ms/step - loss: 0.5758 - accuracy: 0.7402 - val_loss: 0.5886 - val_accuracy: 0.7245\n",
      "Epoch 200/200\n",
      "22/22 [==============================] - 0s 3ms/step - loss: 0.5753 - accuracy: 0.7402 - val_loss: 0.5886 - val_accuracy: 0.7245\n"
     ]
    }
   ],
   "source": [
    "#train the model to gt learning curves\n",
    "batch=[32,64]\n",
    "ep=[50,100,200]\n",
    "\n",
    "history = best_model.fit(\n",
    "    X_train, Y_train,\n",
    "    batch_size=batch[best_run['batch_size']],\n",
    "    epochs=ep[best_run['epochs']],\n",
    "    verbose=1,\n",
    "    validation_data=(X_test, Y_test),\n",
    "    shuffle=False)"
   ]
  },
  {
   "cell_type": "code",
   "execution_count": 9,
   "id": "9bc7cce0",
   "metadata": {},
   "outputs": [
    {
     "name": "stdout",
     "output_type": "stream",
     "text": [
      "Model: \"sequential_6\"\n",
      "_________________________________________________________________\n",
      "Layer (type)                 Output Shape              Param #   \n",
      "=================================================================\n",
      "dense_18 (Dense)             (None, 32)                96        \n",
      "_________________________________________________________________\n",
      "activation_18 (Activation)   (None, 32)                0         \n",
      "_________________________________________________________________\n",
      "dropout_12 (Dropout)         (None, 32)                0         \n",
      "_________________________________________________________________\n",
      "dense_19 (Dense)             (None, 24)                792       \n",
      "_________________________________________________________________\n",
      "activation_19 (Activation)   (None, 24)                0         \n",
      "_________________________________________________________________\n",
      "dropout_13 (Dropout)         (None, 24)                0         \n",
      "_________________________________________________________________\n",
      "dense_20 (Dense)             (None, 2)                 50        \n",
      "_________________________________________________________________\n",
      "activation_20 (Activation)   (None, 2)                 0         \n",
      "=================================================================\n",
      "Total params: 938\n",
      "Trainable params: 938\n",
      "Non-trainable params: 0\n",
      "_________________________________________________________________\n",
      "Saved model to directory\n"
     ]
    }
   ],
   "source": [
    "#save resulting model in callable file\n",
    "best_model.summary()\n",
    "best_model.save('ANN Models/reduced_inputs_model.h5')\n",
    "print(\"Saved model to directory\")"
   ]
  },
  {
   "cell_type": "code",
   "execution_count": 10,
   "id": "56c79368",
   "metadata": {},
   "outputs": [],
   "source": [
    "#Calculate the labels for the test set\n",
    "predictions = best_model.predict(X_test)"
   ]
  },
  {
   "cell_type": "code",
   "execution_count": 11,
   "id": "bafb18b9",
   "metadata": {},
   "outputs": [
    {
     "name": "stdout",
     "output_type": "stream",
     "text": [
      "Cancer is encoded by [[0]] , while Control is encoded by [[1]]\n",
      "[[426   0]\n",
      " [162   0]]\n",
      "              precision    recall  f1-score   support\n",
      "\n",
      "      Cancer       0.72      1.00      0.84       426\n",
      "     Control       0.00      0.00      0.00       162\n",
      "\n",
      "    accuracy                           0.72       588\n",
      "   macro avg       0.36      0.50      0.42       588\n",
      "weighted avg       0.52      0.72      0.61       588\n",
      "\n"
     ]
    },
    {
     "name": "stderr",
     "output_type": "stream",
     "text": [
      "C:\\Users\\Alext\\anaconda3\\envs\\ML\\lib\\site-packages\\sklearn\\metrics\\_classification.py:1248: UndefinedMetricWarning: Precision and F-score are ill-defined and being set to 0.0 in labels with no predicted samples. Use `zero_division` parameter to control this behavior.\n",
      "  _warn_prf(average, modifier, msg_start, len(result))\n",
      "C:\\Users\\Alext\\anaconda3\\envs\\ML\\lib\\site-packages\\sklearn\\metrics\\_classification.py:1248: UndefinedMetricWarning: Precision and F-score are ill-defined and being set to 0.0 in labels with no predicted samples. Use `zero_division` parameter to control this behavior.\n",
      "  _warn_prf(average, modifier, msg_start, len(result))\n",
      "C:\\Users\\Alext\\anaconda3\\envs\\ML\\lib\\site-packages\\sklearn\\metrics\\_classification.py:1248: UndefinedMetricWarning: Precision and F-score are ill-defined and being set to 0.0 in labels with no predicted samples. Use `zero_division` parameter to control this behavior.\n",
      "  _warn_prf(average, modifier, msg_start, len(result))\n"
     ]
    }
   ],
   "source": [
    "#evaluate test performance of the model\n",
    "print('Cancer is encoded by',lb.transform(['Cancer']), ', while Control is encoded by',lb.transform(['Control']))\n",
    "print(confusion_matrix(np.argmax(Y_test, axis=1), np.argmax(predictions, axis=1)))\n",
    "print(classification_report(np.argmax(Y_test, axis=1), np.argmax(predictions, axis=1), target_names=lb.classes_))"
   ]
  },
  {
   "cell_type": "code",
   "execution_count": 12,
   "id": "b8a2835a",
   "metadata": {},
   "outputs": [
    {
     "name": "stdout",
     "output_type": "stream",
     "text": [
      "dict_keys(['loss', 'accuracy', 'val_loss', 'val_accuracy'])\n"
     ]
    }
   ],
   "source": [
    "history_dict = history.history\n",
    "print(history_dict.keys())"
   ]
  },
  {
   "cell_type": "code",
   "execution_count": 13,
   "id": "1b9f8b7c",
   "metadata": {},
   "outputs": [
    {
     "data": {
      "image/png": "[encoded data removed]",
      "text/plain": [
       "<Figure size 432x288 with 1 Axes>"
      ]
     },
     "metadata": {
      "needs_background": "light"
     },
     "output_type": "display_data"
    }
   ],
   "source": [
    "from matplotlib import pyplot as plt\n",
    "# Visualize history\n",
    "# Plot history: Loss\n",
    "plt.plot(history.history['loss'])\n",
    "plt.plot(history.history['val_loss'])\n",
    "plt.title('Model loss')\n",
    "plt.ylabel('Loss value')\n",
    "plt.xlabel('Epoch')\n",
    "plt.legend(['train', 'test'], loc='upper right')\n",
    "plt.show()"
   ]
  },
  {
   "cell_type": "code",
   "execution_count": 14,
   "id": "d68671d2",
   "metadata": {},
   "outputs": [
    {
     "data": {
      "image/png": "[encoded data removed]",
      "text/plain": [
       "<Figure size 432x288 with 1 Axes>"
      ]
     },
     "metadata": {
      "needs_background": "light"
     },
     "output_type": "display_data"
    }
   ],
   "source": [
    "# Plot history: Accuracy\n",
    "plt.plot(history.history['accuracy'])\n",
    "plt.plot(history.history['val_accuracy'])\n",
    "plt.title('Validation accuracy history')\n",
    "plt.ylabel('Accuracy value (%)')\n",
    "plt.xlabel('No. epoch')\n",
    "plt.legend(['train', 'test'], loc='lower right')\n",
    "plt.show()"
   ]
  }
 ],
 "metadata": {
  "kernelspec": {
   "display_name": "Python 3",
   "language": "python",
   "name": "python3"
  },
  "language_info": {
   "codemirror_mode": {
    "name": "ipython",
    "version": 3
   },
   "file_extension": ".py",
   "mimetype": "text/x-python",
   "name": "python",
   "nbconvert_exporter": "python",
   "pygments_lexer": "ipython3",
   "version": "3.8.10"
  }
 },
 "nbformat": 4,
 "nbformat_minor": 5
}
