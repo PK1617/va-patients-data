{
 "cells": [
  {
   "cell_type": "code",
   "execution_count": 32,
   "id": "26a2e677",
   "metadata": {},
   "outputs": [],
   "source": [
    "# load and evaluate a saved model\n",
    "import numpy as np\n",
    "import pandas as pd\n",
    "\n",
    "from sklearn.pipeline import Pipeline\n",
    "from sklearn.model_selection import GridSearchCV, StratifiedKFold, train_test_split, cross_val_score\n",
    "from sklearn.preprocessing import  StandardScaler, LabelEncoder, OneHotEncoder, LabelBinarizer, MinMaxScaler\n",
    "from sklearn.compose import make_column_selector as selector\n",
    "from sklearn.compose import ColumnTransformer\n",
    "from sklearn.metrics import accuracy_score, classification_report, confusion_matrix, roc_curve, roc_auc_score\n",
    "\n",
    "from hyperopt import Trials, STATUS_OK, tpe\n",
    "from hyperas import optim\n",
    "from hyperas.distributions import choice, uniform\n",
    "import tensorflow as tf\n",
    "\n",
    "from keras.models import Sequential,load_model\n",
    "from keras.layers import Dense, LSTM, SimpleRNN, Dropout, GaussianNoise, Activation\n",
    "from keras.optimizers import Adam, SGD\n",
    "from tensorflow.keras.utils import to_categorical \n",
    "from keras.wrappers.scikit_learn import KerasClassifier\n",
    "\n",
    "from numpy import loadtxt\n",
    "\n",
    "from matplotlib import pyplot as plt\n",
    "%matplotlib inline"
   ]
  },
  {
   "cell_type": "code",
   "execution_count": 8,
   "id": "410e1b2c",
   "metadata": {},
   "outputs": [
    {
     "name": "stdout",
     "output_type": "stream",
     "text": [
      "Model: \"sequential_144\"\n",
      "_________________________________________________________________\n",
      "Layer (type)                 Output Shape              Param #   \n",
      "=================================================================\n",
      "dense_432 (Dense)            (None, 32)                864       \n",
      "_________________________________________________________________\n",
      "activation_432 (Activation)  (None, 32)                0         \n",
      "_________________________________________________________________\n",
      "dropout_288 (Dropout)        (None, 32)                0         \n",
      "_________________________________________________________________\n",
      "dense_433 (Dense)            (None, 24)                792       \n",
      "_________________________________________________________________\n",
      "activation_433 (Activation)  (None, 24)                0         \n",
      "_________________________________________________________________\n",
      "dropout_289 (Dropout)        (None, 24)                0         \n",
      "_________________________________________________________________\n",
      "dense_434 (Dense)            (None, 2)                 50        \n",
      "_________________________________________________________________\n",
      "activation_434 (Activation)  (None, 2)                 0         \n",
      "=================================================================\n",
      "Total params: 1,706\n",
      "Trainable params: 1,706\n",
      "Non-trainable params: 0\n",
      "_________________________________________________________________\n"
     ]
    }
   ],
   "source": [
    "model = load_model('ANN Models/all_inputs_balanced_model.h5')\n",
    "model.summary()"
   ]
  },
  {
   "cell_type": "code",
   "execution_count": 9,
   "id": "2e0de83b",
   "metadata": {},
   "outputs": [],
   "source": [
    "#data function for reading and processing the train and test sets\n",
    "#necessary as an input for the optimisation algorithm\n",
    "def data():\n",
    "    #define input processing function\n",
    "    def process_attributes(df, train, test):\n",
    "        \n",
    "        #define and fit the scaler to the full dataset\n",
    "        cs = MinMaxScaler()\n",
    "        cs.fit(df_inputs.select_dtypes(np.number))\n",
    "        \n",
    "        #scale the numerical input variables\n",
    "        trainContinuous = cs.transform(train.select_dtypes(np.number))\n",
    "        testContinuous = cs.transform(test.select_dtypes(np.number))\n",
    "        \n",
    "        if 'Gender' in df.columns:\n",
    "            \n",
    "            #uncomment the code below to accommodate for any categorical columns\n",
    "            zipBinarizer = LabelBinarizer().fit(df[\"Gender\"])\n",
    "            trainCategorical = zipBinarizer.transform(train[\"Gender\"])\n",
    "            testCategorical = zipBinarizer.transform(test[\"Gender\"])\n",
    "\n",
    "            # construct our training and testing data points by concatenating\n",
    "            # the categorical features with the continuous features\n",
    "            trainX = np.hstack([trainContinuous, trainCategorical])\n",
    "            testX = np.hstack([testContinuous, testCategorical])\n",
    "            \n",
    "        else:\n",
    "            trainX=trainContinuous\n",
    "            testX=testContinuous\n",
    "        \n",
    "        # return the concatenated training and testing data\n",
    "        return (trainX, testX)\n",
    "    \n",
    "    #read the excel datasets\n",
    "    df = pd.read_excel('Cleaned_Dataframe.xlsx')\n",
    "    df.set_index('Sample',inplace=True)\n",
    "    features=df.columns\n",
    "\n",
    "    df_cancer = df.loc[df['Status'] == 'Cancer']\n",
    "    df_control = df.loc[df['Status'] == 'Control']\n",
    "\n",
    "    #randomly seelct 538 samples from the cancer population to create an equal sample size \n",
    "    df_cancer_small = df_cancer.sample(n=538, random_state = 100)\n",
    "\n",
    "    df1 = pd.concat([df_cancer_small, df_control])\n",
    "    #separate cancer markers and input data\n",
    "    df_outputs= df1['Status']\n",
    "    df_inputs = df1.drop(['Status'],axis=1)\n",
    "    \n",
    "    X_train, X_test, y_train, y_test = train_test_split(df_inputs, df_outputs, random_state=100, stratify=df_outputs, test_size=0.3)\n",
    "    \n",
    "    #process the input sets\n",
    "    (X_train_sc, X_test_sc) = process_attributes(df_inputs, X_train, X_test)\n",
    "    \n",
    "    #encode the categorical output variables\n",
    "    #encode categorical outputs\n",
    "    lb = LabelBinarizer()\n",
    "    lb.fit(y_train)\n",
    "    train_outputs= lb.transform(y_train)\n",
    "    test_outputs= lb.transform(y_test)\n",
    "\n",
    "    Y_train = tf.keras.utils.to_categorical(train_outputs)\n",
    "    Y_test = tf.keras.utils.to_categorical(test_outputs)\n",
    "\n",
    "    return X_train_sc, Y_train, X_test_sc, Y_test, lb, features"
   ]
  },
  {
   "cell_type": "code",
   "execution_count": 10,
   "id": "d42337f1",
   "metadata": {},
   "outputs": [
    {
     "name": "stdout",
     "output_type": "stream",
     "text": [
      "The model uses the following features: Index(['GP1', 'GP2', 'GP3', 'GP4', 'GP5', 'GP6', 'GP7', 'GP8', 'GP9', 'GP10',\n",
      "       'GP11', 'GP12', 'GP13', 'GP14', 'GP15', 'GP16', 'GP17', 'GP18', 'GP19',\n",
      "       'GP20', 'GP21', 'GP22', 'GP23', 'GP24', 'Gender', 'Age at sample',\n",
      "       'Status'],\n",
      "      dtype='object')\n"
     ]
    }
   ],
   "source": [
    "#call in data function for test evaluation later\n",
    "X_train, Y_train, X_test, Y_test, lb, features = data()\n",
    "print('The model uses the following features:', features)"
   ]
  },
  {
   "cell_type": "code",
   "execution_count": 12,
   "id": "88e07082",
   "metadata": {},
   "outputs": [],
   "source": [
    "#Calculate the labels for the test set\n",
    "predictions = model.predict(X_test)"
   ]
  },
  {
   "cell_type": "code",
   "execution_count": 15,
   "id": "e41525a0",
   "metadata": {},
   "outputs": [
    {
     "name": "stdout",
     "output_type": "stream",
     "text": [
      "Cancer is encoded by [[0]] , while Control is encoded by [[1]]\n",
      "[[105  57]\n",
      " [ 18 143]]\n",
      "              precision    recall  f1-score   support\n",
      "\n",
      "      Cancer       0.85      0.65      0.74       162\n",
      "     Control       0.71      0.89      0.79       161\n",
      "\n",
      "    accuracy                           0.77       323\n",
      "   macro avg       0.78      0.77      0.76       323\n",
      "weighted avg       0.78      0.77      0.76       323\n",
      "\n"
     ]
    }
   ],
   "source": [
    "#evaluate test performance of the model\n",
    "print('Cancer is encoded by',lb.transform(['Cancer']), ', while Control is encoded by',lb.transform(['Control']))\n",
    "print(confusion_matrix(np.argmax(Y_test, axis=1), np.argmax(predictions, axis=1)))\n",
    "print(classification_report(np.argmax(Y_test, axis=1), np.argmax(predictions, axis=1), target_names=lb.classes_))"
   ]
  },
  {
   "cell_type": "code",
   "execution_count": 16,
   "id": "416f64cd",
   "metadata": {},
   "outputs": [],
   "source": [
    "# keep probabilities for the positive outcome only\n",
    "positive_prb = predictions[:, 1]"
   ]
  },
  {
   "cell_type": "code",
   "execution_count": 17,
   "id": "536b19a3",
   "metadata": {},
   "outputs": [
    {
     "data": {
      "text/plain": [
       "array([6.7783356e-01, 2.4089041e-01, 8.4759974e-01, 9.9866855e-01,\n",
       "       1.9061211e-02, 7.8158528e-01, 4.9151981e-01, 3.5794454e-03,\n",
       "       8.2893170e-02, 6.9497335e-01, 6.6504639e-01, 8.5934049e-01,\n",
       "       8.3609301e-01, 8.2098603e-01, 3.9638267e-04, 5.7086078e-03,\n",
       "       8.5920495e-01, 6.2036437e-01, 5.8467919e-09, 5.1199913e-01,\n",
       "       4.4958014e-03, 6.0007813e-05, 8.7916368e-01, 7.4867165e-01,\n",
       "       7.3491621e-01, 4.8363352e-05, 6.6880276e-03, 9.6875452e-02,\n",
       "       2.4022576e-03, 6.3227832e-01, 1.7941023e-01, 1.3787109e-02,\n",
       "       6.4670295e-01, 7.4334824e-01, 7.5498849e-01, 7.4211740e-01,\n",
       "       7.6546258e-01, 3.3417079e-03, 7.5519741e-01, 7.6411653e-01,\n",
       "       5.6990802e-01, 3.9059925e-01, 9.5225525e-01, 7.1177155e-01,\n",
       "       2.0874235e-04, 7.0982361e-03, 8.4561521e-01, 6.8768188e-02,\n",
       "       8.6423010e-01, 6.4226550e-01, 8.5086930e-01, 3.2357529e-02,\n",
       "       2.0373531e-01, 9.5096785e-01, 7.9401833e-01, 8.5416055e-01,\n",
       "       5.7459235e-01, 6.3490927e-01, 8.0206650e-01, 6.5264785e-01,\n",
       "       8.8920557e-01, 8.4748112e-02, 6.9228381e-01, 3.1385180e-06,\n",
       "       8.0789590e-01, 4.8444802e-01, 8.6233300e-01, 8.9003164e-01,\n",
       "       1.0880000e-07, 2.9189442e-03, 7.0686173e-01, 2.5012411e-02,\n",
       "       8.5892004e-01, 4.3780133e-03, 9.8036891e-01, 7.5817716e-01,\n",
       "       8.3451980e-01, 1.3364561e-01, 2.0005999e-03, 1.5976167e-01,\n",
       "       3.5238811e-01, 8.0842721e-01, 9.5215929e-01, 8.9329439e-01,\n",
       "       6.7034787e-01, 2.6519698e-01, 3.1988145e-06, 7.5431949e-01,\n",
       "       6.8136674e-01, 5.2957368e-01, 3.3867282e-01, 6.6871339e-01,\n",
       "       8.4692830e-01, 7.9197311e-01, 6.0428369e-01, 7.0230770e-01,\n",
       "       9.2331767e-01, 3.6930975e-01, 8.9188129e-01, 8.2248598e-01,\n",
       "       5.3494394e-01, 8.3930296e-01, 9.3597347e-01, 7.3758757e-01,\n",
       "       4.6750095e-01, 2.8994507e-01, 6.3951421e-01, 8.9728481e-01,\n",
       "       6.9834955e-06, 9.1754156e-01, 8.7469804e-01, 4.6706482e-06,\n",
       "       7.9645377e-01, 9.6062887e-01, 6.5656655e-02, 2.3902966e-02,\n",
       "       8.1050134e-01, 7.3930384e-03, 7.8212440e-02, 5.8852637e-01,\n",
       "       7.3536257e-03, 5.0554556e-01, 5.6464405e-04, 8.5275316e-01,\n",
       "       2.1659197e-04, 5.9227842e-01, 2.5946431e-02, 7.5059986e-01,\n",
       "       7.2371787e-01, 5.9281465e-02, 8.9616472e-01, 8.5157073e-01,\n",
       "       7.3591369e-01, 6.4929813e-01, 7.4878156e-01, 1.1954229e-05,\n",
       "       1.6437851e-01, 5.5247676e-01, 7.1214533e-01, 4.5966014e-01,\n",
       "       7.3598331e-01, 6.9716620e-01, 7.0485991e-01, 3.2969256e-04,\n",
       "       1.5843523e-06, 1.5142009e-05, 2.2152273e-01, 1.0035409e-01,\n",
       "       9.3599595e-02, 1.5093897e-01, 9.9999595e-01, 9.9166685e-01,\n",
       "       9.9277824e-01, 7.9232174e-01, 9.4484019e-01, 9.9457282e-01,\n",
       "       6.7657691e-01, 5.3116047e-01, 8.3295739e-01, 5.9413546e-01,\n",
       "       8.5718614e-01, 4.9139893e-01, 8.8194728e-01, 7.1695477e-01,\n",
       "       1.5691225e-05, 3.2677516e-01, 7.2332007e-01, 8.7721086e-01,\n",
       "       9.0256298e-01, 5.4243094e-01, 1.1941624e-04, 7.5739733e-04,\n",
       "       2.5970526e-02, 2.5961360e-02, 1.7278295e-02, 1.5619458e-01,\n",
       "       6.9954276e-01, 3.6351228e-01, 7.0225739e-01, 6.1359459e-01,\n",
       "       9.2796111e-01, 4.1711701e-05, 6.3346016e-01, 6.5593714e-01,\n",
       "       1.2021524e-02, 7.3130429e-01, 8.9930564e-01, 9.1631687e-01,\n",
       "       7.6432782e-01, 2.3493940e-02, 8.0597657e-01, 7.2839159e-01,\n",
       "       9.3011546e-01, 8.5123402e-01, 8.7398231e-01, 9.7826630e-01,\n",
       "       9.4541341e-01, 3.2247931e-01, 8.0202115e-01, 3.9406947e-05,\n",
       "       8.8402206e-01, 6.1875165e-01, 1.2839344e-01, 4.2334726e-04,\n",
       "       2.7893016e-03, 9.5411861e-01, 6.2292331e-01, 7.7533376e-01,\n",
       "       5.5548907e-03, 9.0179032e-01, 5.9720963e-01, 3.6568847e-01,\n",
       "       7.5687182e-01, 6.7682528e-01, 5.8362395e-01, 7.7404499e-01,\n",
       "       5.7747430e-01, 8.4028190e-01, 2.8890315e-03, 6.9912040e-01,\n",
       "       6.9842738e-01, 3.6392310e-01, 1.3586648e-02, 9.5049888e-01,\n",
       "       5.4826057e-01, 2.7659307e-05, 6.5363330e-01, 4.7998834e-02,\n",
       "       9.4142628e-01, 1.1274221e-06, 5.0700433e-04, 9.0191233e-01,\n",
       "       7.7533853e-01, 8.4678364e-01, 2.8500597e-05, 1.3546441e-02,\n",
       "       6.2477165e-01, 2.0772102e-04, 4.4760685e-02, 7.8308320e-01,\n",
       "       2.4292089e-01, 8.7012869e-01, 5.8304203e-01, 3.4192947e-04,\n",
       "       7.9881537e-01, 8.7633795e-01, 8.2833433e-01, 2.4127136e-03,\n",
       "       3.1801194e-02, 6.5163589e-01, 1.3811048e-03, 6.9361550e-01,\n",
       "       6.1573827e-01, 7.5113010e-01, 5.1741428e-03, 8.7890631e-01,\n",
       "       6.9711769e-01, 2.4066423e-04, 6.9272006e-03, 1.0790308e-01,\n",
       "       6.4795399e-01, 9.8470438e-01, 7.4577177e-01, 8.1870592e-01,\n",
       "       6.0896558e-01, 2.0098805e-01, 7.3424995e-01, 6.2472105e-01,\n",
       "       9.2098099e-01, 3.1904906e-02, 7.8136528e-01, 7.3405880e-01,\n",
       "       1.3174032e-03, 1.8409912e-03, 2.9448834e-06, 6.6234314e-01,\n",
       "       7.1171975e-01, 7.7985901e-01, 6.2509942e-01, 1.5626917e-02,\n",
       "       7.0533520e-01, 3.1671453e-02, 7.4183089e-01, 8.8260454e-01,\n",
       "       7.9553759e-01, 9.0577698e-01, 7.5075233e-01, 9.8848814e-01,\n",
       "       6.7466789e-01, 5.3655005e-01, 3.5601221e-02, 8.8391936e-01,\n",
       "       9.2203569e-01, 9.2928272e-01, 5.4502454e-02, 1.4177610e-03,\n",
       "       7.5626092e-05, 1.6009424e-02, 7.3011569e-03, 5.2190114e-02,\n",
       "       8.9513993e-01, 7.2545129e-01, 1.0267671e-03, 3.4652982e-02,\n",
       "       8.8391280e-01, 6.9577068e-01, 6.9984716e-01, 7.0517200e-01,\n",
       "       8.0080700e-01, 8.8134360e-01, 5.7541788e-01, 3.4133967e-03,\n",
       "       9.9938405e-01, 8.8365465e-01, 7.9840529e-01, 7.8453118e-01,\n",
       "       4.2837816e-03, 2.3048080e-04, 5.5488115e-03, 9.1019142e-01,\n",
       "       2.4280639e-02, 9.3090153e-01, 1.5205323e-03], dtype=float32)"
      ]
     },
     "execution_count": 17,
     "metadata": {},
     "output_type": "execute_result"
    }
   ],
   "source": [
    "positive_prb"
   ]
  },
  {
   "cell_type": "code",
   "execution_count": 20,
   "id": "1b5ad10f",
   "metadata": {},
   "outputs": [
    {
     "data": {
      "text/plain": [
       "array([1, 0, 0, 1, 0, 0, 1, 0, 0, 1, 1, 1, 0, 1, 0, 0, 1, 0, 0, 1, 0, 0,\n",
       "       1, 0, 1, 0, 0, 0, 0, 1, 1, 0, 0, 0, 1, 1, 1, 0, 1, 1, 1, 0, 1, 1,\n",
       "       0, 0, 0, 0, 1, 1, 1, 0, 0, 0, 1, 1, 1, 1, 1, 1, 1, 0, 0, 0, 1, 1,\n",
       "       1, 1, 0, 0, 0, 1, 1, 1, 0, 1, 0, 0, 0, 0, 1, 0, 1, 1, 1, 0, 0, 0,\n",
       "       0, 1, 0, 0, 1, 0, 0, 1, 1, 1, 1, 1, 0, 1, 1, 0, 1, 0, 1, 1, 0, 0,\n",
       "       0, 1, 1, 1, 0, 0, 0, 0, 0, 0, 0, 1, 0, 1, 0, 0, 0, 1, 1, 0, 0, 1,\n",
       "       1, 0, 1, 0, 1, 1, 0, 0, 1, 1, 1, 0, 0, 0, 0, 0, 0, 1, 1, 1, 1, 1,\n",
       "       1, 0, 1, 1, 1, 1, 1, 1, 0, 0, 0, 1, 1, 1, 1, 1, 0, 0, 0, 0, 0, 0,\n",
       "       0, 0, 1, 0, 1, 0, 1, 0, 0, 1, 1, 1, 0, 0, 1, 1, 1, 0, 1, 1, 1, 1,\n",
       "       1, 0, 1, 1, 1, 0, 0, 1, 1, 1, 0, 1, 0, 0, 1, 0, 1, 1, 1, 1, 0, 0,\n",
       "       1, 1, 0, 1, 1, 0, 1, 0, 1, 0, 0, 1, 1, 1, 0, 0, 0, 0, 0, 1, 1, 1,\n",
       "       0, 0, 1, 1, 1, 0, 0, 1, 0, 0, 1, 1, 0, 0, 1, 0, 0, 0, 0, 1, 0, 0,\n",
       "       0, 0, 1, 1, 1, 0, 1, 1, 0, 0, 0, 1, 1, 1, 0, 0, 1, 0, 1, 1, 1, 1,\n",
       "       1, 1, 0, 1, 0, 0, 0, 1, 0, 0, 0, 0, 0, 1, 1, 0, 0, 0, 1, 1, 1, 0,\n",
       "       0, 0, 1, 0, 1, 1, 0, 1, 0, 0, 0, 1, 0, 1, 0], dtype=int64)"
      ]
     },
     "execution_count": 20,
     "metadata": {},
     "output_type": "execute_result"
    }
   ],
   "source": [
    "np.argmax(Y_test, axis=1)"
   ]
  },
  {
   "cell_type": "code",
   "execution_count": 25,
   "id": "3a752993",
   "metadata": {},
   "outputs": [
    {
     "name": "stdout",
     "output_type": "stream",
     "text": [
      "0.8237098382025918\n"
     ]
    }
   ],
   "source": [
    "lr_auc = roc_auc_score(np.argmax(Y_test, axis=1), positive_prb)\n",
    "print(lr_auc)"
   ]
  },
  {
   "cell_type": "code",
   "execution_count": 26,
   "id": "88d7e7c0",
   "metadata": {},
   "outputs": [],
   "source": [
    "lr_fpr, lr_tpr, _ = roc_curve(np.argmax(Y_test, axis=1), positive_prb)"
   ]
  },
  {
   "cell_type": "code",
   "execution_count": 49,
   "id": "66d997bc",
   "metadata": {},
   "outputs": [],
   "source": [
    "ns_probs = [0 for _ in range(len(np.argmax(Y_test, axis=1)))]\n",
    "ns_fpr, ns_tpr, _ = roc_curve(np.argmax(Y_test, axis=1), ns_probs)"
   ]
  },
  {
   "cell_type": "code",
   "execution_count": 51,
   "id": "5e218fa3",
   "metadata": {},
   "outputs": [
    {
     "data": {
      "text/plain": [
       "Text(0, 0.5, 'Sensitivity')"
      ]
     },
     "execution_count": 51,
     "metadata": {},
     "output_type": "execute_result"
    },
    {
     "data": {
      "image/png": "[encoded data removed]",
      "text/plain": [
       "<Figure size 432x288 with 1 Axes>"
      ]
     },
     "metadata": {
      "needs_background": "light"
     },
     "output_type": "display_data"
    }
   ],
   "source": [
    "fig, axs = plt.subplots() \n",
    "axs.plot(1-lr_fpr, lr_tpr, marker='.', label='ANN')\n",
    "axs.plot(1-ns_fpr, ns_tpr, linestyle='--', label='No Skill')\n",
    "axs.invert_xaxis()\n",
    "axs.set_xlabel(\"Specificity\") \n",
    "axs.set_ylabel(\"Sensitivity\") "
   ]
  },
  {
   "cell_type": "code",
   "execution_count": null,
   "id": "936abda8",
   "metadata": {},
   "outputs": [],
   "source": []
  }
 ],
 "metadata": {
  "kernelspec": {
   "display_name": "Python 3",
   "language": "python",
   "name": "python3"
  },
  "language_info": {
   "codemirror_mode": {
    "name": "ipython",
    "version": 3
   },
   "file_extension": ".py",
   "mimetype": "text/x-python",
   "name": "python",
   "nbconvert_exporter": "python",
   "pygments_lexer": "ipython3",
   "version": "3.8.10"
  }
 },
 "nbformat": 4,
 "nbformat_minor": 5
}
