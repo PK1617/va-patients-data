{
 "cells": [
  {
   "cell_type": "code",
   "execution_count": 7,
   "metadata": {},
   "outputs": [],
   "source": [
    "import numpy as np\n",
    "import pandas as pd\n",
    "from sklearn.pipeline import Pipeline\n",
    "from sklearn.compose import ColumnTransformer\n",
    "from sklearn.model_selection import GridSearchCV\n",
    "from sklearn.preprocessing import StandardScaler, OneHotEncoder\n",
    "from sklearn.ensemble import RandomForestClassifier\n",
    "from sklearn.svm import SVC\n",
    "from sklearn.model_selection import train_test_split, GridSearchCV\n",
    "\n",
    "#from sklearn.metrics import accuracy score\n",
    "\n",
    "from sklearn.compose import make_column_selector as selector\n"
   ]
  },
  {
   "cell_type": "code",
   "execution_count": 5,
   "metadata": {},
   "outputs": [
    {
     "name": "stdout",
     "output_type": "stream",
     "text": [
      "<class 'pandas.core.frame.DataFrame'>\n",
      "Index: 1957 entries, CRC_1924 to CRC_9985\n",
      "Data columns (total 27 columns):\n",
      " #   Column         Non-Null Count  Dtype  \n",
      "---  ------         --------------  -----  \n",
      " 0   GP1            1957 non-null   float64\n",
      " 1   GP2            1957 non-null   float64\n",
      " 2   GP3            1957 non-null   float64\n",
      " 3   GP4            1957 non-null   float64\n",
      " 4   GP5            1957 non-null   float64\n",
      " 5   GP6            1957 non-null   float64\n",
      " 6   GP7            1957 non-null   float64\n",
      " 7   GP8            1957 non-null   float64\n",
      " 8   GP9            1957 non-null   float64\n",
      " 9   GP10           1957 non-null   float64\n",
      " 10  GP11           1957 non-null   float64\n",
      " 11  GP12           1957 non-null   float64\n",
      " 12  GP13           1957 non-null   float64\n",
      " 13  GP14           1957 non-null   float64\n",
      " 14  GP15           1957 non-null   float64\n",
      " 15  GP16           1957 non-null   float64\n",
      " 16  GP17           1957 non-null   float64\n",
      " 17  GP18           1957 non-null   float64\n",
      " 18  GP19           1957 non-null   float64\n",
      " 19  GP20           1957 non-null   float64\n",
      " 20  GP21           1957 non-null   float64\n",
      " 21  GP22           1957 non-null   float64\n",
      " 22  GP23           1957 non-null   float64\n",
      " 23  GP24           1957 non-null   float64\n",
      " 24  Age at sample  1957 non-null   float64\n",
      " 25  Gender         1957 non-null   object \n",
      " 26  Status         1957 non-null   object \n",
      "dtypes: float64(25), object(2)\n",
      "memory usage: 428.1+ KB\n"
     ]
    }
   ],
   "source": [
    "df = pd.read_excel('Cleaned_Dataframe.xlsx')\n",
    "df.set_index('Sample',inplace=True)\n",
    "\n",
    "df.info()\n"
   ]
  },
  {
   "cell_type": "code",
   "execution_count": null,
   "metadata": {},
   "outputs": [],
   "source": [
    "rf_tune = {'algorithm_n_estimators' : [10, 50, 100, 300],\n",
    "          'algorithm_max_depth : [1, 3, 5, None]'}\n",
    "\n",
    "lasso_tune = {'algorithm_alpha': }"
   ]
  },
  {
   "cell_type": "code",
   "execution_count": 8,
   "metadata": {},
   "outputs": [
    {
     "ename": "NameError",
     "evalue": "name 'x_data' is not defined",
     "output_type": "error",
     "traceback": [
      "\u001b[1;31m---------------------------------------------------------------------------\u001b[0m",
      "\u001b[1;31mNameError\u001b[0m                                 Traceback (most recent call last)",
      "\u001b[1;32m<ipython-input-8-879d5b706488>\u001b[0m in \u001b[0;36m<module>\u001b[1;34m\u001b[0m\n\u001b[1;32m----> 1\u001b[1;33m \u001b[0mX_val\u001b[0m\u001b[1;33m,\u001b[0m \u001b[0mX_test\u001b[0m\u001b[1;33m,\u001b[0m \u001b[0my_val\u001b[0m\u001b[1;33m,\u001b[0m \u001b[0my_test\u001b[0m \u001b[1;33m=\u001b[0m \u001b[0mtrain_test_split\u001b[0m\u001b[1;33m(\u001b[0m\u001b[0mx_data\u001b[0m\u001b[1;33m,\u001b[0m \u001b[0my_data\u001b[0m\u001b[1;33m,\u001b[0m \u001b[0mrandom_state\u001b[0m\u001b[1;33m=\u001b[0m\u001b[1;36m100\u001b[0m\u001b[1;33m,\u001b[0m \u001b[0mstratified\u001b[0m\u001b[1;33m=\u001b[0m\u001b[0my_data\u001b[0m\u001b[1;33m,\u001b[0m \u001b[0mtest_size\u001b[0m\u001b[1;33m=\u001b[0m\u001b[1;36m0.3\u001b[0m\u001b[1;33m)\u001b[0m\u001b[1;33m\u001b[0m\u001b[1;33m\u001b[0m\u001b[0m\n\u001b[0m",
      "\u001b[1;31mNameError\u001b[0m: name 'x_data' is not defined"
     ]
    }
   ],
   "source": [
    "X_val, X_test, y_val, y_test = train_test_split(x_data, y_data, random_state=100, stratified=y_data, test_size=0.3)"
   ]
  },
  {
   "cell_type": "code",
   "execution_count": 9,
   "metadata": {},
   "outputs": [],
   "source": [
    "def grid_function(model, parameters, X_val, y_val):\n",
    "    \n",
    "    preprocessor = ColumnTransformer(transformers=[\n",
    "        ('num', StandardScaler(), selector(dtype_exclude=\"object\")),\n",
    "        ('cat', OneHotEncoder(handle_unknown='ignore'), selector(dtype_include=\"object\"))])\n",
    "    \n",
    "    #pipeline = Pipeline([('transformer', StandardScaler()),('algorithm', model)])\n",
    "    pipeline = Pipeline([('preprosessor', preprocessor()),('algorithm', model)])\n",
    "    \n",
    "    search = GridSearchCV(pipeline, parameters, cv=5, n_jobs=-1)\n",
    "    \n",
    "    search.fit(X_val, y_val)\n",
    "\n",
    "    best_model = search.best_estimator_\n",
    "    \n",
    "    return(best_model, search)"
   ]
  },
  {
   "cell_type": "code",
   "execution_count": null,
   "metadata": {},
   "outputs": [],
   "source": [
    "def pred_function(best_model, X_val, y_val):\n",
    "    \n",
    "    scaler = StantardScaler()\n",
    "\n",
    "    X_val_sc = scaler.fit_transform(X_val)\n",
    "    X_test_sc = scaler.transform(X_test)\n",
    "    \n",
    "    best_model.train(X_val_sc, y_val)\n",
    "    \n",
    "    y_pred = best_model.predict(X_test_sc)\n",
    "    \n",
    "    score = accuracy_score(y_test, y_pred)\n",
    "    \n",
    "    return(score)"
   ]
  },
  {
   "cell_type": "code",
   "execution_count": null,
   "metadata": {},
   "outputs": [],
   "source": [
    "SVM = SVC(random_state=0)"
   ]
  },
  {
   "cell_type": "code",
   "execution_count": null,
   "metadata": {},
   "outputs": [],
   "source": [
    "best_model_svm, search_svm = grid_function(SVM, svm_tune, X_val, y_val)"
   ]
  },
  {
   "cell_type": "code",
   "execution_count": null,
   "metadata": {},
   "outputs": [],
   "source": [
    "print('The score in CV for the best estimator: ', search_svm.best_score_)"
   ]
  },
  {
   "cell_type": "code",
   "execution_count": null,
   "metadata": {},
   "outputs": [],
   "source": [
    "print('The score in testing for the best estimator: ', pred_function(best_model_svm, X_val, y_val):)"
   ]
  },
  {
   "cell_type": "code",
   "execution_count": null,
   "metadata": {},
   "outputs": [],
   "source": [
    "best_model_rf, search_rf = grid_function(RF, rf_tune, X_val, y_val)"
   ]
  },
  {
   "cell_type": "code",
   "execution_count": null,
   "metadata": {},
   "outputs": [],
   "source": []
  },
  {
   "cell_type": "code",
   "execution_count": null,
   "metadata": {},
   "outputs": [],
   "source": []
  },
  {
   "cell_type": "code",
   "execution_count": null,
   "metadata": {},
   "outputs": [],
   "source": []
  }
 ],
 "metadata": {
  "kernelspec": {
   "display_name": "Python 3",
   "language": "python",
   "name": "python3"
  },
  "language_info": {
   "codemirror_mode": {
    "name": "ipython",
    "version": 3
   },
   "file_extension": ".py",
   "mimetype": "text/x-python",
   "name": "python",
   "nbconvert_exporter": "python",
   "pygments_lexer": "ipython3",
   "version": "3.6.12"
  }
 },
 "nbformat": 4,
 "nbformat_minor": 4
}
