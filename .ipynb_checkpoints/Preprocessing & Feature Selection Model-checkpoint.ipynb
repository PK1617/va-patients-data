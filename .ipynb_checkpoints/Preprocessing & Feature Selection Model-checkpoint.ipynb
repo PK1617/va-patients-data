{
 "cells": [
  {
   "cell_type": "code",
   "execution_count": 108,
   "metadata": {},
   "outputs": [],
   "source": [
    "import numpy as np\n",
    "import pandas as pd\n",
    "\n",
    "from sklearn.pipeline import Pipeline\n",
    "from sklearn.model_selection import GridSearchCV, StratifiedKFold, train_test_split\n",
    "from sklearn.preprocessing import StandardScaler, OneHotEncoder\n",
    "from sklearn.compose import make_column_selector as selector\n",
    "from sklearn.compose import ColumnTransformer\n",
    "\n",
    "from sklearn.metrics import accuracy_score\n",
    "\n",
    "from sklearn.ensemble import RandomForestClassifier\n",
    "from sklearn.svm import SVC\n",
    "from sklearn import linear_model"
   ]
  },
  {
   "cell_type": "code",
   "execution_count": 59,
   "metadata": {},
   "outputs": [],
   "source": [
    "df = pd.read_excel('Cleaned_Dataframe.xlsx')\n",
    "df.set_index('Sample',inplace=True)\n",
    "\n",
    "#chnging type of data to 'category' from 'object'\n",
    "df.Gender = df.Gender.astype('category')\n",
    "df.Status = df.Status.astype('category')\n",
    "\n",
    "#separate cancer markers and input data\n",
    "df_outputs= df['Status']\n",
    "df_inputs = df.drop('Status',axis=1)"
   ]
  },
  {
   "cell_type": "code",
   "execution_count": 60,
   "metadata": {},
   "outputs": [],
   "source": [
    "X_train, X_test, y_train, y_test = train_test_split(df_inputs, df_outputs, random_state=100, stratify=df_outputs, test_size=0.3)\\"
   ]
  },
  {
   "cell_type": "code",
   "execution_count": 61,
   "metadata": {},
   "outputs": [],
   "source": [
    "def grid_function(model, parameters, X_train, y_train):\n",
    "    \n",
    "    num_transformer = StandardScaler()\n",
    "    cat_transformer = OneHotEncoder(drop='if_binary', handle_unknown='error')\n",
    "    \n",
    "    preprocessor = ColumnTransformer(transformers=[\n",
    "        ('num', num_transformer, selector(dtype_exclude=\"category\")),\n",
    "        ('cat', cat_transformer, selector(dtype_include=\"category\"))])\n",
    "    \n",
    "    pipeline = Pipeline(steps=[('preprosessor', preprocessor),\n",
    "                               ('algorithm', model)])\n",
    "    \n",
    "    search = GridSearchCV(pipeline, parameters, cv=StratifiedKFold(5), n_jobs=-1)\n",
    "    \n",
    "    search.fit(X_train, y_train)\n",
    "\n",
    "    best_model = search.best_estimator_\n",
    "\n",
    "    return(best_model, search)"
   ]
  },
  {
   "cell_type": "code",
   "execution_count": 122,
   "metadata": {},
   "outputs": [],
   "source": [
    "def pred_function(best_model, X_train, y_train, X_test, y_test):\n",
    "    \n",
    "    num_transformer = StandardScaler()\n",
    "    cat_transformer = OneHotEncoder(drop='if_binary', handle_unknown='error')\n",
    "    \n",
    "    preprocessor = ColumnTransformer(transformers=[\n",
    "        ('num', num_transformer, selector(dtype_exclude=\"category\")),\n",
    "        ('cat', cat_transformer, selector(dtype_include=\"category\"))])\n",
    "\n",
    "    X_train_sc = preprocessor.fit_transform(X_train)\n",
    "    X_test_sc = preprocessor.transform(X_test)\n",
    "    \n",
    "    best_model._final_estimator.fit(X_train_sc, y_train)\n",
    "    \n",
    "    y_pred = best_model._final_estimator.predict(X_test_sc)\n",
    "    \n",
    "    score = accuracy_score(y_test, y_pred)\n",
    "    \n",
    "    #incorporate confusion matrix\n",
    "    \n",
    "    return(score)"
   ]
  },
  {
   "cell_type": "code",
   "execution_count": 126,
   "metadata": {},
   "outputs": [],
   "source": [
    "def output(model, tune_parameters, X_train, y_train):\n",
    "    \n",
    "    best_model, search = grid_function(model, tune_parameters, X_train, y_train)\n",
    "    \n",
    "    print (best_model._final_estimator) \n",
    "    print ('The score in CV for the best estimator:', search.best_score_)\n",
    "    print ('The score in testing for the best estimator:', pred_function(best_model, X_train, y_train, X_test, y_test))\n",
    "    #print ('Accurary Score on testing set:', accuracy_score(best_model.predict(X_test),y_test))"
   ]
  },
  {
   "cell_type": "markdown",
   "metadata": {},
   "source": [
    "#### Random Forest Classifier"
   ]
  },
  {
   "cell_type": "code",
   "execution_count": 124,
   "metadata": {},
   "outputs": [],
   "source": [
    "#define parameters\n",
    "rf_tune = { \n",
    "    'algorithm__n_estimators': [200, 500],\n",
    "    'algorithm__max_depth' : [4,5,6,7,8]\n",
    "}\n",
    "\n",
    "rf = RandomForestClassifier(random_state=0)"
   ]
  },
  {
   "cell_type": "code",
   "execution_count": 127,
   "metadata": {},
   "outputs": [
    {
     "name": "stdout",
     "output_type": "stream",
     "text": [
      "RandomForestClassifier(max_depth=5, n_estimators=500, random_state=0)\n",
      "The score in CV for the best estimator: 0.7841141340411413\n",
      "The score in testing for the best estimator: 0.7670068027210885\n",
      "Accurary Score on testing set: 0.7670068027210885\n"
     ]
    }
   ],
   "source": [
    "output(rf, rf_tune, X_train, y_train)"
   ]
  },
  {
   "cell_type": "code",
   "execution_count": 119,
   "metadata": {},
   "outputs": [
    {
     "data": {
      "text/html": [
       "<div>\n",
       "<style scoped>\n",
       "    .dataframe tbody tr th:only-of-type {\n",
       "        vertical-align: middle;\n",
       "    }\n",
       "\n",
       "    .dataframe tbody tr th {\n",
       "        vertical-align: top;\n",
       "    }\n",
       "\n",
       "    .dataframe thead th {\n",
       "        text-align: right;\n",
       "    }\n",
       "</style>\n",
       "<table border=\"1\" class=\"dataframe\">\n",
       "  <thead>\n",
       "    <tr style=\"text-align: right;\">\n",
       "      <th></th>\n",
       "      <th>Importance</th>\n",
       "    </tr>\n",
       "  </thead>\n",
       "  <tbody>\n",
       "    <tr>\n",
       "      <th>GP1</th>\n",
       "      <td>0.015351</td>\n",
       "    </tr>\n",
       "    <tr>\n",
       "      <th>GP2</th>\n",
       "      <td>0.014911</td>\n",
       "    </tr>\n",
       "    <tr>\n",
       "      <th>GP3</th>\n",
       "      <td>0.027179</td>\n",
       "    </tr>\n",
       "    <tr>\n",
       "      <th>GP4</th>\n",
       "      <td>0.085093</td>\n",
       "    </tr>\n",
       "    <tr>\n",
       "      <th>GP5</th>\n",
       "      <td>0.013145</td>\n",
       "    </tr>\n",
       "    <tr>\n",
       "      <th>GP6</th>\n",
       "      <td>0.038484</td>\n",
       "    </tr>\n",
       "    <tr>\n",
       "      <th>GP7</th>\n",
       "      <td>0.012390</td>\n",
       "    </tr>\n",
       "    <tr>\n",
       "      <th>GP8</th>\n",
       "      <td>0.015803</td>\n",
       "    </tr>\n",
       "    <tr>\n",
       "      <th>GP9</th>\n",
       "      <td>0.030703</td>\n",
       "    </tr>\n",
       "    <tr>\n",
       "      <th>GP10</th>\n",
       "      <td>0.014478</td>\n",
       "    </tr>\n",
       "    <tr>\n",
       "      <th>GP11</th>\n",
       "      <td>0.013807</td>\n",
       "    </tr>\n",
       "    <tr>\n",
       "      <th>GP12</th>\n",
       "      <td>0.030467</td>\n",
       "    </tr>\n",
       "    <tr>\n",
       "      <th>GP13</th>\n",
       "      <td>0.025642</td>\n",
       "    </tr>\n",
       "    <tr>\n",
       "      <th>GP14</th>\n",
       "      <td>0.134336</td>\n",
       "    </tr>\n",
       "    <tr>\n",
       "      <th>GP15</th>\n",
       "      <td>0.056818</td>\n",
       "    </tr>\n",
       "    <tr>\n",
       "      <th>GP16</th>\n",
       "      <td>0.025234</td>\n",
       "    </tr>\n",
       "    <tr>\n",
       "      <th>GP17</th>\n",
       "      <td>0.011686</td>\n",
       "    </tr>\n",
       "    <tr>\n",
       "      <th>GP18</th>\n",
       "      <td>0.057436</td>\n",
       "    </tr>\n",
       "    <tr>\n",
       "      <th>GP19</th>\n",
       "      <td>0.013919</td>\n",
       "    </tr>\n",
       "    <tr>\n",
       "      <th>GP20</th>\n",
       "      <td>0.019678</td>\n",
       "    </tr>\n",
       "    <tr>\n",
       "      <th>GP21</th>\n",
       "      <td>0.017137</td>\n",
       "    </tr>\n",
       "    <tr>\n",
       "      <th>GP22</th>\n",
       "      <td>0.014629</td>\n",
       "    </tr>\n",
       "    <tr>\n",
       "      <th>GP23</th>\n",
       "      <td>0.015172</td>\n",
       "    </tr>\n",
       "    <tr>\n",
       "      <th>GP24</th>\n",
       "      <td>0.010854</td>\n",
       "    </tr>\n",
       "    <tr>\n",
       "      <th>Age at sample</th>\n",
       "      <td>0.285149</td>\n",
       "    </tr>\n",
       "    <tr>\n",
       "      <th>Gender</th>\n",
       "      <td>0.000500</td>\n",
       "    </tr>\n",
       "  </tbody>\n",
       "</table>\n",
       "</div>"
      ],
      "text/plain": [
       "               Importance\n",
       "GP1              0.015351\n",
       "GP2              0.014911\n",
       "GP3              0.027179\n",
       "GP4              0.085093\n",
       "GP5              0.013145\n",
       "GP6              0.038484\n",
       "GP7              0.012390\n",
       "GP8              0.015803\n",
       "GP9              0.030703\n",
       "GP10             0.014478\n",
       "GP11             0.013807\n",
       "GP12             0.030467\n",
       "GP13             0.025642\n",
       "GP14             0.134336\n",
       "GP15             0.056818\n",
       "GP16             0.025234\n",
       "GP17             0.011686\n",
       "GP18             0.057436\n",
       "GP19             0.013919\n",
       "GP20             0.019678\n",
       "GP21             0.017137\n",
       "GP22             0.014629\n",
       "GP23             0.015172\n",
       "GP24             0.010854\n",
       "Age at sample    0.285149\n",
       "Gender           0.000500"
      ]
     },
     "execution_count": 119,
     "metadata": {},
     "output_type": "execute_result"
    }
   ],
   "source": [
    "best_model_rf, search_rf = grid_function(rf, rf_tune, X_train, y_train)\n",
    "rf_ranking = pd.DataFrame(best_model_rf._final_estimator.feature_importances_, index=X_val.columns)\n",
    "rf_ranking.columns = ['Importance']\n",
    "rf_ranking"
   ]
  },
  {
   "cell_type": "markdown",
   "metadata": {},
   "source": [
    "#### SVM"
   ]
  },
  {
   "cell_type": "code",
   "execution_count": 120,
   "metadata": {},
   "outputs": [],
   "source": [
    "#define paramters\n",
    "svm_tune = { \n",
    "    'algorithm__kernel': ['linear', 'rbf','poly','sigmoid'],\n",
    "    'algorithm__degree' : [2,3,4],\n",
    "    'algorithm__C':[0, 1.0],\n",
    "}\n",
    "\n",
    "svm = SVC(random_state=0)"
   ]
  },
  {
   "cell_type": "code",
   "execution_count": 121,
   "metadata": {},
   "outputs": [
    {
     "name": "stdout",
     "output_type": "stream",
     "text": [
      "SVC(degree=2, random_state=0)\n",
      "The score in CV for the best estimator: 0.7680769741207698\n",
      "The score in testing for the best estimator: 0.7687074829931972\n",
      "Accurary Score on testing set: 0.7687074829931972\n"
     ]
    }
   ],
   "source": [
    "output(svm, svm_tune, X_train, y_train)"
   ]
  },
  {
   "cell_type": "code",
   "execution_count": null,
   "metadata": {},
   "outputs": [],
   "source": []
  }
 ],
 "metadata": {
  "kernelspec": {
   "display_name": "Python 3",
   "language": "python",
   "name": "python3"
  },
  "language_info": {
   "codemirror_mode": {
    "name": "ipython",
    "version": 3
   },
   "file_extension": ".py",
   "mimetype": "text/x-python",
   "name": "python",
   "nbconvert_exporter": "python",
   "pygments_lexer": "ipython3",
   "version": "3.8.5"
  }
 },
 "nbformat": 4,
 "nbformat_minor": 4
}
