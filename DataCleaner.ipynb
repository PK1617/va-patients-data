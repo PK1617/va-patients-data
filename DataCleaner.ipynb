{
 "cells": [
  {
   "cell_type": "code",
   "execution_count": 1,
   "metadata": {},
   "outputs": [],
   "source": [
    "#Import relevant libraries\n",
    "import pandas as pd\n",
    "import numpy as np\n",
    "from scipy.stats import iqr\n",
    "from scipy.stats.mstats import mquantiles as quartiles\n",
    "\n",
    "from matplotlib import pyplot as plt\n",
    "%matplotlib inline"
   ]
  },
  {
   "cell_type": "code",
   "execution_count": 2,
   "metadata": {},
   "outputs": [
    {
     "data": {
      "text/html": [
       "<div>\n",
       "<style scoped>\n",
       "    .dataframe tbody tr th:only-of-type {\n",
       "        vertical-align: middle;\n",
       "    }\n",
       "\n",
       "    .dataframe tbody tr th {\n",
       "        vertical-align: top;\n",
       "    }\n",
       "\n",
       "    .dataframe thead th {\n",
       "        text-align: right;\n",
       "    }\n",
       "</style>\n",
       "<table border=\"1\" class=\"dataframe\">\n",
       "  <thead>\n",
       "    <tr style=\"text-align: right;\">\n",
       "      <th></th>\n",
       "      <th>SOCCS.ID</th>\n",
       "      <th>Plate</th>\n",
       "      <th>GP1</th>\n",
       "      <th>GP2</th>\n",
       "      <th>GP3</th>\n",
       "      <th>GP4</th>\n",
       "      <th>GP5</th>\n",
       "      <th>GP6</th>\n",
       "      <th>GP7</th>\n",
       "      <th>GP8</th>\n",
       "      <th>...</th>\n",
       "      <th>GP15</th>\n",
       "      <th>GP16</th>\n",
       "      <th>GP17</th>\n",
       "      <th>GP18</th>\n",
       "      <th>GP19</th>\n",
       "      <th>GP20</th>\n",
       "      <th>GP21</th>\n",
       "      <th>GP22</th>\n",
       "      <th>GP23</th>\n",
       "      <th>GP24</th>\n",
       "    </tr>\n",
       "    <tr>\n",
       "      <th>Sample</th>\n",
       "      <th></th>\n",
       "      <th></th>\n",
       "      <th></th>\n",
       "      <th></th>\n",
       "      <th></th>\n",
       "      <th></th>\n",
       "      <th></th>\n",
       "      <th></th>\n",
       "      <th></th>\n",
       "      <th></th>\n",
       "      <th></th>\n",
       "      <th></th>\n",
       "      <th></th>\n",
       "      <th></th>\n",
       "      <th></th>\n",
       "      <th></th>\n",
       "      <th></th>\n",
       "      <th></th>\n",
       "      <th></th>\n",
       "      <th></th>\n",
       "      <th></th>\n",
       "    </tr>\n",
       "  </thead>\n",
       "  <tbody>\n",
       "    <tr>\n",
       "      <th>CRC_1924</th>\n",
       "      <td>268500098</td>\n",
       "      <td>17</td>\n",
       "      <td>0.11</td>\n",
       "      <td>0.34</td>\n",
       "      <td>0.34</td>\n",
       "      <td>27.70</td>\n",
       "      <td>0.30</td>\n",
       "      <td>6.74</td>\n",
       "      <td>0.44</td>\n",
       "      <td>16.95</td>\n",
       "      <td>...</td>\n",
       "      <td>1.17</td>\n",
       "      <td>3.60</td>\n",
       "      <td>0.97</td>\n",
       "      <td>8.23</td>\n",
       "      <td>1.89</td>\n",
       "      <td>0.28</td>\n",
       "      <td>1.16</td>\n",
       "      <td>0.12</td>\n",
       "      <td>2.09</td>\n",
       "      <td>2.23</td>\n",
       "    </tr>\n",
       "    <tr>\n",
       "      <th>CRC_2411</th>\n",
       "      <td>270200098</td>\n",
       "      <td>3</td>\n",
       "      <td>0.76</td>\n",
       "      <td>0.94</td>\n",
       "      <td>0.37</td>\n",
       "      <td>17.82</td>\n",
       "      <td>0.46</td>\n",
       "      <td>4.07</td>\n",
       "      <td>1.37</td>\n",
       "      <td>18.38</td>\n",
       "      <td>...</td>\n",
       "      <td>1.82</td>\n",
       "      <td>3.34</td>\n",
       "      <td>1.31</td>\n",
       "      <td>8.45</td>\n",
       "      <td>1.78</td>\n",
       "      <td>0.63</td>\n",
       "      <td>1.56</td>\n",
       "      <td>0.15</td>\n",
       "      <td>1.94</td>\n",
       "      <td>1.82</td>\n",
       "    </tr>\n",
       "    <tr>\n",
       "      <th>CRC_2432</th>\n",
       "      <td>270700098</td>\n",
       "      <td>3</td>\n",
       "      <td>0.19</td>\n",
       "      <td>0.42</td>\n",
       "      <td>0.41</td>\n",
       "      <td>23.71</td>\n",
       "      <td>0.29</td>\n",
       "      <td>4.82</td>\n",
       "      <td>0.46</td>\n",
       "      <td>18.90</td>\n",
       "      <td>...</td>\n",
       "      <td>1.51</td>\n",
       "      <td>3.37</td>\n",
       "      <td>0.76</td>\n",
       "      <td>8.82</td>\n",
       "      <td>1.61</td>\n",
       "      <td>0.42</td>\n",
       "      <td>0.71</td>\n",
       "      <td>0.07</td>\n",
       "      <td>1.20</td>\n",
       "      <td>1.27</td>\n",
       "    </tr>\n",
       "    <tr>\n",
       "      <th>CRC_2460</th>\n",
       "      <td>271900098</td>\n",
       "      <td>3</td>\n",
       "      <td>0.15</td>\n",
       "      <td>0.36</td>\n",
       "      <td>0.32</td>\n",
       "      <td>17.95</td>\n",
       "      <td>0.24</td>\n",
       "      <td>5.08</td>\n",
       "      <td>0.36</td>\n",
       "      <td>16.90</td>\n",
       "      <td>...</td>\n",
       "      <td>2.04</td>\n",
       "      <td>3.76</td>\n",
       "      <td>0.94</td>\n",
       "      <td>13.53</td>\n",
       "      <td>1.91</td>\n",
       "      <td>0.35</td>\n",
       "      <td>0.93</td>\n",
       "      <td>0.14</td>\n",
       "      <td>2.17</td>\n",
       "      <td>2.65</td>\n",
       "    </tr>\n",
       "    <tr>\n",
       "      <th>CRC_2461</th>\n",
       "      <td>21200005</td>\n",
       "      <td>2</td>\n",
       "      <td>0.09</td>\n",
       "      <td>0.71</td>\n",
       "      <td>0.32</td>\n",
       "      <td>19.23</td>\n",
       "      <td>0.31</td>\n",
       "      <td>5.15</td>\n",
       "      <td>0.85</td>\n",
       "      <td>20.20</td>\n",
       "      <td>...</td>\n",
       "      <td>1.59</td>\n",
       "      <td>3.04</td>\n",
       "      <td>0.86</td>\n",
       "      <td>7.62</td>\n",
       "      <td>1.84</td>\n",
       "      <td>0.42</td>\n",
       "      <td>0.96</td>\n",
       "      <td>0.11</td>\n",
       "      <td>1.37</td>\n",
       "      <td>1.46</td>\n",
       "    </tr>\n",
       "  </tbody>\n",
       "</table>\n",
       "<p>5 rows × 26 columns</p>\n",
       "</div>"
      ],
      "text/plain": [
       "           SOCCS.ID  Plate   GP1   GP2   GP3    GP4   GP5   GP6   GP7    GP8  \\\n",
       "Sample                                                                         \n",
       "CRC_1924  268500098     17  0.11  0.34  0.34  27.70  0.30  6.74  0.44  16.95   \n",
       "CRC_2411  270200098      3  0.76  0.94  0.37  17.82  0.46  4.07  1.37  18.38   \n",
       "CRC_2432  270700098      3  0.19  0.42  0.41  23.71  0.29  4.82  0.46  18.90   \n",
       "CRC_2460  271900098      3  0.15  0.36  0.32  17.95  0.24  5.08  0.36  16.90   \n",
       "CRC_2461   21200005      2  0.09  0.71  0.32  19.23  0.31  5.15  0.85  20.20   \n",
       "\n",
       "          ...  GP15  GP16  GP17   GP18  GP19  GP20  GP21  GP22  GP23  GP24  \n",
       "Sample    ...                                                               \n",
       "CRC_1924  ...  1.17  3.60  0.97   8.23  1.89  0.28  1.16  0.12  2.09  2.23  \n",
       "CRC_2411  ...  1.82  3.34  1.31   8.45  1.78  0.63  1.56  0.15  1.94  1.82  \n",
       "CRC_2432  ...  1.51  3.37  0.76   8.82  1.61  0.42  0.71  0.07  1.20  1.27  \n",
       "CRC_2460  ...  2.04  3.76  0.94  13.53  1.91  0.35  0.93  0.14  2.17  2.65  \n",
       "CRC_2461  ...  1.59  3.04  0.86   7.62  1.84  0.42  0.96  0.11  1.37  1.46  \n",
       "\n",
       "[5 rows x 26 columns]"
      ]
     },
     "execution_count": 2,
     "metadata": {},
     "output_type": "execute_result"
    }
   ],
   "source": [
    "#Read glycan profile dataset and set index to sample IDs\n",
    "df1 = pd.read_excel('Glycan_Data.xlsx')\n",
    "df1.set_index('Sample',inplace=True)\n",
    "\n",
    "#Show dataframe head\n",
    "df1.head()"
   ]
  },
  {
   "cell_type": "code",
   "execution_count": 3,
   "metadata": {},
   "outputs": [
    {
     "data": {
      "text/plain": [
       "1957"
      ]
     },
     "execution_count": 3,
     "metadata": {},
     "output_type": "execute_result"
    }
   ],
   "source": [
    "#Check dataframe index length\n",
    "len(df1.index)"
   ]
  },
  {
   "cell_type": "code",
   "execution_count": 4,
   "metadata": {
    "scrolled": true
   },
   "outputs": [
    {
     "data": {
      "text/html": [
       "<div>\n",
       "<style scoped>\n",
       "    .dataframe tbody tr th:only-of-type {\n",
       "        vertical-align: middle;\n",
       "    }\n",
       "\n",
       "    .dataframe tbody tr th {\n",
       "        vertical-align: top;\n",
       "    }\n",
       "\n",
       "    .dataframe thead th {\n",
       "        text-align: right;\n",
       "    }\n",
       "</style>\n",
       "<table border=\"1\" class=\"dataframe\">\n",
       "  <thead>\n",
       "    <tr style=\"text-align: right;\">\n",
       "      <th></th>\n",
       "      <th>MD</th>\n",
       "      <th>SOCCSID.x</th>\n",
       "      <th>Study.ID</th>\n",
       "      <th>Gender</th>\n",
       "      <th>Age at sample</th>\n",
       "      <th>Status</th>\n",
       "      <th>sample.date</th>\n",
       "      <th>Age at Cancer Diagnosis</th>\n",
       "      <th>BMI combined files</th>\n",
       "      <th>Tumour location</th>\n",
       "      <th>T.stage</th>\n",
       "      <th>N.stage</th>\n",
       "      <th>M.stage</th>\n",
       "      <th>IJCC Stage: All source files</th>\n",
       "    </tr>\n",
       "    <tr>\n",
       "      <th>Sample</th>\n",
       "      <th></th>\n",
       "      <th></th>\n",
       "      <th></th>\n",
       "      <th></th>\n",
       "      <th></th>\n",
       "      <th></th>\n",
       "      <th></th>\n",
       "      <th></th>\n",
       "      <th></th>\n",
       "      <th></th>\n",
       "      <th></th>\n",
       "      <th></th>\n",
       "      <th></th>\n",
       "      <th></th>\n",
       "    </tr>\n",
       "  </thead>\n",
       "  <tbody>\n",
       "    <tr>\n",
       "      <th>CRC_1924</th>\n",
       "      <td>1924</td>\n",
       "      <td>268500098</td>\n",
       "      <td>COGS</td>\n",
       "      <td>M</td>\n",
       "      <td>51.153425</td>\n",
       "      <td>Cancer</td>\n",
       "      <td>1999-10-28</td>\n",
       "      <td>51.0</td>\n",
       "      <td>NaN</td>\n",
       "      <td>Rectum</td>\n",
       "      <td>T2</td>\n",
       "      <td>N0</td>\n",
       "      <td>M0</td>\n",
       "      <td>1.0</td>\n",
       "    </tr>\n",
       "    <tr>\n",
       "      <th>CRC_2411</th>\n",
       "      <td>2411</td>\n",
       "      <td>270200098</td>\n",
       "      <td>COGS</td>\n",
       "      <td>F</td>\n",
       "      <td>49.410959</td>\n",
       "      <td>Cancer</td>\n",
       "      <td>2001-07-11</td>\n",
       "      <td>49.0</td>\n",
       "      <td>NaN</td>\n",
       "      <td>Rectosigmoid</td>\n",
       "      <td>T3</td>\n",
       "      <td>N1</td>\n",
       "      <td>M0</td>\n",
       "      <td>3.0</td>\n",
       "    </tr>\n",
       "    <tr>\n",
       "      <th>CRC_2432</th>\n",
       "      <td>2432</td>\n",
       "      <td>270700098</td>\n",
       "      <td>COGS</td>\n",
       "      <td>M</td>\n",
       "      <td>46.312329</td>\n",
       "      <td>Cancer</td>\n",
       "      <td>2001-08-20</td>\n",
       "      <td>46.0</td>\n",
       "      <td>NaN</td>\n",
       "      <td>Transverse colon</td>\n",
       "      <td>T3</td>\n",
       "      <td>N1</td>\n",
       "      <td>M0</td>\n",
       "      <td>3.0</td>\n",
       "    </tr>\n",
       "    <tr>\n",
       "      <th>CRC_2460</th>\n",
       "      <td>2460</td>\n",
       "      <td>271900098</td>\n",
       "      <td>COGS</td>\n",
       "      <td>F</td>\n",
       "      <td>53.369863</td>\n",
       "      <td>Cancer</td>\n",
       "      <td>2001-10-25</td>\n",
       "      <td>53.0</td>\n",
       "      <td>NaN</td>\n",
       "      <td>Hepatic flexure</td>\n",
       "      <td>T4</td>\n",
       "      <td>N0</td>\n",
       "      <td>M0</td>\n",
       "      <td>2.0</td>\n",
       "    </tr>\n",
       "    <tr>\n",
       "      <th>CRC_2461</th>\n",
       "      <td>2461</td>\n",
       "      <td>21200005</td>\n",
       "      <td>COGS &amp; SOCCS</td>\n",
       "      <td>M</td>\n",
       "      <td>46.136986</td>\n",
       "      <td>Cancer</td>\n",
       "      <td>2001-12-29</td>\n",
       "      <td>45.0</td>\n",
       "      <td>22.53</td>\n",
       "      <td>Rectum</td>\n",
       "      <td>T3</td>\n",
       "      <td>N0</td>\n",
       "      <td>M0</td>\n",
       "      <td>2.0</td>\n",
       "    </tr>\n",
       "  </tbody>\n",
       "</table>\n",
       "</div>"
      ],
      "text/plain": [
       "            MD  SOCCSID.x      Study.ID Gender  Age at sample  Status  \\\n",
       "Sample                                                                  \n",
       "CRC_1924  1924  268500098          COGS      M      51.153425  Cancer   \n",
       "CRC_2411  2411  270200098          COGS      F      49.410959  Cancer   \n",
       "CRC_2432  2432  270700098          COGS      M      46.312329  Cancer   \n",
       "CRC_2460  2460  271900098          COGS      F      53.369863  Cancer   \n",
       "CRC_2461  2461   21200005  COGS & SOCCS      M      46.136986  Cancer   \n",
       "\n",
       "         sample.date  Age at Cancer Diagnosis  BMI combined files  \\\n",
       "Sample                                                              \n",
       "CRC_1924  1999-10-28                     51.0                 NaN   \n",
       "CRC_2411  2001-07-11                     49.0                 NaN   \n",
       "CRC_2432  2001-08-20                     46.0                 NaN   \n",
       "CRC_2460  2001-10-25                     53.0                 NaN   \n",
       "CRC_2461  2001-12-29                     45.0               22.53   \n",
       "\n",
       "          Tumour location  T.stage N.stage M.stage  \\\n",
       "Sample                                               \n",
       "CRC_1924            Rectum      T2      N0      M0   \n",
       "CRC_2411      Rectosigmoid      T3      N1      M0   \n",
       "CRC_2432  Transverse colon      T3      N1      M0   \n",
       "CRC_2460   Hepatic flexure      T4      N0      M0   \n",
       "CRC_2461            Rectum      T3      N0      M0   \n",
       "\n",
       "          IJCC Stage: All source files  \n",
       "Sample                                  \n",
       "CRC_1924                           1.0  \n",
       "CRC_2411                           3.0  \n",
       "CRC_2432                           3.0  \n",
       "CRC_2460                           2.0  \n",
       "CRC_2461                           2.0  "
      ]
     },
     "execution_count": 4,
     "metadata": {},
     "output_type": "execute_result"
    }
   ],
   "source": [
    "#Read patient information dataset and set index to sample IDs\n",
    "df2 = pd.read_excel('Patient_Details.xlsx')\n",
    "df2.set_index('Sample',inplace=True)\n",
    "\n",
    "#Show dataframe head\n",
    "df2.head()"
   ]
  },
  {
   "cell_type": "code",
   "execution_count": 5,
   "metadata": {},
   "outputs": [
    {
     "data": {
      "text/plain": [
       "1959"
      ]
     },
     "execution_count": 5,
     "metadata": {},
     "output_type": "execute_result"
    }
   ],
   "source": [
    "#Check dataframe index length\n",
    "len(df2.index)"
   ]
  },
  {
   "cell_type": "code",
   "execution_count": 6,
   "metadata": {},
   "outputs": [
    {
     "name": "stdout",
     "output_type": "stream",
     "text": [
      "There are 0 duplicate entries in df1\n",
      "There are 2 duplicate entries in df2\n"
     ]
    }
   ],
   "source": [
    "#check for duplicate entries in dataframes\n",
    "print('There are',df1.duplicated().sum(), 'duplicate entries in df1')\n",
    "print('There are',df2.duplicated().sum(), 'duplicate entries in df2')"
   ]
  },
  {
   "cell_type": "code",
   "execution_count": 7,
   "metadata": {},
   "outputs": [],
   "source": [
    "#Drop duplicate entries in df1\n",
    "df1_cleaned=df1.drop_duplicates(keep = 'first')\n",
    "#Drop duplicate entries in df2\n",
    "df2_cleaned=df2.drop_duplicates(keep = 'first')"
   ]
  },
  {
   "cell_type": "code",
   "execution_count": 8,
   "metadata": {},
   "outputs": [
    {
     "name": "stdout",
     "output_type": "stream",
     "text": [
      "There are 0 remaining duplicate entries in df1\n",
      "There are 0 remaining duplicate entries in df2\n"
     ]
    }
   ],
   "source": [
    "#Display remaining duplicate entries\n",
    "print('There are',df1_cleaned.duplicated().sum(), 'remaining duplicate entries in df1')\n",
    "print('There are',df2_cleaned.duplicated().sum(), 'remaining duplicate entries in df2')"
   ]
  },
  {
   "cell_type": "code",
   "execution_count": 9,
   "metadata": {},
   "outputs": [
    {
     "data": {
      "text/plain": [
       "SOCCS                 967\n",
       "COGS & SOCCS          388\n",
       "COGS&SOCCS CONTROL    260\n",
       "COGS CONTROL          198\n",
       "SOCCS CONTROL          81\n",
       "COGS                   61\n",
       "OTHER                   1\n",
       "COGS 2                  1\n",
       "Name: Study.ID, dtype: int64"
      ]
     },
     "execution_count": 9,
     "metadata": {},
     "output_type": "execute_result"
    }
   ],
   "source": [
    "#Display study ID counts\n",
    "df2_cleaned['Study.ID'].value_counts()"
   ]
  },
  {
   "cell_type": "code",
   "execution_count": 10,
   "metadata": {},
   "outputs": [
    {
     "name": "stderr",
     "output_type": "stream",
     "text": [
      "<ipython-input-10-b04477ec3376>:3: SettingWithCopyWarning: \n",
      "A value is trying to be set on a copy of a slice from a DataFrame.\n",
      "Try using .loc[row_indexer,col_indexer] = value instead\n",
      "\n",
      "See the caveats in the documentation: https://pandas.pydata.org/pandas-docs/stable/user_guide/indexing.html#returning-a-view-versus-a-copy\n",
      "  df2_cleaned['SOCCSID.x']=df2_cleaned['SOCCSID.x'].map(str)\n"
     ]
    }
   ],
   "source": [
    "#Change study ID number to a string\n",
    "df1_cleaned['SOCCS.ID']=df1_cleaned['SOCCS.ID'].map(str)\n",
    "df2_cleaned['SOCCSID.x']=df2_cleaned['SOCCSID.x'].map(str)"
   ]
  },
  {
   "cell_type": "code",
   "execution_count": 11,
   "metadata": {},
   "outputs": [
    {
     "name": "stderr",
     "output_type": "stream",
     "text": [
      "<ipython-input-11-fecb084427a6>:2: SettingWithCopyWarning: \n",
      "A value is trying to be set on a copy of a slice from a DataFrame.\n",
      "Try using .loc[row_indexer,col_indexer] = value instead\n",
      "\n",
      "See the caveats in the documentation: https://pandas.pydata.org/pandas-docs/stable/user_guide/indexing.html#returning-a-view-versus-a-copy\n",
      "  df2_cleaned['Status'] = df2_cleaned['Status'].str.capitalize()\n"
     ]
    },
    {
     "data": {
      "text/plain": [
       "Cancer     1419\n",
       "Control     538\n",
       "Name: Status, dtype: int64"
      ]
     },
     "execution_count": 11,
     "metadata": {},
     "output_type": "execute_result"
    }
   ],
   "source": [
    "#Homogeneous capitalisation for cancer marker\n",
    "df2_cleaned['Status'] = df2_cleaned['Status'].str.capitalize()\n",
    "df2_cleaned['Status'].value_counts()"
   ]
  },
  {
   "cell_type": "code",
   "execution_count": 12,
   "metadata": {},
   "outputs": [
    {
     "name": "stdout",
     "output_type": "stream",
     "text": [
      "The minimum age at sample entered is -66.62465753424658 while the maximum age at sample entered is 81.13424657534246\n"
     ]
    }
   ],
   "source": [
    "#Homogeneous capitalisation for cancer marker\n",
    "print('The minimum age at sample entered is' , df2_cleaned['Age at sample'].min(), \n",
    "      'while the maximum age at sample entered is', df2_cleaned['Age at sample'].max())"
   ]
  },
  {
   "cell_type": "code",
   "execution_count": 13,
   "metadata": {},
   "outputs": [
    {
     "name": "stdout",
     "output_type": "stream",
     "text": [
      "The new minimum age at sample entered is 20.747945205479454 while the new maximum age at sample entered is 81.13424657534246\n"
     ]
    },
    {
     "name": "stderr",
     "output_type": "stream",
     "text": [
      "<ipython-input-13-c90c5b39b69a>:2: SettingWithCopyWarning: \n",
      "A value is trying to be set on a copy of a slice from a DataFrame.\n",
      "Try using .loc[row_indexer,col_indexer] = value instead\n",
      "\n",
      "See the caveats in the documentation: https://pandas.pydata.org/pandas-docs/stable/user_guide/indexing.html#returning-a-view-versus-a-copy\n",
      "  df2_cleaned['Age at sample'] = df2_cleaned['Age at sample'].abs()\n"
     ]
    }
   ],
   "source": [
    "#Homogeneous capitalisation for cancer marker\n",
    "df2_cleaned['Age at sample'] = df2_cleaned['Age at sample'].abs()\n",
    "print('The new minimum age at sample entered is' , df2_cleaned['Age at sample'].min(), \n",
    "      'while the new maximum age at sample entered is', df2_cleaned['Age at sample'].max())"
   ]
  },
  {
   "cell_type": "code",
   "execution_count": 14,
   "metadata": {},
   "outputs": [],
   "source": [
    "#df2[\"SOCCSID.x length\"]= df2[\"SOCCSID.x\"].str.len()\n",
    "#df2[\"SOCCSID.x length\"].value_counts()\n",
    "#df1[\"SOCCS.ID length\"]= df1[\"SOCCS.ID\"].str.len()\n",
    "#df1[\"SOCCS.ID length\"].value_counts()"
   ]
  },
  {
   "cell_type": "code",
   "execution_count": 15,
   "metadata": {},
   "outputs": [
    {
     "name": "stderr",
     "output_type": "stream",
     "text": [
      "<ipython-input-15-325791917000>:2: SettingWithCopyWarning: \n",
      "A value is trying to be set on a copy of a slice from a DataFrame.\n",
      "Try using .loc[row_indexer,col_indexer] = value instead\n",
      "\n",
      "See the caveats in the documentation: https://pandas.pydata.org/pandas-docs/stable/user_guide/indexing.html#returning-a-view-versus-a-copy\n",
      "  df2_cleaned[\"Tumour location \"] = df2_cleaned[\"Tumour location \"].str.capitalize()\n"
     ]
    },
    {
     "data": {
      "text/plain": [
       "Rectum                             492\n",
       "Sigmoid colon                      345\n",
       "Caecum                             163\n",
       "Rectosigmoid                       123\n",
       "Transverse colon                    73\n",
       "Ascending colon/hepatic flexure     52\n",
       "Ascending colon                     49\n",
       "Splenic flexure                     40\n",
       "Descending colon                    25\n",
       "Hepatic flexure                      9\n",
       "Hepatic                              5\n",
       "Appendix                             5\n",
       "Colon                                2\n",
       "Colon (not rectum)                   2\n",
       "Left colon                           2\n",
       "Left sided                           1\n",
       "Anus                                 1\n",
       "Liver mets - no op                   1\n",
       "Transverse colon and caecum          1\n",
       "Terminal ileum                       1\n",
       "Mid-descending colon                 1\n",
       "Unknown                              1\n",
       "Distal ascending colon?              1\n",
       "Descending colon (oistal)            1\n",
       "Name: Tumour location , dtype: int64"
      ]
     },
     "execution_count": 15,
     "metadata": {},
     "output_type": "execute_result"
    }
   ],
   "source": [
    "#Capitalize tumour location\n",
    "df2_cleaned[\"Tumour location \"] = df2_cleaned[\"Tumour location \"].str.capitalize()\n",
    "df2_cleaned[\"Tumour location \"].value_counts()"
   ]
  },
  {
   "cell_type": "code",
   "execution_count": 16,
   "metadata": {},
   "outputs": [
    {
     "data": {
      "image/png": "[encoded data removed]",
      "text/plain": [
       "<Figure size 432x288 with 1 Axes>"
      ]
     },
     "metadata": {
      "needs_background": "light"
     },
     "output_type": "display_data"
    }
   ],
   "source": [
    "fig, axs = plt.subplots()\n",
    "df2_cleaned[\"Tumour location \"].value_counts().sort_values().plot(kind = 'barh', ax=axs)\n",
    "axs.set_xlabel(\"Frequency\") \n",
    "fig.savefig('Reporting/Images/Tumour location_whole_preprocessing.png') "
   ]
  },
  {
   "cell_type": "code",
   "execution_count": 17,
   "metadata": {},
   "outputs": [
    {
     "name": "stdout",
     "output_type": "stream",
     "text": [
      "For the patient data:\n",
      "There are 0 missing MD entries\n",
      "There are 0 missing SOCCSID.x entries\n",
      "There are 0 missing Study.ID entries\n",
      "There are 0 missing Gender entries\n",
      "There are 0 missing Age at sample entries\n",
      "There are 0 missing Status entries\n",
      "There are 2 missing sample.date entries\n",
      "There are 539 missing Age at Cancer Diagnosis entries\n",
      "There are 240 missing BMI combined files entries\n",
      "There are 561 missing Tumour location  entries\n",
      "There are 538 missing T.stage entries\n",
      "There are 538 missing N.stage entries\n",
      "There are 538 missing M.stage entries\n",
      "There are 538 missing IJCC Stage: All source files entries\n",
      "For the glycan data:\n",
      "There are 0 missing SOCCS.ID entries\n",
      "There are 0 missing Plate entries\n",
      "There are 0 missing GP1 entries\n",
      "There are 0 missing GP2 entries\n",
      "There are 0 missing GP3 entries\n",
      "There are 0 missing GP4 entries\n",
      "There are 0 missing GP5 entries\n",
      "There are 0 missing GP6 entries\n",
      "There are 0 missing GP7 entries\n",
      "There are 0 missing GP8 entries\n",
      "There are 0 missing GP9 entries\n",
      "There are 0 missing GP10 entries\n",
      "There are 0 missing GP11 entries\n",
      "There are 0 missing GP12 entries\n",
      "There are 0 missing GP13 entries\n",
      "There are 0 missing GP14 entries\n",
      "There are 0 missing GP15 entries\n",
      "There are 0 missing GP16 entries\n",
      "There are 0 missing GP17 entries\n",
      "There are 0 missing GP18 entries\n",
      "There are 0 missing GP19 entries\n",
      "There are 0 missing GP20 entries\n",
      "There are 0 missing GP21 entries\n",
      "There are 0 missing GP22 entries\n",
      "There are 0 missing GP23 entries\n",
      "There are 0 missing GP24 entries\n"
     ]
    }
   ],
   "source": [
    "print('For the patient data:')\n",
    "for i in df2.columns:\n",
    "    print('There are', df2[i].isna().sum() , 'missing', i , 'entries')\n",
    "    \n",
    "print('For the glycan data:')\n",
    "for i in df1.columns:\n",
    "    print('There are', df1[i].isna().sum() , 'missing', i , 'entries')\n"
   ]
  },
  {
   "cell_type": "code",
   "execution_count": 18,
   "metadata": {},
   "outputs": [
    {
     "name": "stdout",
     "output_type": "stream",
     "text": [
      "CRC_6334\n"
     ]
    }
   ],
   "source": [
    "#Find sample without age at cancer diagnosis\n",
    "missing_AgeatCancerDiagnosis=df2[(df2['Age at Cancer Diagnosis'].isna()==True)&(df2['Status']=='Cancer')]\n",
    "print(missing_AgeatCancerDiagnosis.index[0])"
   ]
  },
  {
   "cell_type": "code",
   "execution_count": 19,
   "metadata": {},
   "outputs": [
    {
     "data": {
      "text/html": [
       "<div>\n",
       "<style scoped>\n",
       "    .dataframe tbody tr th:only-of-type {\n",
       "        vertical-align: middle;\n",
       "    }\n",
       "\n",
       "    .dataframe tbody tr th {\n",
       "        vertical-align: top;\n",
       "    }\n",
       "\n",
       "    .dataframe thead tr th {\n",
       "        text-align: left;\n",
       "    }\n",
       "\n",
       "    .dataframe thead tr:last-of-type th {\n",
       "        text-align: right;\n",
       "    }\n",
       "</style>\n",
       "<table border=\"1\" class=\"dataframe\">\n",
       "  <thead>\n",
       "    <tr>\n",
       "      <th></th>\n",
       "      <th colspan=\"8\" halign=\"left\">Age at sample</th>\n",
       "    </tr>\n",
       "    <tr>\n",
       "      <th></th>\n",
       "      <th>count</th>\n",
       "      <th>mean</th>\n",
       "      <th>std</th>\n",
       "      <th>min</th>\n",
       "      <th>25%</th>\n",
       "      <th>50%</th>\n",
       "      <th>75%</th>\n",
       "      <th>max</th>\n",
       "    </tr>\n",
       "    <tr>\n",
       "      <th>Status</th>\n",
       "      <th></th>\n",
       "      <th></th>\n",
       "      <th></th>\n",
       "      <th></th>\n",
       "      <th></th>\n",
       "      <th></th>\n",
       "      <th></th>\n",
       "      <th></th>\n",
       "    </tr>\n",
       "  </thead>\n",
       "  <tbody>\n",
       "    <tr>\n",
       "      <th>Cancer</th>\n",
       "      <td>1419.0</td>\n",
       "      <td>59.70818</td>\n",
       "      <td>10.283021</td>\n",
       "      <td>21.369863</td>\n",
       "      <td>52.475342</td>\n",
       "      <td>60.334247</td>\n",
       "      <td>67.384932</td>\n",
       "      <td>81.134247</td>\n",
       "    </tr>\n",
       "    <tr>\n",
       "      <th>Control</th>\n",
       "      <td>538.0</td>\n",
       "      <td>51.64682</td>\n",
       "      <td>5.880621</td>\n",
       "      <td>20.747945</td>\n",
       "      <td>48.228082</td>\n",
       "      <td>53.065753</td>\n",
       "      <td>56.028767</td>\n",
       "      <td>73.893151</td>\n",
       "    </tr>\n",
       "  </tbody>\n",
       "</table>\n",
       "</div>"
      ],
      "text/plain": [
       "        Age at sample                                                        \\\n",
       "                count      mean        std        min        25%        50%   \n",
       "Status                                                                        \n",
       "Cancer         1419.0  59.70818  10.283021  21.369863  52.475342  60.334247   \n",
       "Control         538.0  51.64682   5.880621  20.747945  48.228082  53.065753   \n",
       "\n",
       "                               \n",
       "               75%        max  \n",
       "Status                         \n",
       "Cancer   67.384932  81.134247  \n",
       "Control  56.028767  73.893151  "
      ]
     },
     "execution_count": 19,
     "metadata": {},
     "output_type": "execute_result"
    }
   ],
   "source": [
    "#Get groups and perform calculations for selected columns\n",
    "\n",
    "Statusgroup=df2_cleaned.groupby('Status')\n",
    "Statusgroup[['Age at sample']].describe()"
   ]
  },
  {
   "cell_type": "code",
   "execution_count": 20,
   "metadata": {},
   "outputs": [
    {
     "data": {
      "text/html": [
       "<div>\n",
       "<style scoped>\n",
       "    .dataframe tbody tr th:only-of-type {\n",
       "        vertical-align: middle;\n",
       "    }\n",
       "\n",
       "    .dataframe tbody tr th {\n",
       "        vertical-align: top;\n",
       "    }\n",
       "\n",
       "    .dataframe thead tr th {\n",
       "        text-align: left;\n",
       "    }\n",
       "\n",
       "    .dataframe thead tr:last-of-type th {\n",
       "        text-align: right;\n",
       "    }\n",
       "</style>\n",
       "<table border=\"1\" class=\"dataframe\">\n",
       "  <thead>\n",
       "    <tr>\n",
       "      <th></th>\n",
       "      <th colspan=\"4\" halign=\"left\">Gender</th>\n",
       "    </tr>\n",
       "    <tr>\n",
       "      <th></th>\n",
       "      <th>count</th>\n",
       "      <th>unique</th>\n",
       "      <th>top</th>\n",
       "      <th>freq</th>\n",
       "    </tr>\n",
       "    <tr>\n",
       "      <th>Status</th>\n",
       "      <th></th>\n",
       "      <th></th>\n",
       "      <th></th>\n",
       "      <th></th>\n",
       "    </tr>\n",
       "  </thead>\n",
       "  <tbody>\n",
       "    <tr>\n",
       "      <th>Cancer</th>\n",
       "      <td>1419</td>\n",
       "      <td>2</td>\n",
       "      <td>M</td>\n",
       "      <td>812</td>\n",
       "    </tr>\n",
       "    <tr>\n",
       "      <th>Control</th>\n",
       "      <td>538</td>\n",
       "      <td>2</td>\n",
       "      <td>M</td>\n",
       "      <td>289</td>\n",
       "    </tr>\n",
       "  </tbody>\n",
       "</table>\n",
       "</div>"
      ],
      "text/plain": [
       "        Gender                \n",
       "         count unique top freq\n",
       "Status                        \n",
       "Cancer    1419      2   M  812\n",
       "Control    538      2   M  289"
      ]
     },
     "execution_count": 20,
     "metadata": {},
     "output_type": "execute_result"
    }
   ],
   "source": [
    "Statusgroup[['Gender']].describe()"
   ]
  },
  {
   "cell_type": "code",
   "execution_count": 21,
   "metadata": {},
   "outputs": [
    {
     "data": {
      "image/png": "[encoded data removed]",
      "text/plain": [
       "<Figure size 432x288 with 1 Axes>"
      ]
     },
     "metadata": {
      "needs_background": "light"
     },
     "output_type": "display_data"
    }
   ],
   "source": [
    "#Check age distribution\n",
    "fig, axs = plt.subplots()\n",
    "df2_cleaned.groupby('Status')['Age at sample'].plot(kind='hist', bins=range(0, 100), ax=axs, legend=True)\n",
    "axs.set_xlabel(\"Age at sample [y]\") \n",
    "fig.savefig('Reporting/Images/Age at sample_Status_preprocessing.png') "
   ]
  },
  {
   "cell_type": "code",
   "execution_count": 22,
   "metadata": {},
   "outputs": [
    {
     "data": {
      "text/html": [
       "<div>\n",
       "<style scoped>\n",
       "    .dataframe tbody tr th:only-of-type {\n",
       "        vertical-align: middle;\n",
       "    }\n",
       "\n",
       "    .dataframe tbody tr th {\n",
       "        vertical-align: top;\n",
       "    }\n",
       "\n",
       "    .dataframe thead th {\n",
       "        text-align: right;\n",
       "    }\n",
       "</style>\n",
       "<table border=\"1\" class=\"dataframe\">\n",
       "  <thead>\n",
       "    <tr style=\"text-align: right;\">\n",
       "      <th></th>\n",
       "      <th>count</th>\n",
       "      <th>unique</th>\n",
       "      <th>top</th>\n",
       "      <th>freq</th>\n",
       "    </tr>\n",
       "    <tr>\n",
       "      <th>Gender</th>\n",
       "      <th></th>\n",
       "      <th></th>\n",
       "      <th></th>\n",
       "      <th></th>\n",
       "    </tr>\n",
       "  </thead>\n",
       "  <tbody>\n",
       "    <tr>\n",
       "      <th>F</th>\n",
       "      <td>856</td>\n",
       "      <td>2</td>\n",
       "      <td>Cancer</td>\n",
       "      <td>607</td>\n",
       "    </tr>\n",
       "    <tr>\n",
       "      <th>M</th>\n",
       "      <td>1101</td>\n",
       "      <td>2</td>\n",
       "      <td>Cancer</td>\n",
       "      <td>812</td>\n",
       "    </tr>\n",
       "  </tbody>\n",
       "</table>\n",
       "</div>"
      ],
      "text/plain": [
       "       count unique     top freq\n",
       "Gender                          \n",
       "F        856      2  Cancer  607\n",
       "M       1101      2  Cancer  812"
      ]
     },
     "execution_count": 22,
     "metadata": {},
     "output_type": "execute_result"
    }
   ],
   "source": [
    "df2_cleaned.groupby('Gender')['Status'].describe()"
   ]
  },
  {
   "cell_type": "code",
   "execution_count": 23,
   "metadata": {},
   "outputs": [
    {
     "data": {
      "text/html": [
       "<div>\n",
       "<style scoped>\n",
       "    .dataframe tbody tr th:only-of-type {\n",
       "        vertical-align: middle;\n",
       "    }\n",
       "\n",
       "    .dataframe tbody tr th {\n",
       "        vertical-align: top;\n",
       "    }\n",
       "\n",
       "    .dataframe thead th {\n",
       "        text-align: right;\n",
       "    }\n",
       "</style>\n",
       "<table border=\"1\" class=\"dataframe\">\n",
       "  <thead>\n",
       "    <tr style=\"text-align: right;\">\n",
       "      <th></th>\n",
       "      <th>count</th>\n",
       "      <th>mean</th>\n",
       "      <th>std</th>\n",
       "      <th>min</th>\n",
       "      <th>25%</th>\n",
       "      <th>50%</th>\n",
       "      <th>75%</th>\n",
       "      <th>max</th>\n",
       "    </tr>\n",
       "    <tr>\n",
       "      <th>Gender</th>\n",
       "      <th></th>\n",
       "      <th></th>\n",
       "      <th></th>\n",
       "      <th></th>\n",
       "      <th></th>\n",
       "      <th></th>\n",
       "      <th></th>\n",
       "      <th></th>\n",
       "    </tr>\n",
       "  </thead>\n",
       "  <tbody>\n",
       "    <tr>\n",
       "      <th>F</th>\n",
       "      <td>856.0</td>\n",
       "      <td>56.800067</td>\n",
       "      <td>10.366405</td>\n",
       "      <td>20.747945</td>\n",
       "      <td>49.775342</td>\n",
       "      <td>55.579452</td>\n",
       "      <td>64.092466</td>\n",
       "      <td>80.871233</td>\n",
       "    </tr>\n",
       "    <tr>\n",
       "      <th>M</th>\n",
       "      <td>1101.0</td>\n",
       "      <td>58.030008</td>\n",
       "      <td>9.594143</td>\n",
       "      <td>21.369863</td>\n",
       "      <td>51.380822</td>\n",
       "      <td>56.800000</td>\n",
       "      <td>65.619178</td>\n",
       "      <td>81.134247</td>\n",
       "    </tr>\n",
       "  </tbody>\n",
       "</table>\n",
       "</div>"
      ],
      "text/plain": [
       "         count       mean        std        min        25%        50%  \\\n",
       "Gender                                                                  \n",
       "F        856.0  56.800067  10.366405  20.747945  49.775342  55.579452   \n",
       "M       1101.0  58.030008   9.594143  21.369863  51.380822  56.800000   \n",
       "\n",
       "              75%        max  \n",
       "Gender                        \n",
       "F       64.092466  80.871233  \n",
       "M       65.619178  81.134247  "
      ]
     },
     "execution_count": 23,
     "metadata": {},
     "output_type": "execute_result"
    }
   ],
   "source": [
    "df2_cleaned.groupby('Gender')['Age at sample'].describe()"
   ]
  },
  {
   "cell_type": "code",
   "execution_count": 24,
   "metadata": {},
   "outputs": [
    {
     "data": {
      "image/png": "[encoded data removed]",
      "text/plain": [
       "<Figure size 432x288 with 1 Axes>"
      ]
     },
     "metadata": {
      "needs_background": "light"
     },
     "output_type": "display_data"
    }
   ],
   "source": [
    "fig, axs = plt.subplots()\n",
    "#df2_cleaned.groupby('Gender')['Age at sample'].plot(kind='hist', bins=range(1, 100), ax=axs, legend=True)\n",
    "df2_cleaned.pivot(columns='Gender')[\"Age at sample\"].plot(kind ='hist', bins=np.linspace(10,90,50), legend=True, stacked=True, ax=axs)\n",
    "axs.set_xlabel(\"Age at sample [y]\") \n",
    "fig.savefig('Reporting/Images/Age at sample_Gender_preprocessing.png') "
   ]
  },
  {
   "cell_type": "code",
   "execution_count": 25,
   "metadata": {},
   "outputs": [
    {
     "data": {
      "image/png": "[encoded data removed]",
      "text/plain": [
       "<Figure size 432x288 with 1 Axes>"
      ]
     },
     "metadata": {
      "needs_background": "light"
     },
     "output_type": "display_data"
    }
   ],
   "source": [
    "fig, axs = plt.subplots() \n",
    "df2_cleaned.pivot(columns='Study.ID')[\"Age at sample\"].plot(kind ='hist', bins=np.linspace(10,90,50), legend=True, stacked=True, ax=axs)\n",
    "axs.set_xlabel(\"Age at sample\") \n",
    "axs.set_ylabel(\"Occurrences\") \n",
    "fig.savefig('Reporting/Images/Age at sample_Study ID_preprocessing.png') "
   ]
  },
  {
   "cell_type": "code",
   "execution_count": 26,
   "metadata": {},
   "outputs": [
    {
     "data": {
      "text/html": [
       "<div>\n",
       "<style scoped>\n",
       "    .dataframe tbody tr th:only-of-type {\n",
       "        vertical-align: middle;\n",
       "    }\n",
       "\n",
       "    .dataframe tbody tr th {\n",
       "        vertical-align: top;\n",
       "    }\n",
       "\n",
       "    .dataframe thead th {\n",
       "        text-align: right;\n",
       "    }\n",
       "</style>\n",
       "<table border=\"1\" class=\"dataframe\">\n",
       "  <thead>\n",
       "    <tr style=\"text-align: right;\">\n",
       "      <th></th>\n",
       "      <th>SOCCS.ID</th>\n",
       "      <th>Plate</th>\n",
       "      <th>GP1</th>\n",
       "      <th>GP2</th>\n",
       "      <th>GP3</th>\n",
       "      <th>GP4</th>\n",
       "      <th>GP5</th>\n",
       "      <th>GP6</th>\n",
       "      <th>GP7</th>\n",
       "      <th>GP8</th>\n",
       "      <th>...</th>\n",
       "      <th>Age at sample</th>\n",
       "      <th>Status</th>\n",
       "      <th>sample.date</th>\n",
       "      <th>Age at Cancer Diagnosis</th>\n",
       "      <th>BMI combined files</th>\n",
       "      <th>Tumour location</th>\n",
       "      <th>T.stage</th>\n",
       "      <th>N.stage</th>\n",
       "      <th>M.stage</th>\n",
       "      <th>IJCC Stage: All source files</th>\n",
       "    </tr>\n",
       "    <tr>\n",
       "      <th>Sample</th>\n",
       "      <th></th>\n",
       "      <th></th>\n",
       "      <th></th>\n",
       "      <th></th>\n",
       "      <th></th>\n",
       "      <th></th>\n",
       "      <th></th>\n",
       "      <th></th>\n",
       "      <th></th>\n",
       "      <th></th>\n",
       "      <th></th>\n",
       "      <th></th>\n",
       "      <th></th>\n",
       "      <th></th>\n",
       "      <th></th>\n",
       "      <th></th>\n",
       "      <th></th>\n",
       "      <th></th>\n",
       "      <th></th>\n",
       "      <th></th>\n",
       "      <th></th>\n",
       "    </tr>\n",
       "  </thead>\n",
       "  <tbody>\n",
       "    <tr>\n",
       "      <th>CRC_1924</th>\n",
       "      <td>268500098</td>\n",
       "      <td>17</td>\n",
       "      <td>0.11</td>\n",
       "      <td>0.34</td>\n",
       "      <td>0.34</td>\n",
       "      <td>27.70</td>\n",
       "      <td>0.30</td>\n",
       "      <td>6.74</td>\n",
       "      <td>0.44</td>\n",
       "      <td>16.95</td>\n",
       "      <td>...</td>\n",
       "      <td>51.153425</td>\n",
       "      <td>Cancer</td>\n",
       "      <td>1999-10-28</td>\n",
       "      <td>51.0</td>\n",
       "      <td>NaN</td>\n",
       "      <td>Rectum</td>\n",
       "      <td>T2</td>\n",
       "      <td>N0</td>\n",
       "      <td>M0</td>\n",
       "      <td>1.0</td>\n",
       "    </tr>\n",
       "    <tr>\n",
       "      <th>CRC_2411</th>\n",
       "      <td>270200098</td>\n",
       "      <td>3</td>\n",
       "      <td>0.76</td>\n",
       "      <td>0.94</td>\n",
       "      <td>0.37</td>\n",
       "      <td>17.82</td>\n",
       "      <td>0.46</td>\n",
       "      <td>4.07</td>\n",
       "      <td>1.37</td>\n",
       "      <td>18.38</td>\n",
       "      <td>...</td>\n",
       "      <td>49.410959</td>\n",
       "      <td>Cancer</td>\n",
       "      <td>2001-07-11</td>\n",
       "      <td>49.0</td>\n",
       "      <td>NaN</td>\n",
       "      <td>Rectosigmoid</td>\n",
       "      <td>T3</td>\n",
       "      <td>N1</td>\n",
       "      <td>M0</td>\n",
       "      <td>3.0</td>\n",
       "    </tr>\n",
       "    <tr>\n",
       "      <th>CRC_2432</th>\n",
       "      <td>270700098</td>\n",
       "      <td>3</td>\n",
       "      <td>0.19</td>\n",
       "      <td>0.42</td>\n",
       "      <td>0.41</td>\n",
       "      <td>23.71</td>\n",
       "      <td>0.29</td>\n",
       "      <td>4.82</td>\n",
       "      <td>0.46</td>\n",
       "      <td>18.90</td>\n",
       "      <td>...</td>\n",
       "      <td>46.312329</td>\n",
       "      <td>Cancer</td>\n",
       "      <td>2001-08-20</td>\n",
       "      <td>46.0</td>\n",
       "      <td>NaN</td>\n",
       "      <td>Transverse colon</td>\n",
       "      <td>T3</td>\n",
       "      <td>N1</td>\n",
       "      <td>M0</td>\n",
       "      <td>3.0</td>\n",
       "    </tr>\n",
       "    <tr>\n",
       "      <th>CRC_2460</th>\n",
       "      <td>271900098</td>\n",
       "      <td>3</td>\n",
       "      <td>0.15</td>\n",
       "      <td>0.36</td>\n",
       "      <td>0.32</td>\n",
       "      <td>17.95</td>\n",
       "      <td>0.24</td>\n",
       "      <td>5.08</td>\n",
       "      <td>0.36</td>\n",
       "      <td>16.90</td>\n",
       "      <td>...</td>\n",
       "      <td>53.369863</td>\n",
       "      <td>Cancer</td>\n",
       "      <td>2001-10-25</td>\n",
       "      <td>53.0</td>\n",
       "      <td>NaN</td>\n",
       "      <td>Hepatic flexure</td>\n",
       "      <td>T4</td>\n",
       "      <td>N0</td>\n",
       "      <td>M0</td>\n",
       "      <td>2.0</td>\n",
       "    </tr>\n",
       "    <tr>\n",
       "      <th>CRC_2461</th>\n",
       "      <td>21200005</td>\n",
       "      <td>2</td>\n",
       "      <td>0.09</td>\n",
       "      <td>0.71</td>\n",
       "      <td>0.32</td>\n",
       "      <td>19.23</td>\n",
       "      <td>0.31</td>\n",
       "      <td>5.15</td>\n",
       "      <td>0.85</td>\n",
       "      <td>20.20</td>\n",
       "      <td>...</td>\n",
       "      <td>46.136986</td>\n",
       "      <td>Cancer</td>\n",
       "      <td>2001-12-29</td>\n",
       "      <td>45.0</td>\n",
       "      <td>22.53</td>\n",
       "      <td>Rectum</td>\n",
       "      <td>T3</td>\n",
       "      <td>N0</td>\n",
       "      <td>M0</td>\n",
       "      <td>2.0</td>\n",
       "    </tr>\n",
       "  </tbody>\n",
       "</table>\n",
       "<p>5 rows × 40 columns</p>\n",
       "</div>"
      ],
      "text/plain": [
       "           SOCCS.ID  Plate   GP1   GP2   GP3    GP4   GP5   GP6   GP7    GP8  \\\n",
       "Sample                                                                         \n",
       "CRC_1924  268500098     17  0.11  0.34  0.34  27.70  0.30  6.74  0.44  16.95   \n",
       "CRC_2411  270200098      3  0.76  0.94  0.37  17.82  0.46  4.07  1.37  18.38   \n",
       "CRC_2432  270700098      3  0.19  0.42  0.41  23.71  0.29  4.82  0.46  18.90   \n",
       "CRC_2460  271900098      3  0.15  0.36  0.32  17.95  0.24  5.08  0.36  16.90   \n",
       "CRC_2461   21200005      2  0.09  0.71  0.32  19.23  0.31  5.15  0.85  20.20   \n",
       "\n",
       "          ...  Age at sample  Status  sample.date  Age at Cancer Diagnosis  \\\n",
       "Sample    ...                                                                \n",
       "CRC_1924  ...      51.153425  Cancer   1999-10-28                     51.0   \n",
       "CRC_2411  ...      49.410959  Cancer   2001-07-11                     49.0   \n",
       "CRC_2432  ...      46.312329  Cancer   2001-08-20                     46.0   \n",
       "CRC_2460  ...      53.369863  Cancer   2001-10-25                     53.0   \n",
       "CRC_2461  ...      46.136986  Cancer   2001-12-29                     45.0   \n",
       "\n",
       "          BMI combined files  Tumour location   T.stage  N.stage  M.stage  \\\n",
       "Sample                                                                      \n",
       "CRC_1924                 NaN            Rectum       T2       N0       M0   \n",
       "CRC_2411                 NaN      Rectosigmoid       T3       N1       M0   \n",
       "CRC_2432                 NaN  Transverse colon       T3       N1       M0   \n",
       "CRC_2460                 NaN   Hepatic flexure       T4       N0       M0   \n",
       "CRC_2461               22.53            Rectum       T3       N0       M0   \n",
       "\n",
       "          IJCC Stage: All source files  \n",
       "Sample                                  \n",
       "CRC_1924                           1.0  \n",
       "CRC_2411                           3.0  \n",
       "CRC_2432                           3.0  \n",
       "CRC_2460                           2.0  \n",
       "CRC_2461                           2.0  \n",
       "\n",
       "[5 rows x 40 columns]"
      ]
     },
     "execution_count": 26,
     "metadata": {},
     "output_type": "execute_result"
    }
   ],
   "source": [
    "#Merge cleaned dataframes and check head\n",
    "merged=df1_cleaned.join(df2_cleaned)\n",
    "merged.head()"
   ]
  },
  {
   "cell_type": "code",
   "execution_count": 27,
   "metadata": {},
   "outputs": [],
   "source": [
    "#List columns for easier selection below\n",
    "#list(merged.columns)"
   ]
  },
  {
   "cell_type": "code",
   "execution_count": 28,
   "metadata": {},
   "outputs": [
    {
     "data": {
      "text/plain": [
       "SOCCS.ID                                object\n",
       "Plate                                    int64\n",
       "GP1                                    float64\n",
       "GP2                                    float64\n",
       "GP3                                    float64\n",
       "GP4                                    float64\n",
       "GP5                                    float64\n",
       "GP6                                    float64\n",
       "GP7                                    float64\n",
       "GP8                                    float64\n",
       "GP9                                    float64\n",
       "GP10                                   float64\n",
       "GP11                                   float64\n",
       "GP12                                   float64\n",
       "GP13                                   float64\n",
       "GP14                                   float64\n",
       "GP15                                   float64\n",
       "GP16                                   float64\n",
       "GP17                                   float64\n",
       "GP18                                   float64\n",
       "GP19                                   float64\n",
       "GP20                                   float64\n",
       "GP21                                   float64\n",
       "GP22                                   float64\n",
       "GP23                                   float64\n",
       "GP24                                   float64\n",
       "MD                                       int64\n",
       "SOCCSID.x                               object\n",
       "Study.ID                                object\n",
       "Gender                                  object\n",
       "Age at sample                          float64\n",
       "Status                                  object\n",
       "sample.date                     datetime64[ns]\n",
       "Age at Cancer Diagnosis                float64\n",
       "BMI combined files                     float64\n",
       "Tumour location                         object\n",
       "T.stage                                 object\n",
       "N.stage                                 object\n",
       "M.stage                                 object\n",
       "IJCC Stage: All source files           float64\n",
       "dtype: object"
      ]
     },
     "execution_count": 28,
     "metadata": {},
     "output_type": "execute_result"
    }
   ],
   "source": [
    "#Check data type of each column\n",
    "merged.dtypes"
   ]
  },
  {
   "cell_type": "code",
   "execution_count": 29,
   "metadata": {},
   "outputs": [
    {
     "name": "stdout",
     "output_type": "stream",
     "text": [
      "The merged dataframe has 1957 rows, while the cleaned glycan profile dataframe had 1957 , and the cleaned patient dataframe had 1957\n"
     ]
    }
   ],
   "source": [
    "#Sanity check row numbers\n",
    "print('The merged dataframe has',len(merged.index),'rows, while the cleaned glycan profile dataframe had',len(df1_cleaned.index),', and the cleaned patient dataframe had',len(merged.index))"
   ]
  },
  {
   "cell_type": "code",
   "execution_count": 30,
   "metadata": {},
   "outputs": [
    {
     "name": "stdout",
     "output_type": "stream",
     "text": [
      "SOCCS.ID                          0\n",
      "Plate                             0\n",
      "GP1                               0\n",
      "GP2                               0\n",
      "GP3                               0\n",
      "GP4                               0\n",
      "GP5                               0\n",
      "GP6                               0\n",
      "GP7                               0\n",
      "GP8                               0\n",
      "GP9                               0\n",
      "GP10                              0\n",
      "GP11                              0\n",
      "GP12                              0\n",
      "GP13                              0\n",
      "GP14                              0\n",
      "GP15                              0\n",
      "GP16                              0\n",
      "GP17                              0\n",
      "GP18                              0\n",
      "GP19                              0\n",
      "GP20                              0\n",
      "GP21                              0\n",
      "GP22                              0\n",
      "GP23                              0\n",
      "GP24                              0\n",
      "MD                                0\n",
      "SOCCSID.x                         0\n",
      "Study.ID                          0\n",
      "Gender                            0\n",
      "Age at sample                     0\n",
      "Status                            0\n",
      "sample.date                       2\n",
      "Age at Cancer Diagnosis         539\n",
      "BMI combined files              239\n",
      "Tumour location                 561\n",
      "T.stage                         538\n",
      "N.stage                         538\n",
      "M.stage                         538\n",
      "IJCC Stage: All source files    538\n",
      "dtype: int64\n"
     ]
    }
   ],
   "source": [
    "#Get groups\n",
    "print(merged.isna().sum())\n",
    "#Statusgroup2=merged.groupby(['Status','Gender'])\n",
    "#print(Statusgroup2.groups)\n",
    "#Statusgroup2[['GP1', 'GP2', 'GP3', 'BMI combined files']].agg([np.mean,np.std, np.median, iqr])"
   ]
  },
  {
   "cell_type": "code",
   "execution_count": 31,
   "metadata": {},
   "outputs": [
    {
     "name": "stdout",
     "output_type": "stream",
     "text": [
      "          count       mean        std    min     25%     50%    75%     max  \\\n",
      "Status                                                                        \n",
      "Cancer   1268.0  27.571956  18.283695  15.73  23.545  26.190  29.07  416.23   \n",
      "Control   450.0  32.254556  35.530983  15.27  25.860  27.895  30.70  416.23   \n",
      "\n",
      "         original count  \n",
      "Status                   \n",
      "Cancer             1419  \n",
      "Control             538  \n",
      "There are 151.0 missing cancer patient BMIs and 88.0 missing control BMIs\n"
     ]
    }
   ],
   "source": [
    "merged_BMI_describe=merged.groupby('Status')['BMI combined files'].describe()\n",
    "merged_BMI_describe['original count']=merged['Status'].value_counts()\n",
    "print(merged_BMI_describe)\n",
    "#print(merged['Status'].value_counts())\n",
    "print('There are', merged_BMI_describe['original count']['Cancer']-merged_BMI_describe['count']['Cancer'], 'missing cancer patient BMIs',\n",
    "     'and', merged_BMI_describe['original count']['Control']-merged_BMI_describe['count']['Control'], 'missing control BMIs' )"
   ]
  },
  {
   "cell_type": "code",
   "execution_count": 32,
   "metadata": {},
   "outputs": [],
   "source": [
    "#Extract sub-databases for Cancer and Control\n",
    "merged_cancer=merged[(merged['Status']=='Cancer')]\n",
    "merged_control=merged[(merged['Status']=='Control')]"
   ]
  },
  {
   "cell_type": "code",
   "execution_count": 33,
   "metadata": {},
   "outputs": [
    {
     "data": {
      "image/png": "[encoded data removed]",
      "text/plain": [
       "<Figure size 432x288 with 1 Axes>"
      ]
     },
     "metadata": {
      "needs_background": "light"
     },
     "output_type": "display_data"
    }
   ],
   "source": [
    "fig, axs = plt.subplots() \n",
    "merged_cancer['IJCC Stage: All source files'].value_counts(sort=True, ascending=True).plot(kind = 'barh', ax=axs)\n",
    "axs.set_xlabel(\"Occurrences\") \n",
    "axs.set_ylabel(\"Cancer stage\") \n",
    "fig.savefig('Reporting/Images/IJCC Stage_whole_preprocessing.png') "
   ]
  },
  {
   "cell_type": "code",
   "execution_count": 34,
   "metadata": {},
   "outputs": [
    {
     "data": {
      "text/plain": [
       "Study.ID\n",
       "COGS                  AxesSubplot(0.125,0.125;0.775x0.755)\n",
       "COGS & SOCCS          AxesSubplot(0.125,0.125;0.775x0.755)\n",
       "COGS 2                AxesSubplot(0.125,0.125;0.775x0.755)\n",
       "COGS&SOCCS CONTROL    AxesSubplot(0.125,0.125;0.775x0.755)\n",
       "OTHER                 AxesSubplot(0.125,0.125;0.775x0.755)\n",
       "SOCCS                 AxesSubplot(0.125,0.125;0.775x0.755)\n",
       "Name: Age at sample, dtype: object"
      ]
     },
     "execution_count": 34,
     "metadata": {},
     "output_type": "execute_result"
    },
    {
     "data": {
      "image/png": "[encoded data removed]",
      "text/plain": [
       "<Figure size 432x288 with 1 Axes>"
      ]
     },
     "metadata": {
      "needs_background": "light"
     },
     "output_type": "display_data"
    }
   ],
   "source": [
    "merged_cancer.groupby('Study.ID')['Age at sample'].plot(kind='hist', bins=range(1, 100), legend=True)"
   ]
  },
  {
   "cell_type": "code",
   "execution_count": 35,
   "metadata": {},
   "outputs": [
    {
     "name": "stderr",
     "output_type": "stream",
     "text": [
      "<ipython-input-35-d6712a77a1d9>:1: UserWarning: Boolean Series key will be reindexed to match DataFrame index.\n",
      "  merged_cancer[(merged['Study.ID']=='COGS & SOCCS')]['Age at sample'].plot(kind='hist', bins=range(1, 100), legend=True)\n"
     ]
    },
    {
     "data": {
      "text/plain": [
       "<AxesSubplot:ylabel='Frequency'>"
      ]
     },
     "execution_count": 35,
     "metadata": {},
     "output_type": "execute_result"
    },
    {
     "data": {
      "image/png": "[encoded data removed]",
      "text/plain": [
       "<Figure size 432x288 with 1 Axes>"
      ]
     },
     "metadata": {
      "needs_background": "light"
     },
     "output_type": "display_data"
    }
   ],
   "source": [
    "merged_cancer[(merged['Study.ID']=='COGS & SOCCS')]['Age at sample'].plot(kind='hist', bins=range(1, 100), legend=True)"
   ]
  },
  {
   "cell_type": "code",
   "execution_count": 36,
   "metadata": {},
   "outputs": [
    {
     "data": {
      "text/plain": [
       "Study.ID\n",
       "COGS CONTROL          AxesSubplot(0.125,0.125;0.775x0.755)\n",
       "COGS&SOCCS CONTROL    AxesSubplot(0.125,0.125;0.775x0.755)\n",
       "SOCCS CONTROL         AxesSubplot(0.125,0.125;0.775x0.755)\n",
       "Name: Age at sample, dtype: object"
      ]
     },
     "execution_count": 36,
     "metadata": {},
     "output_type": "execute_result"
    },
    {
     "data": {
      "image/png": "[encoded data removed]",
      "text/plain": [
       "<Figure size 432x288 with 1 Axes>"
      ]
     },
     "metadata": {
      "needs_background": "light"
     },
     "output_type": "display_data"
    }
   ],
   "source": [
    "merged_control.groupby('Study.ID')['Age at sample'].plot(kind='hist', bins=range(1, 100), legend=True)"
   ]
  },
  {
   "cell_type": "code",
   "execution_count": 37,
   "metadata": {},
   "outputs": [
    {
     "name": "stdout",
     "output_type": "stream",
     "text": [
      "Sample\n",
      "CRC_1924    0.153425\n",
      "CRC_2411    0.410959\n",
      "CRC_2432    0.312329\n",
      "CRC_2460    0.369863\n",
      "CRC_2461    1.136986\n",
      "              ...   \n",
      "CRC_9964    0.753425\n",
      "CRC_9965    1.361644\n",
      "CRC_9966    0.745205\n",
      "CRC_9984    1.334247\n",
      "CRC_9985    1.035616\n",
      "Name: Years since diagnosis, Length: 1419, dtype: float64\n"
     ]
    },
    {
     "name": "stderr",
     "output_type": "stream",
     "text": [
      "<ipython-input-37-f02593d37e56>:1: SettingWithCopyWarning: \n",
      "A value is trying to be set on a copy of a slice from a DataFrame.\n",
      "Try using .loc[row_indexer,col_indexer] = value instead\n",
      "\n",
      "See the caveats in the documentation: https://pandas.pydata.org/pandas-docs/stable/user_guide/indexing.html#returning-a-view-versus-a-copy\n",
      "  merged_cancer['Years since diagnosis']=merged_cancer['Age at sample']-merged_cancer['Age at Cancer Diagnosis']\n"
     ]
    }
   ],
   "source": [
    "merged_cancer['Years since diagnosis']=merged_cancer['Age at sample']-merged_cancer['Age at Cancer Diagnosis']\n",
    "print(merged_cancer['Years since diagnosis'])"
   ]
  },
  {
   "cell_type": "code",
   "execution_count": 38,
   "metadata": {},
   "outputs": [
    {
     "data": {
      "image/png": "[encoded data removed]",
      "text/plain": [
       "<Figure size 432x288 with 1 Axes>"
      ]
     },
     "metadata": {
      "needs_background": "light"
     },
     "output_type": "display_data"
    }
   ],
   "source": [
    "fig, axs = plt.subplots() \n",
    "\n",
    "merged_cancer.pivot(columns='IJCC Stage: All source files')[\"Years since diagnosis\"].plot(kind ='hist', bins=np.linspace(0,6,50), legend=True, stacked=True, ax=axs)\n",
    "axs.set_xlabel(\"Years since diagnosis\") \n",
    "axs.set_ylabel(\"Occurrences\") \n",
    "fig.savefig('Reporting/Images/Years since diagnosis_whole_preprocessing.png') "
   ]
  },
  {
   "cell_type": "code",
   "execution_count": 39,
   "metadata": {},
   "outputs": [
    {
     "data": {
      "text/html": [
       "<div>\n",
       "<style scoped>\n",
       "    .dataframe tbody tr th:only-of-type {\n",
       "        vertical-align: middle;\n",
       "    }\n",
       "\n",
       "    .dataframe tbody tr th {\n",
       "        vertical-align: top;\n",
       "    }\n",
       "\n",
       "    .dataframe thead th {\n",
       "        text-align: right;\n",
       "    }\n",
       "</style>\n",
       "<table border=\"1\" class=\"dataframe\">\n",
       "  <thead>\n",
       "    <tr style=\"text-align: right;\">\n",
       "      <th></th>\n",
       "      <th>GP1</th>\n",
       "      <th>GP2</th>\n",
       "      <th>GP3</th>\n",
       "      <th>GP4</th>\n",
       "      <th>GP5</th>\n",
       "      <th>GP6</th>\n",
       "      <th>GP7</th>\n",
       "      <th>GP8</th>\n",
       "      <th>GP9</th>\n",
       "      <th>GP10</th>\n",
       "      <th>...</th>\n",
       "      <th>GP18</th>\n",
       "      <th>GP19</th>\n",
       "      <th>GP20</th>\n",
       "      <th>GP21</th>\n",
       "      <th>GP22</th>\n",
       "      <th>GP23</th>\n",
       "      <th>GP24</th>\n",
       "      <th>Gender</th>\n",
       "      <th>Age at sample</th>\n",
       "      <th>Status</th>\n",
       "    </tr>\n",
       "    <tr>\n",
       "      <th>Sample</th>\n",
       "      <th></th>\n",
       "      <th></th>\n",
       "      <th></th>\n",
       "      <th></th>\n",
       "      <th></th>\n",
       "      <th></th>\n",
       "      <th></th>\n",
       "      <th></th>\n",
       "      <th></th>\n",
       "      <th></th>\n",
       "      <th></th>\n",
       "      <th></th>\n",
       "      <th></th>\n",
       "      <th></th>\n",
       "      <th></th>\n",
       "      <th></th>\n",
       "      <th></th>\n",
       "      <th></th>\n",
       "      <th></th>\n",
       "      <th></th>\n",
       "      <th></th>\n",
       "    </tr>\n",
       "  </thead>\n",
       "  <tbody>\n",
       "    <tr>\n",
       "      <th>CRC_1924</th>\n",
       "      <td>0.11</td>\n",
       "      <td>0.34</td>\n",
       "      <td>0.34</td>\n",
       "      <td>27.70</td>\n",
       "      <td>0.30</td>\n",
       "      <td>6.74</td>\n",
       "      <td>0.44</td>\n",
       "      <td>16.95</td>\n",
       "      <td>9.42</td>\n",
       "      <td>4.66</td>\n",
       "      <td>...</td>\n",
       "      <td>8.23</td>\n",
       "      <td>1.89</td>\n",
       "      <td>0.28</td>\n",
       "      <td>1.16</td>\n",
       "      <td>0.12</td>\n",
       "      <td>2.09</td>\n",
       "      <td>2.23</td>\n",
       "      <td>M</td>\n",
       "      <td>51.153425</td>\n",
       "      <td>Cancer</td>\n",
       "    </tr>\n",
       "    <tr>\n",
       "      <th>CRC_2411</th>\n",
       "      <td>0.76</td>\n",
       "      <td>0.94</td>\n",
       "      <td>0.37</td>\n",
       "      <td>17.82</td>\n",
       "      <td>0.46</td>\n",
       "      <td>4.07</td>\n",
       "      <td>1.37</td>\n",
       "      <td>18.38</td>\n",
       "      <td>11.75</td>\n",
       "      <td>4.77</td>\n",
       "      <td>...</td>\n",
       "      <td>8.45</td>\n",
       "      <td>1.78</td>\n",
       "      <td>0.63</td>\n",
       "      <td>1.56</td>\n",
       "      <td>0.15</td>\n",
       "      <td>1.94</td>\n",
       "      <td>1.82</td>\n",
       "      <td>F</td>\n",
       "      <td>49.410959</td>\n",
       "      <td>Cancer</td>\n",
       "    </tr>\n",
       "    <tr>\n",
       "      <th>CRC_2432</th>\n",
       "      <td>0.19</td>\n",
       "      <td>0.42</td>\n",
       "      <td>0.41</td>\n",
       "      <td>23.71</td>\n",
       "      <td>0.29</td>\n",
       "      <td>4.82</td>\n",
       "      <td>0.46</td>\n",
       "      <td>18.90</td>\n",
       "      <td>10.87</td>\n",
       "      <td>4.57</td>\n",
       "      <td>...</td>\n",
       "      <td>8.82</td>\n",
       "      <td>1.61</td>\n",
       "      <td>0.42</td>\n",
       "      <td>0.71</td>\n",
       "      <td>0.07</td>\n",
       "      <td>1.20</td>\n",
       "      <td>1.27</td>\n",
       "      <td>M</td>\n",
       "      <td>46.312329</td>\n",
       "      <td>Cancer</td>\n",
       "    </tr>\n",
       "    <tr>\n",
       "      <th>CRC_2460</th>\n",
       "      <td>0.15</td>\n",
       "      <td>0.36</td>\n",
       "      <td>0.32</td>\n",
       "      <td>17.95</td>\n",
       "      <td>0.24</td>\n",
       "      <td>5.08</td>\n",
       "      <td>0.36</td>\n",
       "      <td>16.90</td>\n",
       "      <td>7.54</td>\n",
       "      <td>5.75</td>\n",
       "      <td>...</td>\n",
       "      <td>13.53</td>\n",
       "      <td>1.91</td>\n",
       "      <td>0.35</td>\n",
       "      <td>0.93</td>\n",
       "      <td>0.14</td>\n",
       "      <td>2.17</td>\n",
       "      <td>2.65</td>\n",
       "      <td>F</td>\n",
       "      <td>53.369863</td>\n",
       "      <td>Cancer</td>\n",
       "    </tr>\n",
       "    <tr>\n",
       "      <th>CRC_2461</th>\n",
       "      <td>0.09</td>\n",
       "      <td>0.71</td>\n",
       "      <td>0.32</td>\n",
       "      <td>19.23</td>\n",
       "      <td>0.31</td>\n",
       "      <td>5.15</td>\n",
       "      <td>0.85</td>\n",
       "      <td>20.20</td>\n",
       "      <td>12.67</td>\n",
       "      <td>5.14</td>\n",
       "      <td>...</td>\n",
       "      <td>7.62</td>\n",
       "      <td>1.84</td>\n",
       "      <td>0.42</td>\n",
       "      <td>0.96</td>\n",
       "      <td>0.11</td>\n",
       "      <td>1.37</td>\n",
       "      <td>1.46</td>\n",
       "      <td>M</td>\n",
       "      <td>46.136986</td>\n",
       "      <td>Cancer</td>\n",
       "    </tr>\n",
       "  </tbody>\n",
       "</table>\n",
       "<p>5 rows × 27 columns</p>\n",
       "</div>"
      ],
      "text/plain": [
       "           GP1   GP2   GP3    GP4   GP5   GP6   GP7    GP8    GP9  GP10  ...  \\\n",
       "Sample                                                                   ...   \n",
       "CRC_1924  0.11  0.34  0.34  27.70  0.30  6.74  0.44  16.95   9.42  4.66  ...   \n",
       "CRC_2411  0.76  0.94  0.37  17.82  0.46  4.07  1.37  18.38  11.75  4.77  ...   \n",
       "CRC_2432  0.19  0.42  0.41  23.71  0.29  4.82  0.46  18.90  10.87  4.57  ...   \n",
       "CRC_2460  0.15  0.36  0.32  17.95  0.24  5.08  0.36  16.90   7.54  5.75  ...   \n",
       "CRC_2461  0.09  0.71  0.32  19.23  0.31  5.15  0.85  20.20  12.67  5.14  ...   \n",
       "\n",
       "           GP18  GP19  GP20  GP21  GP22  GP23  GP24  Gender  Age at sample  \\\n",
       "Sample                                                                       \n",
       "CRC_1924   8.23  1.89  0.28  1.16  0.12  2.09  2.23       M      51.153425   \n",
       "CRC_2411   8.45  1.78  0.63  1.56  0.15  1.94  1.82       F      49.410959   \n",
       "CRC_2432   8.82  1.61  0.42  0.71  0.07  1.20  1.27       M      46.312329   \n",
       "CRC_2460  13.53  1.91  0.35  0.93  0.14  2.17  2.65       F      53.369863   \n",
       "CRC_2461   7.62  1.84  0.42  0.96  0.11  1.37  1.46       M      46.136986   \n",
       "\n",
       "          Status  \n",
       "Sample            \n",
       "CRC_1924  Cancer  \n",
       "CRC_2411  Cancer  \n",
       "CRC_2432  Cancer  \n",
       "CRC_2460  Cancer  \n",
       "CRC_2461  Cancer  \n",
       "\n",
       "[5 rows x 27 columns]"
      ]
     },
     "execution_count": 39,
     "metadata": {},
     "output_type": "execute_result"
    }
   ],
   "source": [
    "#Select desired columns for cleaned dataset excel, and check head\n",
    "glycans_list=[\"GP1\",\"GP2\",\"GP3\",\"GP4\",\"GP5\",\"GP6\",\"GP7\",\"GP8\",\"GP9\",\"GP10\",\"GP11\",\"GP12\",\n",
    "            \"GP13\",\"GP14\",\"GP15\",\"GP16\",\"GP17\",\"GP18\",\"GP19\",\"GP20\",\"GP21\",\"GP22\",\"GP23\",\"GP24\"]\n",
    "other_inputs_list=[\"Gender\"]\n",
    "category_marker=[\"Status\"]\n",
    "postprocessing_categories_list=['Tumour location ','T.stage','N.stage','M.stage','IJCC Stage: All source files']\n",
    "\n",
    "df3=merged[glycans_list+other_inputs_list+[\"Age at sample\"]+category_marker]\n",
    "df3_WithoutAge=merged[glycans_list+other_inputs_list+category_marker]\n",
    "df3.head()"
   ]
  },
  {
   "cell_type": "code",
   "execution_count": 40,
   "metadata": {},
   "outputs": [],
   "source": [
    "#Export final dataframe to Excel sheet in this folder and the SurvNet one\n",
    "with pd.ExcelWriter('Cleaned_Dataframe.xlsx') as writer:\n",
    "    df3.to_excel(writer, sheet_name='Combined', index = True)\n",
    "with pd.ExcelWriter('Cleaned_Dataframe_WithoutAge.xlsx') as writer:\n",
    "    df3_WithoutAge.to_excel(writer, sheet_name='Combined', index = True)\n",
    "with pd.ExcelWriter('SurvNet-glycans/Cleaned_Dataframe.xlsx') as writer:\n",
    "    df3.to_excel(writer, sheet_name='Combined', index = True)"
   ]
  }
 ],
 "metadata": {
  "kernelspec": {
   "display_name": "Python 3",
   "language": "python",
   "name": "python3"
  },
  "language_info": {
   "codemirror_mode": {
    "name": "ipython",
    "version": 3
   },
   "file_extension": ".py",
   "mimetype": "text/x-python",
   "name": "python",
   "nbconvert_exporter": "python",
   "pygments_lexer": "ipython3",
   "version": "3.8.10"
  }
 },
 "nbformat": 4,
 "nbformat_minor": 4
}
